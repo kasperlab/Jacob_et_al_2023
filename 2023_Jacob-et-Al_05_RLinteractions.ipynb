{
 "cells": [
  {
   "cell_type": "markdown",
   "metadata": {},
   "source": [
    "# Specify the comparison of interest"
   ]
  },
  {
   "cell_type": "code",
   "execution_count": 1,
   "metadata": {
    "ExecuteTime": {
     "end_time": "2023-03-28T18:29:15.269486Z",
     "start_time": "2023-03-28T18:29:15.261900Z"
    }
   },
   "outputs": [],
   "source": [
    "#Specify which populations to use as source and target populations\n",
    "#In this example major cell types were used as sourced populations and fibroblast subpopulations as target populations\n",
    "#Choose between \"major\", \"fib\", \"epi\" (relevant due to naming of input files)\n",
    "source='major'\n",
    "target='fib'\n",
    "\n",
    "#Specify the appendix to use in file names\n",
    "name_appendix='MajorToFib'\n",
    "\n",
    "#We performed this analysis individually for the following 9 combinations: \n",
    "#\"MajorToFib\", \"MajorToEpi\", \"MajorToMajor\"\n",
    "#\"FibToFib\", \"FibToEpi\", \"FibToMajor\"\n",
    "#\"EpiToFib\", \"EpiToEpi\", \"EpiToMajor\""
   ]
  },
  {
   "cell_type": "markdown",
   "metadata": {},
   "source": [
    "# Load libraries and custom scripts"
   ]
  },
  {
   "cell_type": "code",
   "execution_count": 2,
   "metadata": {
    "ExecuteTime": {
     "end_time": "2023-03-28T18:29:15.302295Z",
     "start_time": "2023-03-28T18:29:15.276653Z"
    }
   },
   "outputs": [],
   "source": [
    "#Set path\n",
    "path='/mnt/c/Users/User/Jacob-Et-Al/Interaction-Analysis'"
   ]
  },
  {
   "cell_type": "code",
   "execution_count": 3,
   "metadata": {
    "ExecuteTime": {
     "end_time": "2023-03-28T18:29:15.911455Z",
     "start_time": "2023-03-28T18:29:15.307214Z"
    }
   },
   "outputs": [],
   "source": [
    "#Load the required packages\n",
    "import sys\n",
    "sys.path.append(path)\n",
    "import os\n",
    "from IPython.display import clear_output\n",
    "import pandas as pd\n",
    "import numpy as np\n",
    "import time\n",
    "import multiprocessing\n",
    "from functools import partial\n",
    "import statsmodels.stats.multitest as st"
   ]
  },
  {
   "cell_type": "code",
   "execution_count": 4,
   "metadata": {
    "ExecuteTime": {
     "end_time": "2023-03-28T18:29:15.923595Z",
     "start_time": "2023-03-28T18:29:15.914706Z"
    }
   },
   "outputs": [],
   "source": [
    "#Choose input and output folder\n",
    "path_input = os.path.join(path, 'data_input')\n",
    "path_output = os.path.join(path, 'data_output')"
   ]
  },
  {
   "cell_type": "code",
   "execution_count": 5,
   "metadata": {
    "ExecuteTime": {
     "end_time": "2023-03-28T18:29:15.948608Z",
     "start_time": "2023-03-28T18:29:15.929636Z"
    }
   },
   "outputs": [],
   "source": [
    "#Define function that can finds receptor-ligand pairs between specified cluster pairs and quantify them\n",
    "def quantify_LigRec(gene_dict_Lig, gene_dict_Rec, pairs):\n",
    "    output_df = pd.DataFrame(index = gene_dict_Lig.keys(), columns = gene_dict_Rec.keys())\n",
    "    output_dict = {}\n",
    "    output_quant_df = pd.DataFrame(index = gene_dict_Lig.keys(), columns = gene_dict_Rec.keys())\n",
    "    output_quant_dict = {}\n",
    "    \n",
    "    for kLig in gene_dict_Lig.keys():\n",
    "        #This list comprehension is necessary to include only genes that are also present in the RL pairs dataframe. Otherwise throws an error\n",
    "        lig_exp = np.intersect1d(pairs.index,gene_dict_Lig[kLig])\n",
    "        \n",
    "        for kRec in gene_dict_Rec.keys():\n",
    "            rec_exp = gene_dict_Rec[kRec]\n",
    "            rl = []\n",
    "            for l in lig_exp:\n",
    "                for r in rec_exp:\n",
    "                    if np.any(pairs.loc[l] == r):\n",
    "                        rl.append((l,r))\n",
    "            \n",
    "            output_df.loc[kLig,kRec] = rl\n",
    "            output_dict['%s - %s' % (kLig,kRec)] = rl\n",
    "            output_quant_df.loc[kLig,kRec] = len(rl)\n",
    "            output_quant_dict['%s - %s' % (kLig,kRec)] = len(rl)\n",
    "            \n",
    "    return output_df, output_dict, output_quant_df, output_quant_dict"
   ]
  },
  {
   "cell_type": "code",
   "execution_count": 6,
   "metadata": {
    "ExecuteTime": {
     "end_time": "2023-03-28T18:29:15.966522Z",
     "start_time": "2023-03-28T18:29:15.952721Z"
    }
   },
   "outputs": [],
   "source": [
    "#Define function that can simulate receptor-ligand pairs between specified cluster pairs and quantify them\n",
    "def sim_lig_rec(dict_rec, dict_lig, pairs, repeats):\n",
    "    if __name__=='__main__':\n",
    "        output = {}\n",
    "        pool = multiprocessing.Pool(processes=12)\n",
    "        for Lig_ix, kLig in enumerate(dict_lig.keys()):\n",
    "            nLig = len(dict_lig[kLig])\n",
    "            start_source = time.time()\n",
    "            for Rec_ix, kRec in enumerate(dict_rec.keys()):\n",
    "                nRec = len(dict_rec[kRec])\n",
    "                print('Ligand cluster: {}/{}, Receptor cluster: {}/{}'.format(Lig_ix+1, len(dict_lig.keys()), Rec_ix+1, len(dict_rec.keys())))\n",
    "                output_tmp = list(pool.map(partial(mapFunction, pairs=pairs, nLig=nLig, nRec=nRec), range(repeats)))\n",
    "                output['%s - %s' % (kLig,kRec)] = output_tmp\n",
    "            print('time per source cluster ',time.time()-start_source)\n",
    "        return output"
   ]
  },
  {
   "cell_type": "code",
   "execution_count": 7,
   "metadata": {
    "ExecuteTime": {
     "end_time": "2023-03-28T18:29:15.988642Z",
     "start_time": "2023-03-28T18:29:15.971513Z"
    }
   },
   "outputs": [],
   "source": [
    "#Define function that can calculate p-value by comparing observed and simulated receptor-ligand pairs\n",
    "def sim_lig_reg_get_p(obs, sim):\n",
    "    output_df = pd.DataFrame()\n",
    "    for k in sim.keys():\n",
    "        if k in obs.keys():\n",
    "            output_df.loc[k.split(' - ')[0], k.split(' - ')[1]] = np.sum(np.array(sim[k])>=obs[k]) / len(sim[k])        \n",
    "    return output_df"
   ]
  },
  {
   "cell_type": "code",
   "execution_count": 8,
   "metadata": {
    "ExecuteTime": {
     "end_time": "2023-03-28T18:29:16.005275Z",
     "start_time": "2023-03-28T18:29:15.993417Z"
    }
   },
   "outputs": [],
   "source": [
    "#Define function for running other functions with parallel computing\n",
    "def mapFunction(repeatIndx, pairs, nLig, nRec):\n",
    "    gLig = np.random.choice(np.unique(pairs.index), size=nLig, replace=False)\n",
    "    gRec = np.random.choice(np.unique(pairs.values), size=nRec, replace=False)\n",
    "    return len(np.intersect1d(pairs.loc[gLig].values, gRec))"
   ]
  },
  {
   "cell_type": "markdown",
   "metadata": {},
   "source": [
    "# Import receptor-ligand database"
   ]
  },
  {
   "cell_type": "code",
   "execution_count": 9,
   "metadata": {
    "ExecuteTime": {
     "end_time": "2023-03-28T18:29:16.055460Z",
     "start_time": "2023-03-28T18:29:16.009803Z"
    },
    "scrolled": true
   },
   "outputs": [
    {
     "name": "stdout",
     "output_type": "stream",
     "text": [
      "PairsLigRec_mm\n",
      "             Ligand.ApprovedSymbol_mm Receptor.ApprovedSymbol_mm\n",
      "A2m-Lrp1                          A2m                       Lrp1\n",
      "Aanat-Mtnr1a                    Aanat                     Mtnr1a\n",
      "Aanat-Mtnr1b                    Aanat                     Mtnr1b\n",
      "Ace-Agtr2                         Ace                      Agtr2\n",
      "Ace-Bdkrb2                        Ace                     Bdkrb2\n",
      "...                               ...                        ...\n",
      "Sbpl-Tlr4                        Sbpl                       Tlr4\n",
      "Sbp-Tlr5                          Sbp                       Tlr5\n",
      "Sbpl-Tlr5                        Sbpl                       Tlr5\n",
      "Sbp-Tlr6                          Sbp                       Tlr6\n",
      "Sbpl-Tlr6                        Sbpl                       Tlr6\n",
      "\n",
      "[3424 rows x 2 columns]\n"
     ]
    }
   ],
   "source": [
    "#Import receptor-ligand database\n",
    "#The curated receptor-ligand databases from (Ramilowski et al., 2015) and (Cabello-Aguilar et al., 2020) were combined to obtain an even more complete set of potential interactions\n",
    "PairsLigRec_mm = pd.read_csv(os.path.join(path_input,'LRdb_combined.csv'), sep = ';', header = 0, index_col=0, low_memory = False, squeeze = True)\n",
    "print('PairsLigRec_mm')\n",
    "print(PairsLigRec_mm)"
   ]
  },
  {
   "cell_type": "code",
   "execution_count": 10,
   "metadata": {
    "ExecuteTime": {
     "end_time": "2023-03-28T18:29:16.071526Z",
     "start_time": "2023-03-28T18:29:16.064578Z"
    }
   },
   "outputs": [],
   "source": [
    "#Extract all ligands or receptors, respectively\n",
    "ligands=PairsLigRec_mm['Ligand.ApprovedSymbol_mm'].tolist()\n",
    "receptors=PairsLigRec_mm['Receptor.ApprovedSymbol_mm'].tolist()"
   ]
  },
  {
   "cell_type": "code",
   "execution_count": 11,
   "metadata": {
    "ExecuteTime": {
     "end_time": "2023-03-28T18:29:16.099474Z",
     "start_time": "2023-03-28T18:29:16.076290Z"
    }
   },
   "outputs": [
    {
     "name": "stdout",
     "output_type": "stream",
     "text": [
      "Ligand.ApprovedSymbol_mm\n",
      "A2m        Lrp1\n",
      "Aanat    Mtnr1a\n",
      "Aanat    Mtnr1b\n",
      "Ace       Agtr2\n",
      "Ace      Bdkrb2\n",
      "          ...  \n",
      "Sbpl       Tlr4\n",
      "Sbp        Tlr5\n",
      "Sbpl       Tlr5\n",
      "Sbp        Tlr6\n",
      "Sbpl       Tlr6\n",
      "Length: 3424, dtype: object\n"
     ]
    }
   ],
   "source": [
    "#Convert the PairsLigRec_mm dataframe to a series where ligands are in the index\n",
    "Pairs_LigRec_mm_S = pd.Series(data = PairsLigRec_mm['Receptor.ApprovedSymbol_mm'].values, index = PairsLigRec_mm['Ligand.ApprovedSymbol_mm'])\n",
    "print(Pairs_LigRec_mm_S)"
   ]
  },
  {
   "cell_type": "markdown",
   "metadata": {},
   "source": [
    "# Import Data (source dataset)"
   ]
  },
  {
   "cell_type": "code",
   "execution_count": 12,
   "metadata": {
    "ExecuteTime": {
     "end_time": "2023-03-28T18:29:16.200035Z",
     "start_time": "2023-03-28T18:29:16.110053Z"
    }
   },
   "outputs": [
    {
     "name": "stdout",
     "output_type": "stream",
     "text": [
      "dge-major\n",
      "                  p_val    avg_logFC  pct.1  pct.2 p_val_adj  \\\n",
      "Krt14                 0  2,935752564  0,944  0,049         0   \n",
      "Krt5                  0  2,658551194  0,986  0,035         0   \n",
      "Perp                  0  2,582795445  0,992  0,035         0   \n",
      "Sfn                   0  2,556360688  0,987  0,042         0   \n",
      "Krt15                 0  2,489261449  0,871  0,027         0   \n",
      "...                 ...          ...    ...    ...       ...   \n",
      "Gnl31          5,43E-22  0,263368343  0,905   0,68  1,09E-17   \n",
      "1700025G04Rik  9,88E-22  0,263833772  0,899  0,681  1,98E-17   \n",
      "Dkc11          3,43E-20  0,250810614  0,863  0,632  6,87E-16   \n",
      "Srm            2,86E-19  0,292000724  0,925  0,865  5,72E-15   \n",
      "Cks2           5,69E-17  0,260401994  0,925  0,773  1,14E-12   \n",
      "\n",
      "                         cluster           gene  Unnamed: 8  \n",
      "Krt14                        EPI          Krt14         NaN  \n",
      "Krt5                         EPI           Krt5         NaN  \n",
      "Perp                         EPI           Perp         NaN  \n",
      "Sfn                          EPI            Sfn         NaN  \n",
      "Krt15                        EPI          Krt15         NaN  \n",
      "...                          ...            ...         ...  \n",
      "Gnl31          VESSEL MuralCells           Gnl3         NaN  \n",
      "1700025G04Rik  VESSEL MuralCells  1700025G04Rik         NaN  \n",
      "Dkc11          VESSEL MuralCells           Dkc1         NaN  \n",
      "Srm            VESSEL MuralCells            Srm         NaN  \n",
      "Cks2           VESSEL MuralCells           Cks2         NaN  \n",
      "\n",
      "[9446 rows x 8 columns]\n"
     ]
    }
   ],
   "source": [
    "#Import pre-computed differentially expressed genes\n",
    "dge = pd.read_csv(os.path.join(path_input,'Cluster_marker_genes_'+source+'.csv'), sep = ';', header = 0, index_col=0, low_memory = False, squeeze = True)\n",
    "print('dge-'+source)\n",
    "print(dge)"
   ]
  },
  {
   "cell_type": "code",
   "execution_count": 13,
   "metadata": {
    "ExecuteTime": {
     "end_time": "2023-03-28T18:29:16.233684Z",
     "start_time": "2023-03-28T18:29:16.204313Z"
    }
   },
   "outputs": [
    {
     "name": "stdout",
     "output_type": "stream",
     "text": [
      "dge_lig-major\n",
      "            p_val    avg_logFC  pct.1  pct.2 p_val_adj            cluster  \\\n",
      "Pdgfa           0  1,606844344  0,852  0,153         0                EPI   \n",
      "Fabp5           0  1,553960334  0,998  0,899         0                EPI   \n",
      "Anxa1           0    1,2092633  0,534  0,062         0                EPI   \n",
      "Col18a1         0  1,115434246    0,9  0,147         0                EPI   \n",
      "Wnt4            0    0,9701761  0,849  0,281         0                EPI   \n",
      "...           ...          ...    ...    ...       ...                ...   \n",
      "Vcl      4,92E-39  0,325304116   0,84  0,468  9,83E-35  VESSEL MuralCells   \n",
      "Arpc52   2,23E-37  0,299580116  0,987  0,902  4,46E-33  VESSEL MuralCells   \n",
      "Mapk1    2,40E-35  0,287142422  0,954  0,758  4,81E-31  VESSEL MuralCells   \n",
      "Lamb11   2,30E-31  0,294826335  0,915  0,596  4,61E-27  VESSEL MuralCells   \n",
      "Tln1     1,26E-25  0,255181998  0,964  0,804  2,52E-21  VESSEL MuralCells   \n",
      "\n",
      "            gene  Unnamed: 8  \n",
      "Pdgfa      Pdgfa         NaN  \n",
      "Fabp5      Fabp5         NaN  \n",
      "Anxa1      Anxa1         NaN  \n",
      "Col18a1  Col18a1         NaN  \n",
      "Wnt4        Wnt4         NaN  \n",
      "...          ...         ...  \n",
      "Vcl          Vcl         NaN  \n",
      "Arpc52     Arpc5         NaN  \n",
      "Mapk1      Mapk1         NaN  \n",
      "Lamb11     Lamb1         NaN  \n",
      "Tln1        Tln1         NaN  \n",
      "\n",
      "[495 rows x 8 columns]\n",
      "FIB                    77\n",
      "IMMU Macrophages       58\n",
      "VESSEL BECs            55\n",
      "IMMU DendriticCells    47\n",
      "VESSEL LECs            42\n",
      "NC SchwannCells        38\n",
      "IMMU MastCells         37\n",
      "EPI                    35\n",
      "VESSEL MuralCells      34\n",
      "NC Melanocytes         26\n",
      "MUSCLE Late            17\n",
      "MUSCLE Mid             16\n",
      "MUSCLE Early           13\n",
      "Name: cluster, dtype: int64\n"
     ]
    }
   ],
   "source": [
    "#Identify all ligands among differentially expressed genes of source populations\n",
    "dge_lig = dge[dge.gene.isin(ligands)]\n",
    "print('dge_lig-'+source)\n",
    "print(dge_lig)\n",
    "print(pd.DataFrame(dge_lig)['cluster'].value_counts())"
   ]
  },
  {
   "cell_type": "code",
   "execution_count": 14,
   "metadata": {
    "ExecuteTime": {
     "end_time": "2023-03-28T18:29:16.277183Z",
     "start_time": "2023-03-28T18:29:16.241533Z"
    }
   },
   "outputs": [
    {
     "name": "stdout",
     "output_type": "stream",
     "text": [
      "dge_rec-major\n",
      "            p_val    avg_logFC  pct.1  pct.2 p_val_adj            cluster  \\\n",
      "Gjb2            0  1,980937986   0,91  0,026         0                EPI   \n",
      "Bcam            0  1,665976136  0,892  0,118         0                EPI   \n",
      "Ifitm3          0  1,565638402  0,848  0,439         0                EPI   \n",
      "Kremen2         0  1,490523892  0,809  0,034         0                EPI   \n",
      "Cd9             0  1,421273752  0,959  0,483         0                EPI   \n",
      "...           ...          ...    ...    ...       ...                ...   \n",
      "Msn2     3,98E-49  0,337571482  0,931  0,586  7,96E-45  VESSEL MuralCells   \n",
      "F2r1     8,96E-44  0,339690481   0,82  0,441  1,79E-39  VESSEL MuralCells   \n",
      "Itgb12   2,19E-39  0,324306268  0,993  0,912  4,38E-35  VESSEL MuralCells   \n",
      "Axl      6,19E-34  0,289903526  0,781  0,421  1,24E-29  VESSEL MuralCells   \n",
      "Ifngr2   5,31E-28  0,252876967  0,814  0,509  1,06E-23  VESSEL MuralCells   \n",
      "\n",
      "            gene  Unnamed: 8  \n",
      "Gjb2        Gjb2         NaN  \n",
      "Bcam        Bcam         NaN  \n",
      "Ifitm3    Ifitm3         NaN  \n",
      "Kremen2  Kremen2         NaN  \n",
      "Cd9          Cd9         NaN  \n",
      "...          ...         ...  \n",
      "Msn2         Msn         NaN  \n",
      "F2r1         F2r         NaN  \n",
      "Itgb12     Itgb1         NaN  \n",
      "Axl          Axl         NaN  \n",
      "Ifngr2    Ifngr2         NaN  \n",
      "\n",
      "[481 rows x 8 columns]\n",
      "VESSEL BECs            66\n",
      "IMMU DendriticCells    65\n",
      "IMMU Macrophages       59\n",
      "VESSEL LECs            47\n",
      "FIB                    46\n",
      "IMMU MastCells         40\n",
      "EPI                    37\n",
      "VESSEL MuralCells      31\n",
      "NC SchwannCells        26\n",
      "NC Melanocytes         22\n",
      "MUSCLE Late            21\n",
      "MUSCLE Mid             12\n",
      "MUSCLE Early            9\n",
      "Name: cluster, dtype: int64\n"
     ]
    }
   ],
   "source": [
    "#Identify all receptors among differentially expressed genes of source populations\n",
    "dge_rec = dge[dge.gene.isin(receptors)]\n",
    "print('dge_rec-'+source)\n",
    "print(dge_rec)\n",
    "print(pd.DataFrame(dge_rec)['cluster'].value_counts())"
   ]
  },
  {
   "cell_type": "code",
   "execution_count": 15,
   "metadata": {
    "ExecuteTime": {
     "end_time": "2023-03-28T18:29:16.337478Z",
     "start_time": "2023-03-28T18:29:16.283078Z"
    }
   },
   "outputs": [
    {
     "name": "stdout",
     "output_type": "stream",
     "text": [
      "lig_dge_dict major\n",
      "{'MUSCLE Early': ['Pdgfa', 'Fabp5', 'Hsp90aa1', 'Pdgfc', 'Fgf9', 'Tnc', 'Pkm', 'Tgfb2', 'Hspa8', 'Pdap1', 'Edn3', 'Fyn', 'Hmgb1'], 'NC SchwannCells': ['Npy', 'Cd200', 'Fst', 'Serpine2', 'Timp3', 'Prss23', 'Col18a1', 'Pdgfa', 'L1cam', 'Sema3c', 'Adam23', 'Sorbs1', 'Sema3g', 'Gdnf', 'Sema3b', 'Reln', 'Dhh', 'Nlgn3', 'Pon2', 'Col4a2', 'Sema4c', 'Lama4', 'Hbegf', 'Pros1', 'Adam12', 'Vcan', 'Hspg2', 'Vim', 'Cthrc1', 'Agrn', 'Lamc1', 'Col4a1', 'Bsg', 'Dkk2', 'Col14a1', 'App', 'Lamb1', 'Ngf'], 'IMMU MastCells': ['Hdc', 'Tyrobp', 'Selplg', 'Ccl17', 'Il4', 'Ecm1', 'Cd55', 'Icam4', 'Il6', 'Cd48', 'Itgb2', 'Icam2', 'Il13', 'Tnf', 'Tgfb1', 'Mfng', 'St6gal1', 'Alox5ap', 'Nmb', 'Gpi1', 'Vasp', 'Hsp90aa1', 'B2m', 'Angpt1', 'Arpc5', 'Cd47', 'Mfge8', 'Actr2', 'Hspa8', 'Tln1', 'Hspa1a', 'Calm1', 'Gm11808', 'Cd34', 'Calm3', 'Calm2', 'Pkm'], 'IMMU Macrophages': ['Pf4', 'Apoe', 'C1qb', 'C1qa', 'Tyrobp', 'F13a1', 'Mrc1', 'Lyz2', 'B2m', 'Gas6', 'Ccl24', 'Ly86', 'Lpl', 'Ccl9', 'Alox5ap', 'Ccl12', 'Trf', 'Cd86', 'Tgfb1', 'Cfh', 'Ccl2', 'Ccl3', 'Cd36', 'Il18', 'Apoc1', 'S100a1', 'Adam15', 'Cd48', 'Ccl7', 'Ebi3', 'Ccl4', 'Cd14', 'Lgals3bp', 'Il16', 'Ccl6', 'Irak4', 'Selplg', 'Psap', 'Arpc5', 'Gnai2', 'Tcn2', 'St6gal1', 'Pon2', 'Actr2', 'Lgals8', 'Calm1', 'Gpi1', 'Hebp1', 'Adam9', 'Hras', 'Cd47', 'Igf1', 'Calm2', 'Tln1', 'Adam17', 'Cklf', 'Igfbp4', 'Hspa1a'], 'NC Melanocytes': ['Cd200', 'Nppb', 'Cubn', 'Cdh1', 'Npy', 'Npnt', 'Anxa1', 'Trf', 'Apoe', 'Gstp1', 'Fabp5', 'Hebp1', 'Vim', 'Pon2', 'Tcn2', 'Bmp7', 'S100a1', 'B2m', 'Arpc5', 'Hsp90aa1', 'Calm2', 'Pkm', 'Agrn', 'Vegfb', 'Fyn', 'Mfge8'], 'VESSEL BECs': ['Pecam1', 'Icam2', 'Col4a1', 'Col4a2', 'Col18a1', 'Cd34', 'Hspg2', 'Efna1', 'Mfng', 'Gnai2', 'Apln', 'Pon2', 'Timp3', 'Madcam1', 'Pdgfb', 'Adam15', 'Dll4', 'Tgfb1', 'Cd36', 'Podxl', 'Icam1', 'Adm', 'Trf', 'Il16', 'Cd200', 'Vwf', 'Hbegf', 'Lama4', 'Lamc1', 'Vasp', 'Vim', 'B2m', 'Calm1', 'Sema6d', 'Kitl', 'Nid2', 'Gnas', 'Mfge8', 'Sptan1', 'Tfpi', 'Hebp1', 'Fyn', 'Gpi1', 'Sema4c', 'Lamb1', 'Arpc5', 'Hras', 'App', 'Efnb2', 'Actr2', 'Adam10', 'Nid1', 'Pkm', 'Cd47', 'Igfbp4'], 'EPI': ['Pdgfa', 'Fabp5', 'Anxa1', 'Col18a1', 'Wnt4', 'Wnt7b', 'Bmp7', 'Cdh1', 'Apoc1', 'Wnt3', 'Hras', 'Pltp', 'Spint1', 'Lypd3', 'Ptma', 'Lama5', 'Wnt7a', 'Pdgfc', 'Ntf5', 'Efna1', 'Cgn', 'Npnt', 'Wnt3a', 'Lama3', 'Icam1', 'Lamc2', 'Fst', 'Cd24a', 'Jag1', 'Nrtn', 'App', 'Agrn', 'Hmgb1', 'Efnb2', 'Penk'], 'FIB': ['Col1a1', 'Lum', 'Col1a2', 'Col3a1', 'Dcn', 'Dlk1', 'Ptn', 'Mfap2', 'Vcam1', 'Col6a2', 'Col6a1', 'Gpc3', 'Fn1', 'Mdk', 'Sfrp1', 'Col5a2', 'Lgals1', 'Fbln1', 'Wnt5a', 'Cyr61', 'Bgn', 'Cxcl12', 'Col6a3', 'Sema5a', 'Col5a1', 'Igf1', 'Rspo1', 'Igfbp4', 'Ncam1', 'Igf2', 'Efemp2', 'Efna5', 'Efnb1', 'Dkk2', 'Rspo3', 'Thbs1', 'Timp2', 'Bmp4', 'Fbn1', 'Angptl4', 'Mmp2', 'Ltbp1', 'Angptl1', 'Efemp1', 'Fat4', 'Dkk1', 'Efnb3', 'Grem1', 'Gpc6', 'Fbln2', 'Rgma', 'Slit3', 'Calr', 'Col16a1', 'Cd24a', 'Tfpi', 'Vcan', 'Ntn1', 'P4hb', 'Tbc1d24', 'Nid1', 'Efna4', 'Efna2', 'a', 'Serping1', 'Jam3', 'Col8a1', 'Serpinc1', 'Sema3a', 'Thbs2', 'Bdnf', 'Wnt2', 'Slit2', 'Cthrc1', 'Col11a1', 'Col14a1', 'Tgfb2'], 'MUSCLE Mid': ['Dll1', 'Pdgfa', 'Vasp', 'Rtn4', 'Jam3', 'Hsp90aa1', 'Tgfb3', 'Pdgfc', 'Hspa8', 'Pvr', 'Pdap1', 'Pkm', 'Fst', 'Sema6a', 'Fyn', 'Gpi1'], 'VESSEL LECs': ['Ccl21a', 'Nts', 'Icam2', 'Pecam1', 'Reln', 'Ltb', 'Dll4', 'Gm21541', 'Mrc1', 'Apoa2', 'Angpt2', 'Il16', 'Cd200', 'Efna1', 'Mfng', 'Col18a1', 'Tgfb1', 'Tgm2', 'Prss23', 'Gnas', 'Timp3', 'Cd47', 'Pgf', 'Adam10', 'Lama4', 'Vim', 'Hras', 'Pon2', 'Calm1', 'Col4a2', 'Sema4c', 'Col4a1', 'Lamc1', 'Gnai2', 'Arpc5', 'Igfbp4', 'Hspg2', 'Sptan1', 'Actr2', 'Fyn', 'Igf2', 'Uba52'], 'IMMU DendriticCells': ['Lyz2', 'Tyrobp', 'Alox5ap', 'Ly86', 'Ccl3', 'Ccl4', 'Ccl9', 'Selplg', 'Cd48', 'Ltb', 'Ccl6', 'Hp', 'Ebi3', 'Itgb2', 'Il16', 'Cd86', 'Cfh', 'Icam2', 'Sema4d', 'Tgfb1', 'Il18', 'Anxa1', 'F13a1', 'B2m', 'Lgals3bp', 'Trf', 'Gnai2', 'Psap', 'Arpc5', 'Sema4a', 'Cd47', 'Mfng', 'Icam1', 'Gpi1', 'C1qb', 'Irak4', 'Hspa1a', 'Actr2', 'Vasp', 'Hspa8', 'Tln1', 'Apoc1', 'Calm1', 'S100a1', 'Ubc', 'Ccl2', 'Lpl'], 'VESSEL MuralCells': ['Ccl2', 'Vtn', 'Ccl11', 'Anxa1', 'Tslp', 'Cxcl1', 'Col4a1', 'Col4a2', 'Jag1', 'Mfge8', 'Vasp', 'Plat', 'Hspa1a', 'Prss23', 'Timp1', 'Col6a3', 'Fabp5', 'Vegfc', 'Sema6d', 'Calm1', 'Lama4', 'Vim', 'Thbs2', 'Bgn', 'Lamc1', 'Timp3', 'Gnas', 'Serpine2', 'Hspa8', 'Vcl', 'Arpc5', 'Mapk1', 'Lamb1', 'Tln1'], 'MUSCLE Late': ['Il17b', 'Cck', 'Dll1', 'Vasp', 'Jam3', 'Rtn4', 'Tgfb3', 'Pdgfa', 'Pdgfc', 'Fyn', 'Sema6a', 'Npnt', 'Gnas', 'Gpi1', 'Fst', 'Podxl2', 'Hspa8']}\n",
      "rec_dge_dict major\n",
      "{'MUSCLE Early': ['Fgfr4', 'Itga4', 'Cd82', 'Plxna2', 'Gpc1', 'Ntrk1', 'Lpar4', 'Notch3', 'Fxyd6'], 'NC SchwannCells': ['Ednrb', 'Gfra3', 'Gfra1', 'Itga6', 'Ptprz1', 'Erbb3', 'Mcam', 'Ngfr', 'Itga4', 'Sdc3', 'Cdh2', 'Npr3', 'Cdh19', 'Gfra2', 'Il1rap', 'Cdh6', 'Lsr', 'Cd151', 'Notch1', 'Plxna2', 'Plxna4', 'Sort1', 'Ptprf', 'Msn', 'Itgb1', 'Alcam'], 'IMMU MastCells': ['Tyrobp', 'Il1rl1', 'Slc45a3', 'Kit', 'Cd53', 'Csf2rb', 'Il2rg', 'Itgb7', 'Alox5', 'Cx3cr1', 'Cd3g', 'Ptprc', 'Slc18a2', 'Cd69', 'Spn', 'Ccr2', 'Cd48', 'Itgb2', 'Kel', 'Tmem8', 'Il9r', 'Itga4', 'Cd200r1', 'Il17ra', 'P2ry14', 'Plxnc1', 'Msn', 'Ezr', 'Il3ra', 'Acvr1b', 'Cd82', 'Plgrkt', 'Lgr4', 'Cd9', 'Ifitm1', 'Sirpa', 'Tfrc', 'Tradd', 'Cd47', 'Adipor2'], 'IMMU Macrophages': ['Tyrobp', 'Lyve1', 'Cx3cr1', 'Csf1r', 'Trem2', 'Lamp1', 'Ednrb', 'Fcgr1', 'C3ar1', 'Cd53', 'Sirpa', 'Abca1', 'C5ar1', 'Slc40a1', 'Ccr1', 'Il4ra', 'Cd36', 'Il10rb', 'Hfe', 'Atp6ap2', 'Ifngr1', 'Ptprc', 'Il21r', 'P2ry12', 'Il6ra', 'Cd48', 'Cd180', 'Tnfrsf13b', 'Clec10a', 'Tnfrsf11a', 'Cd200r1', 'Tmem8', 'Ly96', 'Tnfrsf1b', 'Tlr2', 'Adcy7', 'Tlr1', 'Csf2rb', 'Tlr7', 'Cd28', 'P2rx7', 'Itgam', 'Npr1', 'Cd38', 'Plxnc1', 'Mertk', 'Ifnar2', 'Itga4', 'Sdc4', 'Il3ra', 'Itga6', 'Ifngr2', 'Ripk1', 'Tnfrsf1a', 'Csf2ra', 'Cd47', 'Ptpra', 'Adam17', 'Msn'], 'NC Melanocytes': ['Ednrb', 'Kit', 'Mc1r', 'Cdh19', 'Erbb3', 'Plxnc1', 'Itga4', 'Mcam', 'Crlf1', 'Ezr', 'Sirpa', 'Cd44', 'Il10rb', 'Cd151', 'Lamp1', 'Cd63', 'Atp6ap2', 'Acvr2b', 'Plgrkt', 'Sort1', 'Sdc3', 'Msn'], 'VESSEL BECs': ['Cdh5', 'Cav1', 'Pecam1', 'Kdr', 'Esam', 'Cd93', 'Aplnr', 'Plxnd1', 'Ramp2', 'Eng', 'Flt1', 'Gpihbp1', 'Robo4', 'Tie1', 'F11r', 'Msn', 'Itga6', 'Mcam', 'Ptprb', 'Cd151', 'Bambi', 'Scarf1', 'Npr1', 'Aqp1', 'Acvrl1', 'S1pr1', 'Cd38', 'Flt4', 'Notch4', 'Cd36', 'Tek', 'Abca1', 'Adgrl4', 'Dysf', 'Ptprm', 'Fzd4', 'Cd109', 'Procr', 'Epha2', 'Calcrl', 'Thbd', 'Kit', 'Notch1', 'Unc5b', 'Aplp2', 'Cd9', 'Mylk', 'Lpar4', 'Cd81', 'Nrp2', 'Tgfbr2', 'Itga5', 'Itgb1', 'Adgre5', 'Scarb1', 'Ltbr', 'Ifitm3', 'Cd82', 'Tnfrsf1a', 'Adipor1', 'Ifngr1', 'Cd47', 'F2r', 'Igf1r', 'Igf2r', 'Nrp1'], 'EPI': ['Gjb2', 'Bcam', 'Ifitm3', 'Kremen2', 'Cd9', 'Ptprf', 'Fgfr2', 'Notch1', 'Fzd10', 'Cldn4', 'Ezr', 'Ryk', 'Ddr1', 'Celsr1', 'Lsr', 'Fzd6', 'Sdc4', 'Itgb4', 'Col17a1', 'Cd151', 'Epha1', 'F11r', 'Egfr', 'Dsg2', 'Itga3', 'Il17re', 'Adgrg1', 'St14', 'Erbb3', 'Ptch2', 'Itgb5', 'Tnfrsf19', 'Znrf3', 'Itga6', 'Rxra', 'Erbb2', 'Aplp2'], 'FIB': ['Pth1r', 'Agtr2', 'Gas1', 'Il11ra1', 'Pdgfra', 'Lpar1', 'Nrp1', 'Ddr2', 'Fgfr1', 'Ifitm2', 'S1pr3', 'Fzd2', 'Robo2', 'Cd63', 'Ptprd', 'Maged1', 'Cntfr', 'Lrp1', 'Ghr', 'Epha4', 'Sdc2', 'Cdon', 'Pdgfrb', 'Alcam', 'Ptprs', 'Thy1', 'Pgrmc1', 'Cachd1', 'Stra6', 'Dchs1', 'Fxyd6', 'Fzd1', 'Mrc2', 'Sdc1', 'Ednra', 'Ror2', 'Adgrl1', 'Cd81', 'Ephb3', 'Nt5e', 'Plxnb2', 'Smo', 'Lingo1', '0610007P14Rik', 'Epha3', 'Adgrl2'], 'MUSCLE Mid': ['Cd82', 'Fgfr4', 'Kremen2', 'Plxna2', 'Cnr1', 'Gpc1', 'Itga4', 'Bcam', 'Ddr1', 'Pvr', 'Lpar4', 'Ramp3'], 'VESSEL LECs': ['Lyve1', 'Flt4', 'Pecam1', 'Tie1', 'Npr1', 'Scarf1', 'Trpc3', 'Gpr182', 'Kdr', 'Cdh5', 'Gpihbp1', 'Slc45a3', 'Ptprb', 'F11r', 'Ephb1', 'Tnfrsf11a', 'Procr', 'Cd93', 'Unc5b', 'Plxnd1', 'Epha2', 'Calcrl', 'Tek', 'Celsr1', 'S1pr1', 'Eng', 'Nrp2', 'Fzd4', 'Cav1', 'Ptprm', 'Ramp2', 'Plaur', 'Abca1', 'Thy1', 'Cd47', 'Itga6', 'Mylk', 'Tgfbr2', 'Notch1', 'Cd109', 'Aplp2', 'Msn', 'Itga9', 'Bambi', 'Cd151', 'Slc16a2', 'Itgb1'], 'IMMU DendriticCells': ['Cd74', 'Tyrobp', 'Ccr2', 'Cd53', 'Ptprc', 'Fcgr1', 'Cd48', 'Csf1r', 'Itgb7', 'Tnfrsf13b', 'Klrd1', 'Ccr1', 'Itgam', 'Itgb2', 'Csf2rb', 'Il2rg', 'Il6ra', 'Cd180', 'Itgal', 'Il7r', 'Ccr5', 'Flt3', 'Cd72', 'Il10ra', 'Tnfrsf1b', 'Csf3r', 'Cd69', 'Ramp1', 'Il21r', 'C3ar1', 'Adcy7', 'Cx3cr1', 'Hfe', 'Tlr2', 'Cd200r1', 'Il1r2', 'Sirpa', 'Il13ra1', 'Il17ra', 'Trem2', 'Itga4', 'Ifngr1', 'Il4ra', 'Msn', 'Cd47', 'Ifitm3', 'Plxnc1', 'Ifnar2', 'Csf2ra', 'Ezr', 'Il10rb', 'Cd27', 'Il3ra', 'Tradd', 'Sorl1', 'Ifngr2', 'Ifitm1', 'Ly96', 'Cd82', 'Atp6ap2', 'Cd44', 'Tnfrsf1a', 'Lamp1', 'Adgre5', 'Cd9'], 'VESSEL MuralCells': ['Mcam', 'Itga1', 'Adra2a', 'Esam', 'Cspg4', 'Unc5b', 'Itga7', 'Mylk', 'Tnfrsf21', 'Notch3', 'Il13ra1', 'Fap', 'Notch1', 'Agtr1a', 'Itga6', 'Pdgfrb', 'Il1r1', 'Igf2r', 'Ifitm3', 'Thy1', 'Gpc4', 'Adgre5', 'Cd151', 'Lifr', 'Dcbld2', 'Cd81', 'Msn', 'F2r', 'Itgb1', 'Axl', 'Ifngr2'], 'MUSCLE Late': ['Hfe2', 'Kremen2', 'Erbb3', 'Art1', 'Fzd9', 'Cnr1', 'Crhr2', 'Musk', 'Cd82', 'Fgfr4', 'Plxna2', 'Chrna4', 'Bcam', 'Ddr1', 'Gpc1', 'Lpar4', 'Adgre5', 'Adipor1', 'Slc16a2', 'Maged1', 'Ramp3']}\n"
     ]
    }
   ],
   "source": [
    "#Use list (dictionary) comprehension to make the necessary ligand and receptor dictionaries\n",
    "lig_dge_dict = {clust: list(dge_lig[dge_lig['cluster']==clust]['gene'].values.tolist()) for clust in set(dge_lig['cluster'])}\n",
    "rec_dge_dict = {clust: list(dge_rec[dge_rec['cluster']==clust]['gene'].values.tolist()) for clust in set(dge_rec['cluster'])}\n",
    "print('lig_dge_dict '+source)\n",
    "print(lig_dge_dict)\n",
    "print('rec_dge_dict '+source)\n",
    "print(rec_dge_dict)"
   ]
  },
  {
   "cell_type": "code",
   "execution_count": 16,
   "metadata": {
    "ExecuteTime": {
     "end_time": "2023-03-28T18:29:16.358024Z",
     "start_time": "2023-03-28T18:29:16.343819Z"
    }
   },
   "outputs": [
    {
     "name": "stdout",
     "output_type": "stream",
     "text": [
      "('MUSCLE Early', ['Pdgfa', 'Fabp5', 'Hsp90aa1', 'Pdgfc', 'Fgf9', 'Tnc', 'Pkm', 'Tgfb2', 'Hspa8', 'Pdap1', 'Edn3', 'Fyn', 'Hmgb1'])\n",
      "\n",
      "('NC SchwannCells', ['Npy', 'Cd200', 'Fst', 'Serpine2', 'Timp3', 'Prss23', 'Col18a1', 'Pdgfa', 'L1cam', 'Sema3c', 'Adam23', 'Sorbs1', 'Sema3g', 'Gdnf', 'Sema3b', 'Reln', 'Dhh', 'Nlgn3', 'Pon2', 'Col4a2', 'Sema4c', 'Lama4', 'Hbegf', 'Pros1', 'Adam12', 'Vcan', 'Hspg2', 'Vim', 'Cthrc1', 'Agrn', 'Lamc1', 'Col4a1', 'Bsg', 'Dkk2', 'Col14a1', 'App', 'Lamb1', 'Ngf'])\n",
      "\n",
      "('IMMU MastCells', ['Hdc', 'Tyrobp', 'Selplg', 'Ccl17', 'Il4', 'Ecm1', 'Cd55', 'Icam4', 'Il6', 'Cd48', 'Itgb2', 'Icam2', 'Il13', 'Tnf', 'Tgfb1', 'Mfng', 'St6gal1', 'Alox5ap', 'Nmb', 'Gpi1', 'Vasp', 'Hsp90aa1', 'B2m', 'Angpt1', 'Arpc5', 'Cd47', 'Mfge8', 'Actr2', 'Hspa8', 'Tln1', 'Hspa1a', 'Calm1', 'Gm11808', 'Cd34', 'Calm3', 'Calm2', 'Pkm'])\n",
      "\n",
      "('IMMU Macrophages', ['Pf4', 'Apoe', 'C1qb', 'C1qa', 'Tyrobp', 'F13a1', 'Mrc1', 'Lyz2', 'B2m', 'Gas6', 'Ccl24', 'Ly86', 'Lpl', 'Ccl9', 'Alox5ap', 'Ccl12', 'Trf', 'Cd86', 'Tgfb1', 'Cfh', 'Ccl2', 'Ccl3', 'Cd36', 'Il18', 'Apoc1', 'S100a1', 'Adam15', 'Cd48', 'Ccl7', 'Ebi3', 'Ccl4', 'Cd14', 'Lgals3bp', 'Il16', 'Ccl6', 'Irak4', 'Selplg', 'Psap', 'Arpc5', 'Gnai2', 'Tcn2', 'St6gal1', 'Pon2', 'Actr2', 'Lgals8', 'Calm1', 'Gpi1', 'Hebp1', 'Adam9', 'Hras', 'Cd47', 'Igf1', 'Calm2', 'Tln1', 'Adam17', 'Cklf', 'Igfbp4', 'Hspa1a'])\n",
      "\n",
      "('NC Melanocytes', ['Cd200', 'Nppb', 'Cubn', 'Cdh1', 'Npy', 'Npnt', 'Anxa1', 'Trf', 'Apoe', 'Gstp1', 'Fabp5', 'Hebp1', 'Vim', 'Pon2', 'Tcn2', 'Bmp7', 'S100a1', 'B2m', 'Arpc5', 'Hsp90aa1', 'Calm2', 'Pkm', 'Agrn', 'Vegfb', 'Fyn', 'Mfge8'])\n",
      "\n",
      "('VESSEL BECs', ['Pecam1', 'Icam2', 'Col4a1', 'Col4a2', 'Col18a1', 'Cd34', 'Hspg2', 'Efna1', 'Mfng', 'Gnai2', 'Apln', 'Pon2', 'Timp3', 'Madcam1', 'Pdgfb', 'Adam15', 'Dll4', 'Tgfb1', 'Cd36', 'Podxl', 'Icam1', 'Adm', 'Trf', 'Il16', 'Cd200', 'Vwf', 'Hbegf', 'Lama4', 'Lamc1', 'Vasp', 'Vim', 'B2m', 'Calm1', 'Sema6d', 'Kitl', 'Nid2', 'Gnas', 'Mfge8', 'Sptan1', 'Tfpi', 'Hebp1', 'Fyn', 'Gpi1', 'Sema4c', 'Lamb1', 'Arpc5', 'Hras', 'App', 'Efnb2', 'Actr2', 'Adam10', 'Nid1', 'Pkm', 'Cd47', 'Igfbp4'])\n",
      "\n",
      "('EPI', ['Pdgfa', 'Fabp5', 'Anxa1', 'Col18a1', 'Wnt4', 'Wnt7b', 'Bmp7', 'Cdh1', 'Apoc1', 'Wnt3', 'Hras', 'Pltp', 'Spint1', 'Lypd3', 'Ptma', 'Lama5', 'Wnt7a', 'Pdgfc', 'Ntf5', 'Efna1', 'Cgn', 'Npnt', 'Wnt3a', 'Lama3', 'Icam1', 'Lamc2', 'Fst', 'Cd24a', 'Jag1', 'Nrtn', 'App', 'Agrn', 'Hmgb1', 'Efnb2', 'Penk'])\n",
      "\n",
      "('FIB', ['Col1a1', 'Lum', 'Col1a2', 'Col3a1', 'Dcn', 'Dlk1', 'Ptn', 'Mfap2', 'Vcam1', 'Col6a2', 'Col6a1', 'Gpc3', 'Fn1', 'Mdk', 'Sfrp1', 'Col5a2', 'Lgals1', 'Fbln1', 'Wnt5a', 'Cyr61', 'Bgn', 'Cxcl12', 'Col6a3', 'Sema5a', 'Col5a1', 'Igf1', 'Rspo1', 'Igfbp4', 'Ncam1', 'Igf2', 'Efemp2', 'Efna5', 'Efnb1', 'Dkk2', 'Rspo3', 'Thbs1', 'Timp2', 'Bmp4', 'Fbn1', 'Angptl4', 'Mmp2', 'Ltbp1', 'Angptl1', 'Efemp1', 'Fat4', 'Dkk1', 'Efnb3', 'Grem1', 'Gpc6', 'Fbln2', 'Rgma', 'Slit3', 'Calr', 'Col16a1', 'Cd24a', 'Tfpi', 'Vcan', 'Ntn1', 'P4hb', 'Tbc1d24', 'Nid1', 'Efna4', 'Efna2', 'a', 'Serping1', 'Jam3', 'Col8a1', 'Serpinc1', 'Sema3a', 'Thbs2', 'Bdnf', 'Wnt2', 'Slit2', 'Cthrc1', 'Col11a1', 'Col14a1', 'Tgfb2'])\n",
      "\n",
      "('MUSCLE Mid', ['Dll1', 'Pdgfa', 'Vasp', 'Rtn4', 'Jam3', 'Hsp90aa1', 'Tgfb3', 'Pdgfc', 'Hspa8', 'Pvr', 'Pdap1', 'Pkm', 'Fst', 'Sema6a', 'Fyn', 'Gpi1'])\n",
      "\n",
      "('VESSEL LECs', ['Ccl21a', 'Nts', 'Icam2', 'Pecam1', 'Reln', 'Ltb', 'Dll4', 'Gm21541', 'Mrc1', 'Apoa2', 'Angpt2', 'Il16', 'Cd200', 'Efna1', 'Mfng', 'Col18a1', 'Tgfb1', 'Tgm2', 'Prss23', 'Gnas', 'Timp3', 'Cd47', 'Pgf', 'Adam10', 'Lama4', 'Vim', 'Hras', 'Pon2', 'Calm1', 'Col4a2', 'Sema4c', 'Col4a1', 'Lamc1', 'Gnai2', 'Arpc5', 'Igfbp4', 'Hspg2', 'Sptan1', 'Actr2', 'Fyn', 'Igf2', 'Uba52'])\n",
      "\n",
      "('IMMU DendriticCells', ['Lyz2', 'Tyrobp', 'Alox5ap', 'Ly86', 'Ccl3', 'Ccl4', 'Ccl9', 'Selplg', 'Cd48', 'Ltb', 'Ccl6', 'Hp', 'Ebi3', 'Itgb2', 'Il16', 'Cd86', 'Cfh', 'Icam2', 'Sema4d', 'Tgfb1', 'Il18', 'Anxa1', 'F13a1', 'B2m', 'Lgals3bp', 'Trf', 'Gnai2', 'Psap', 'Arpc5', 'Sema4a', 'Cd47', 'Mfng', 'Icam1', 'Gpi1', 'C1qb', 'Irak4', 'Hspa1a', 'Actr2', 'Vasp', 'Hspa8', 'Tln1', 'Apoc1', 'Calm1', 'S100a1', 'Ubc', 'Ccl2', 'Lpl'])\n",
      "\n",
      "('VESSEL MuralCells', ['Ccl2', 'Vtn', 'Ccl11', 'Anxa1', 'Tslp', 'Cxcl1', 'Col4a1', 'Col4a2', 'Jag1', 'Mfge8', 'Vasp', 'Plat', 'Hspa1a', 'Prss23', 'Timp1', 'Col6a3', 'Fabp5', 'Vegfc', 'Sema6d', 'Calm1', 'Lama4', 'Vim', 'Thbs2', 'Bgn', 'Lamc1', 'Timp3', 'Gnas', 'Serpine2', 'Hspa8', 'Vcl', 'Arpc5', 'Mapk1', 'Lamb1', 'Tln1'])\n",
      "\n",
      "('MUSCLE Late', ['Il17b', 'Cck', 'Dll1', 'Vasp', 'Jam3', 'Rtn4', 'Tgfb3', 'Pdgfa', 'Pdgfc', 'Fyn', 'Sema6a', 'Npnt', 'Gnas', 'Gpi1', 'Fst', 'Podxl2', 'Hspa8'])\n",
      "\n"
     ]
    }
   ],
   "source": [
    "#Show an example of how these dictionaries look like\n",
    "for i in lig_dge_dict.items():\n",
    "    print(i, end = '\\n\\n')"
   ]
  },
  {
   "cell_type": "markdown",
   "metadata": {},
   "source": [
    "# Import Data (target dataset)"
   ]
  },
  {
   "cell_type": "code",
   "execution_count": 17,
   "metadata": {
    "ExecuteTime": {
     "end_time": "2023-03-28T18:29:16.436932Z",
     "start_time": "2023-03-28T18:29:16.365181Z"
    }
   },
   "outputs": [
    {
     "name": "stdout",
     "output_type": "stream",
     "text": [
      "dge-fib\n",
      "            p_val    avg_logFC  pct.1  pct.2    p_val_adj     cluster    gene  \\\n",
      "Crabp11         0  1,334346774      1  0,908            0  FIB Upper3  Crabp1   \n",
      "Zeb22           0  1,122377993  0,989  0,496            0  FIB Upper3    Zeb2   \n",
      "Crip12          0  1,014704042  0,993  0,671            0  FIB Upper3   Crip1   \n",
      "Calb11          0  0,985096178  0,575  0,105            0  FIB Upper3   Calb1   \n",
      "Nrgn3           0  0,982753356  0,882   0,39            0  FIB Upper3    Nrgn   \n",
      "...           ...          ...    ...    ...          ...         ...     ...   \n",
      "Trim8    1,91E-06  0,276753018  0,493  0,311  0,038245666  FIB LateDC   Trim8   \n",
      "Kifap3   2,11E-06  0,369271519  0,901  0,832  0,042283423  FIB LateDC  Kifap3   \n",
      "Taok3    2,13E-06  0,311521159  0,507  0,321  0,042697184  FIB LateDC   Taok3   \n",
      "Aplp24   2,33E-06  0,259177903  0,803  0,627  0,046578778  FIB LateDC   Aplp2   \n",
      "Mkrn1    2,47E-06  0,308291238  0,479  0,295  0,049489926  FIB LateDC   Mkrn1   \n",
      "\n",
      "         Unnamed: 8  \n",
      "Crabp11         NaN  \n",
      "Zeb22           NaN  \n",
      "Crip12          NaN  \n",
      "Calb11          NaN  \n",
      "Nrgn3           NaN  \n",
      "...             ...  \n",
      "Trim8           NaN  \n",
      "Kifap3          NaN  \n",
      "Taok3           NaN  \n",
      "Aplp24          NaN  \n",
      "Mkrn1           NaN  \n",
      "\n",
      "[4726 rows x 8 columns]\n"
     ]
    }
   ],
   "source": [
    "#Import pre-computed differentially expressed genes\n",
    "dge2 = pd.read_csv(os.path.join(path_input,'Cluster_marker_genes_'+target+'.csv'), sep = ';', header = 0, index_col=0, low_memory = False, squeeze = True)\n",
    "print('dge-'+target)\n",
    "print(dge2)"
   ]
  },
  {
   "cell_type": "code",
   "execution_count": 18,
   "metadata": {
    "ExecuteTime": {
     "end_time": "2023-03-28T18:29:16.482153Z",
     "start_time": "2023-03-28T18:29:16.442599Z"
    }
   },
   "outputs": [
    {
     "name": "stdout",
     "output_type": "stream",
     "text": [
      "dge_lig-fib\n",
      "            p_val    avg_logFC  pct.1  pct.2    p_val_adj     cluster    gene  \\\n",
      "Fbln11          0   0,94755609  0,996  0,885            0  FIB Upper3   Fbln1   \n",
      "Penk2           0  0,744732756  0,672  0,245            0  FIB Upper3    Penk   \n",
      "Sema6d1         0  0,722426292  0,748  0,162            0  FIB Upper3  Sema6d   \n",
      "Lum3            0  0,663843352  0,997  0,923            0  FIB Upper3     Lum   \n",
      "Col6a32         0  0,658108239  0,962  0,568            0  FIB Upper3  Col6a3   \n",
      "...           ...          ...    ...    ...          ...         ...     ...   \n",
      "Podxl2   1,14E-11  0,457469868  0,803  0,581     2,28E-07  FIB LateDC  Podxl2   \n",
      "Gnai2    3,94E-10   0,35265238  0,986  0,981     7,88E-06  FIB LateDC   Gnai2   \n",
      "Ntf3     6,57E-08  0,523412549   0,38  0,178  0,001314822  FIB LateDC    Ntf3   \n",
      "Rtn41    2,80E-07  0,268560345      1  0,974  0,005592672  FIB LateDC    Rtn4   \n",
      "Sema3d4  4,84E-07  0,278078938  0,465  0,225  0,009671824  FIB LateDC  Sema3d   \n",
      "\n",
      "         Unnamed: 8  \n",
      "Fbln11          NaN  \n",
      "Penk2           NaN  \n",
      "Sema6d1         NaN  \n",
      "Lum3            NaN  \n",
      "Col6a32         NaN  \n",
      "...             ...  \n",
      "Podxl2          NaN  \n",
      "Gnai2           NaN  \n",
      "Ntf3            NaN  \n",
      "Rtn41           NaN  \n",
      "Sema3d4         NaN  \n",
      "\n",
      "[571 rows x 8 columns]\n",
      "FIB Inter2     61\n",
      "FIB Inter1     52\n",
      "FIB Inter3     44\n",
      "FIB LateDC     41\n",
      "CHOND          38\n",
      "FIB Muscle1    38\n",
      "FIB Muscle2    36\n",
      "FIB EarlyDC    35\n",
      "FIB Deep2      26\n",
      "FIB Upper3     26\n",
      "FIB Deep3      26\n",
      "FIB Lower      25\n",
      "FIB Deep1      25\n",
      "FIB Upper2     18\n",
      "FIB Upper4     18\n",
      "FIB Origin6    14\n",
      "FIB Origin4    10\n",
      "FIB Origin2     9\n",
      "FIB Origin1     9\n",
      "FIB Origin5     8\n",
      "FIB Upper1      6\n",
      "FIB Origin3     6\n",
      "Name: cluster, dtype: int64\n"
     ]
    }
   ],
   "source": [
    "#Identify all ligands among differentially expressed genes of target populations\n",
    "dge_lig2 = dge2[dge2.gene.isin(ligands)]\n",
    "print ('dge_lig-'+target)\n",
    "print(dge_lig2)\n",
    "print(pd.DataFrame(dge_lig2)['cluster'].value_counts())"
   ]
  },
  {
   "cell_type": "code",
   "execution_count": 19,
   "metadata": {
    "ExecuteTime": {
     "end_time": "2023-03-28T18:29:16.525233Z",
     "start_time": "2023-03-28T18:29:16.486686Z"
    }
   },
   "outputs": [
    {
     "name": "stdout",
     "output_type": "stream",
     "text": [
      "dge_rec-fib\n",
      "            p_val    avg_logFC  pct.1  pct.2    p_val_adj     cluster  \\\n",
      "Nrp13           0  0,827260024  0,995  0,729            0  FIB Upper3   \n",
      "Pth1r2          0  0,757167775  0,994  0,847            0  FIB Upper3   \n",
      "Thy12           0  0,724891138  0,851  0,367            0  FIB Upper3   \n",
      "Robo21          0  0,666356631  0,891  0,515            0  FIB Upper3   \n",
      "Plxna4          0  0,573241554  0,645  0,145            0  FIB Upper3   \n",
      "...           ...          ...    ...    ...          ...         ...   \n",
      "Ror2     8,03E-09  0,417689559   0,62    0,4  0,000160644  FIB LateDC   \n",
      "Adipor1  1,02E-07  0,304764728  0,817  0,655  0,002031646  FIB LateDC   \n",
      "Ifngr2   3,93E-07  0,497567386  0,648  0,513  0,007855654  FIB LateDC   \n",
      "Smad3    1,84E-06  0,317157794  0,408   0,22  0,036842181  FIB LateDC   \n",
      "Aplp24   2,33E-06  0,259177903  0,803  0,627  0,046578778  FIB LateDC   \n",
      "\n",
      "            gene  Unnamed: 8  \n",
      "Nrp13       Nrp1         NaN  \n",
      "Pth1r2     Pth1r         NaN  \n",
      "Thy12       Thy1         NaN  \n",
      "Robo21     Robo2         NaN  \n",
      "Plxna4    Plxna4         NaN  \n",
      "...          ...         ...  \n",
      "Ror2        Ror2         NaN  \n",
      "Adipor1  Adipor1         NaN  \n",
      "Ifngr2    Ifngr2         NaN  \n",
      "Smad3      Smad3         NaN  \n",
      "Aplp24     Aplp2         NaN  \n",
      "\n",
      "[277 rows x 8 columns]\n",
      "FIB LateDC     27\n",
      "FIB Upper3     21\n",
      "CHOND          19\n",
      "FIB Muscle2    17\n",
      "FIB EarlyDC    17\n",
      "FIB Inter2     17\n",
      "FIB Deep3      16\n",
      "FIB Deep1      16\n",
      "FIB Inter1     15\n",
      "FIB Inter3     15\n",
      "FIB Muscle1    14\n",
      "FIB Deep2      13\n",
      "FIB Lower      12\n",
      "FIB Origin6    11\n",
      "FIB Upper2     10\n",
      "FIB Upper4     10\n",
      "FIB Origin2     9\n",
      "FIB Origin5     5\n",
      "FIB Origin3     4\n",
      "FIB Upper1      4\n",
      "FIB Origin4     3\n",
      "FIB Origin1     2\n",
      "Name: cluster, dtype: int64\n"
     ]
    }
   ],
   "source": [
    "#Identify all receptors among differentially expressed genes of target populations\n",
    "dge_rec2 = dge2[dge2.gene.isin(receptors)]\n",
    "print ('dge_rec-'+target)\n",
    "print(dge_rec2)\n",
    "print(pd.DataFrame(dge_rec2)['cluster'].value_counts())"
   ]
  },
  {
   "cell_type": "code",
   "execution_count": 20,
   "metadata": {
    "ExecuteTime": {
     "end_time": "2023-03-28T18:29:16.608888Z",
     "start_time": "2023-03-28T18:29:16.529612Z"
    }
   },
   "outputs": [
    {
     "name": "stdout",
     "output_type": "stream",
     "text": [
      "lig_dge_dict fib\n",
      "{'FIB Inter1': ['Sema3c', 'Efemp1', 'Apod', 'Prss23', 'Edil3', 'Nrg1', 'Cd55', 'Adm', 'Fgf12', 'B2m', 'Col1a1', 'Sema3a', 'Fbn1', 'Col3a1', 'Rarres2', 'Col1a2', 'Dlk1', 'Sema3d', 'Sfrp1', 'Nid2', 'Wnt2', 'Col5a1', 'Igf2', 'Tac1', 'Dcn', 'Cd34', 'Igfbp4', 'Spon2', 'Dkk2', 'Fgf10', 'Col5a2', 'Timp2', 'Fn1', 'Thbs1', 'Efnb2', 'Kitl', 'Ptn', 'Serping1', 'Gpc3', 'Nov', 'Mfap5', 'Lgals1', 'Cthrc1', 'Tnfsf12', 'Plat', 'Angptl1', 'Fbln2', 'Efemp2', 'Sptan1', 'Apoe', 'Cyr61', 'Nid1'], 'FIB Muscle2': ['Dlk1', 'Nppc', 'Angptl1', 'Igf2', 'Col14a1', 'Timp3', 'Igfbp4', 'Thbs2', 'Gnas', 'Col3a1', 'Col1a1', 'Col1a2', 'Rarres2', 'Ptn', 'Nid2', 'Col6a1', 'Igf1', 'Col6a3', 'Dcn', 'Kitl', 'Col5a1', 'Lamb1', 'Col6a2', 'Gdf10', 'Plat', 'Cxcl12', 'Gas6', 'Lama4', 'B2m', 'Fgf7', 'Vcan', 'Ntn1', 'Col5a2', 'Hspg2', 'Fn1', 'Sfrp1'], 'FIB Upper4': ['Penk', 'Fbln1', 'Serpinc1', 'Col6a3', 'Sema6d', 'Col7a1', 'Fgf13', 'Sema3d', 'Lum', 'Vcam1', 'Col6a1', 'Col6a2', 'Bgn', 'Dcn', 'Hspa8', 'Cd47', 'Efna5', 'Ubc'], 'FIB Upper3': ['Fbln1', 'Penk', 'Sema6d', 'Lum', 'Col6a3', 'Serpinc1', 'Col6a2', 'Col6a1', 'Efna5', 'Vcam1', 'Sema3d', 'Bgn', 'Col7a1', 'Vim', 'a', 'Lgals1', 'Calm1', 'Nrtn', 'Cd47', 'Fabp5', 'Dkk1', 'Dcn', 'Rspo3', 'Grem1', 'Rspo1', 'Mmp2'], 'CHOND': ['Mia', 'Col9a1', 'Col9a3', 'Col2a1', 'Col9a2', 'Col11a1', 'Gdf10', 'Col14a1', 'Cthrc1', 'App', 'Edil3', 'Thbs1', 'Bsg', 'Sema3c', 'Nid2', 'Tgm2', 'Angptl2', 'Tgfb2', 'Vcan', 'Angptl1', 'Lamb2', 'Sema3d', 'Tgfb3', 'Ltbp3', 'Fbln2', 'Bmp4', 'Gm11808', 'Serpine2', 'Mdk', 'Timp3', 'Ntng1', 'Tnc', 'Bmp5', 'Angpt1', 'Gpc6', 'Uba52', 'Sema3a', 'Timp1'], 'FIB Origin5': ['Efemp1', 'Sfrp1', 'Thbs1', 'Jam3', 'Col8a1', 'Vcl', 'Tac1', 'Serpine2'], 'FIB Upper2': ['Calm1', 'Hmgb1', 'Fbln1', 'Vim', 'Lum', 'Col6a3', 'Lgals1', 'Sema6d', 'a', 'Hsp90b1', 'Penk', 'Vcam1', 'Serpinc1', 'Bgn', 'Col6a1', 'Rspo1', 'Dcn', 'Dkk1'], 'FIB Deep1': ['Dkk2', 'Col11a1', 'Pdgfc', 'Col2a1', 'Tac1', 'Sema3a', 'Bmp4', 'Bmp2', 'Apod', 'Cthrc1', 'Fbln2', 'Ntng1', 'Tgfb2', 'Vcl', 'App', 'Fat4', 'Efna5', 'Fabp5', 'Igfbp4', 'Rtn4', 'Serpine2', 'Col14a1', 'Arpc5', 'Grem1', 'Sfrp1'], 'FIB Lower': ['Dcn', 'Pcsk9', 'Kitl', 'Lgals1', 'Penk', 'Col6a3', 'Lum', 'Wnt4', 'Col6a2', 'Col6a1', 'Col1a2', 'Bgn', 'Col3a1', 'Col1a1', 'Sema6a', 'Hspa1a', 'Angptl4', 'Rspo1', 'Vim', 'Mfge8', 'Cxcl12', 'Cyr61', 'Col4a1', 'Apoe', 'Efemp1'], 'FIB Origin4': ['Jam3', 'Col8a1', 'Pkm', 'Wnt4', 'Hsp90aa1', 'Rspo1', 'Tgfb2', 'Wnt5a', 'Cxcl12', 'Mdk'], 'FIB Deep2': ['Ptn', 'Cthrc1', 'Sfrp1', 'Gpc3', 'Fgf18', 'Rspo3', 'Igf2', 'Col5a2', 'Tnc', 'Nid2', 'Col11a1', 'Tgfb3', 'Efnb1', 'Tgfb2', 'Col1a1', 'Fn1', 'Angptl1', 'Lamb1', 'Igfbp4', 'Ltbp1', 'Igf1', 'Efemp1', 'Timp2', 'Timp3', 'Fbln2', 'Uba52'], 'FIB Deep3': ['Ptn', 'Tgfb2', 'Bmp4', 'Angptl1', 'Gpc3', 'Col11a1', 'Col9a2', 'Mdk', 'Col2a1', 'Uba52', 'Sfrp1', 'Gpc6', 'Col5a2', 'Serpine2', 'App', 'Sema3a', 'Efna3', 'Cthrc1', 'Gdf10', 'Col16a1', 'Timp3', 'Gm11808', 'Efna5', 'Igf1', 'Fbln2', 'Dkk2'], 'FIB Muscle1': ['Nppc', 'Col8a1', 'Thbs2', 'Angptl1', 'Dlk1', 'Igf2', 'Col1a2', 'Fgf21', 'Tnc', 'Slit2', 'Dcn', 'Bgn', 'Mfap2', 'Fgf7', 'Fn1', 'Cyr61', 'Adam12', 'Col1a1', 'Tgfb3', 'Lama4', 'Cxcl12', 'Igfbp4', 'Lum', 'Dkk2', 'Col3a1', 'Ntng1', 'Col6a1', 'Slit3', 'Kitl', 'Ncam1', 'Gas6', 'Wnt5a', 'Col14a1', 'Col6a2', 'Nucb2', 'Col5a1', 'Vcan', 'Hspa1a'], 'FIB Origin2': ['Dkk1', 'Ptma', 'Pkm', 'Hmgb1', 'Vcan', 'Hsp90aa1', 'Vegfc', 'Wnt5a', 'Uba52'], 'FIB LateDC': ['Gal', 'Dll1', 'Fgf3', 'Fgf10', 'Bmp7', 'Nrtn', 'Col7a1', 'Edn3', 'Bmp4', 'Ntng1', 'Lgals1', 'Col6a3', 'Col4a1', 'Spon2', 'Penk', 'Col6a1', 'Vim', 'Bmp3', 'Col6a2', 'Igf1', 'Cd24a', 'Tgfb1', 'Col4a2', 'Mmp2', 'C1qtnf1', 'Ubb', 'Pdgfa', 'Sema6d', 'Gnas', 'Lama2', 'Fbln1', 'Sema6a', 'Rspo3', 'Apod', 'Fbln2', 'a', 'Podxl2', 'Gnai2', 'Ntf3', 'Rtn4', 'Sema3d'], 'FIB Inter2': ['Col14a1', 'Col1a1', 'Mfap5', 'Ptn', 'Nov', 'Wnt2', 'Dlk1', 'Col1a2', 'Sema3c', 'B2m', 'Prss23', 'Fgf7', 'Apod', 'Kitl', 'Rarres2', 'Clec11a', 'Spon2', 'Cd55', 'Fgf10', 'Adam23', 'Anxa1', 'Pltp', 'Col3a1', 'Dcn', 'Bmp3', 'Igf2', 'Igfbp4', 'Sema3d', 'Gnas', 'Cd34', 'Timp2', 'Serping1', 'Nid2', 'Plat', 'Thbs1', 'Gpc6', 'Efnb2', 'Edil3', 'Col5a2', 'Cyr61', 'Efemp2', 'Col5a1', 'Gpc3', 'Fbn1', 'Angptl1', 'Col16a1', 'Thbs2', 'Igf1', 'Sfrp1', 'Tnfsf12', 'Mmp2', 'Lgals1', 'Nid1', 'Nucb2', 'Fbln2', 'Fst', 'Bmp2', 'App', 'Fyn', 'Wnt5a', 'Slit2'], 'FIB Origin3': ['Ptma', 'Cd24a', 'Pkm', 'Jam3', 'Dkk1', 'Fabp5'], 'FIB EarlyDC': ['Gal', 'Fgf3', 'Fgf10', 'Nrtn', 'Col7a1', 'Bmp4', 'Lgals1', 'Bmp7', 'Edn3', 'Col6a3', 'Cd24a', 'Col6a2', 'Penk', 'Col6a1', 'Col4a1', 'Fbln1', 'Sema6d', 'Vim', 'Ptma', 'Gnas', 'Col4a2', 'Fst', 'Tgfb1', 'Serpinc1', 'a', 'Sema3d', 'Mmp2', 'Spon2', 'Podxl2', 'Mfge8', 'Lum', 'Bgn', 'Slit3', 'Sema6a', 'Rgmb'], 'FIB Origin6': ['Igf1', 'Wnt2', 'Jam3', 'Hgf', 'Mdk', 'Wnt5a', 'Igf2', 'Fgf7', 'Igfbp4', 'Gpc3', 'Col8a1', 'Tgfb2', 'Cxcl12', 'Rspo1'], 'FIB Origin1': ['Ptma', 'Hmgb1', 'Hsp90aa1', 'Cd24a', 'Dkk1', 'Calm2', 'Grem1', 'Hsp90b1', 'Arpc5'], 'FIB Inter3': ['Ptn', 'Mfap5', 'Spon2', 'Nov', 'Fbln2', 'Nid2', 'Adam12', 'Dlk1', 'B2m', 'Kitl', 'Rarres2', 'Anxa1', 'Cd34', 'Col3a1', 'Fbn1', 'Col1a1', 'Plat', 'Sfrp1', 'Efnb1', 'Sema3c', 'Angptl1', 'Gdf10', 'Col14a1', 'Igfbp4', 'Col5a2', 'Fgf7', 'Gpc3', 'Col1a2', 'Prss23', 'Igf1', 'Rspo3', 'Col5a1', 'Fyn', 'Dcn', 'Igf2', 'Efnb2', 'Nid1', 'Vcan', 'Mmp2', 'Fst', 'Gpc6', 'Cthrc1', 'Angptl4', 'Cxcl12'], 'FIB Upper1': ['Grem1', 'Bdnf', 'Vcan', 'Vcl', 'Cxcl12', 'Cd24a']}\n",
      "rec_dge_dict fib\n",
      "{'FIB Inter1': ['Vldlr', 'Cd44', 'Ntrk2', 'Agtr2', 'Ifitm1', 'Il6st', 'Fzd1', 'Alcam', 'Cd81', 'Npr3', 'Ifitm3', 'Ptprg', 'Lpar4', 'Ptprd', 'Epha7'], 'FIB Muscle2': ['Gfra1', 'Agtr2', 'Lpar4', 'Crlf1', 'Prokr1', 'Cd63', 'Igf2r', 'Epha4', 'Ngfr', 'Ntrk2', 'Ramp3', 'Fap', 'Il11ra1', 'Nrp2', 'Fxyd6', 'Ptprd', 'Cntfr'], 'FIB Upper4': ['Plxna4', 'Pth1r', 'Hmmr', 'Thy1', 'Nrp1', 'Aplp2', 'Cd81', 'Robo2', 'Fgfr1', 'Cd47'], 'FIB Upper3': ['Nrp1', 'Pth1r', 'Thy1', 'Robo2', 'Plxna4', 'Nrxn2', 'Cav1', 'Fgfr1', 'Nrcam', 'Ngfr', 'Cd47', 'Aplp2', 'Cd81', 'Ptch1', 'Adgrl2', 'Ramp2', 'Ednra', 'Nt5e', 'Lingo1', 'Scarb1', 'Sdc1'], 'CHOND': ['Unc5c', 'Fzd9', 'Fgfr3', 'Ntrk2', 'Epha7', 'Alcam', 'Kcnd2', 'Fgfrl1', 'Lgr4', 'Fgfr2', 'Neo1', 'Nrxn1', 'Boc', 'Igf2r', 'Igf1r', 'Cspg4', 'Fzd7', 'Itga9', 'Lrp6'], 'FIB Origin5': ['Epha5', 'S1pr3', 'Epha4', 'Fxyd6', 'Epha7'], 'FIB Upper2': ['Thy1', 'Nrp1', 'Pth1r', 'Cd63', 'Ngfr', 'Nt5e', 'Aplp2', 'Ramp2', 'Cav1', 'Hmmr'], 'FIB Deep1': ['Alcam', 'Npr3', 'Tnfrsf19', 'Lrrc4c', 'F2r', 'Fzd10', 'Pgrmc1', 'Stra6', 'Robo1', 'Ednra', 'Cdh2', 'Gas1', 'Itga8', 'Itgb5', 'Neo1', 'Plxnb2'], 'FIB Lower': ['Nrp1', 'Ifitm3', 'Thy1', 'Cd63', 'Ifitm1', 'Cd81', 'Nt5e', 'Ramp2', 'Il11ra1', 'Agtr2', 'Aplp2', 'Pdgfrb'], 'FIB Origin4': ['Gas1', 'Stra6', 'S1pr3'], 'FIB Deep2': ['Alcam', 'Epha4', 'Col13a1', 'Robo1', 'Ptprd', 'Itgb5', 'Gfra3', 'Igf2r', 'Epha7', 'Cdh2', 'Fxyd6', 'Cd44', 'Nrp2'], 'FIB Deep3': ['Ephb1', 'Robo1', 'Plxna2', 'Cdh2', 'Efna3', 'Alcam', 'Epha7', 'Ptprd', 'Adgrl1', 'Axl', 'Fxyd6', 'Itgb5', 'Nrxn1', 'Epha3', 'Boc', 'Nrp2'], 'FIB Muscle1': ['Agtr2', 'Gfra1', 'Nrp2', 'Cd63', 'Epha4', 'Il11ra1', 'Nt5e', 'Epha3', 'Fap', 'Tgfbr2', 'Maged1', 'Notch1', 'F2r', 'Igf2r'], 'FIB Origin2': ['Crlf1', 'Ngfr', 'Stra6', 'Itga6', 'Sdc2', 'Pdgfra', 'Cachd1', 'Adgrl2', 'Nrp1'], 'FIB LateDC': ['Avpr1a', 'Ptch2', 'Ptch1', 'Flt1', 'Ednrb', 'Sdc1', 'Nrxn2', 'Lepr', 'Itga1', 'Nrp2', 'Ngfr', 'Calcrl', 'Thy1', 'Cd44', 'Robo2', 'Vldlr', 'Nt5e', 'Kremen1', 'Hhip', 'Fgfr1', 'Epha7', 'Pdgfrb', 'Ror2', 'Adipor1', 'Ifngr2', 'Smad3', 'Aplp2'], 'FIB Inter2': ['Agtr2', 'Met', 'Prokr1', 'Epha3', 'Lpar4', 'Cd44', 'Vldlr', 'Ifitm3', 'Igf2r', 'Il6st', 'Ifitm1', 'Tgfbr2', 'Cd81', 'Cd63', 'Nrp2', 'Axl', 'Ptprd'], 'FIB Origin3': ['Stra6', 'Gas1', 'Tnfrsf19', 'Cachd1'], 'FIB EarlyDC': ['Ptch2', 'Ptch1', 'Thy1', 'Sdc1', 'Ngfr', 'Thbd', 'Hhip', 'Robo2', 'Nrxn2', 'Plxna4', 'Aqp1', 'Fgfr1', 'Ror2', 'Nrp1', 'Pth1r', 'Ramp2', 'Aplp2'], 'FIB Origin6': ['Epha3', 'Epha4', 'Nrp2', 'S1pr3', 'Lgr5', 'Fzd1', 'Stra6', 'Fzd2', 'Gas1', 'Cdon', 'Alcam'], 'FIB Origin1': ['Sdc2', 'Tnfrsf19'], 'FIB Inter3': ['Cd44', 'Ntrk2', 'Fzd4', 'F3', 'Lpar4', 'Aqp1', 'Igf2r', 'Bambi', 'Axl', 'Vldlr', 'Agtr2', 'Mylk', 'Ifitm3', 'Itgb5', 'Ramp2'], 'FIB Upper1': ['Robo2', 'Sdc2', 'Tnfrsf19', 'Pth1r']}\n"
     ]
    }
   ],
   "source": [
    "#Use list (dictionary) comprehension to make the necessary ligand and receptor dictionaries\n",
    "lig_dge_dict2 = {clust: list(dge_lig2[dge_lig2['cluster']==clust]['gene'].values.tolist()) for clust in set(dge_lig2['cluster'])}\n",
    "rec_dge_dict2 = {clust: list(dge_rec2[dge_rec2['cluster']==clust]['gene'].values.tolist()) for clust in set(dge_rec2['cluster'])}\n",
    "print('lig_dge_dict '+target)\n",
    "print(lig_dge_dict2)\n",
    "print('rec_dge_dict '+target)\n",
    "print(rec_dge_dict2)"
   ]
  },
  {
   "cell_type": "markdown",
   "metadata": {},
   "source": [
    "# Determine Receptor-Ligand-Pairs (observed)"
   ]
  },
  {
   "cell_type": "code",
   "execution_count": 21,
   "metadata": {
    "ExecuteTime": {
     "end_time": "2023-03-28T18:30:38.418658Z",
     "start_time": "2023-03-28T18:29:16.615604Z"
    }
   },
   "outputs": [
    {
     "name": "stdout",
     "output_type": "stream",
     "text": [
      "ligrec_dge_df\n",
      "                                                            FIB Inter1  \\\n",
      "MUSCLE Early                                             [(Pkm, Cd44)]   \n",
      "NC SchwannCells      [(Col14a1, Cd44), (Hbegf, Cd44), (Reln, Vldlr)...   \n",
      "IMMU MastCells                             [(Il6, Il6st), (Pkm, Cd44)]   \n",
      "IMMU Macrophages     [(Apoc1, Vldlr), (Apoe, Vldlr), (Ebi3, Il6st),...   \n",
      "NC Melanocytes       [(Apoe, Vldlr), (Nppb, Npr3), (Pkm, Cd44), (Vi...   \n",
      "VESSEL BECs          [(Efna1, Epha7), (Gnai2, Agtr2), (Hbegf, Cd44)...   \n",
      "EPI                  [(Apoc1, Vldlr), (Efna1, Epha7), (Ntf5, Ntrk2)...   \n",
      "FIB                  [(Bdnf, Ntrk2), (Col14a1, Cd44), (Col1a1, Cd44...   \n",
      "MUSCLE Mid                                               [(Pkm, Cd44)]   \n",
      "VESSEL LECs          [(Efna1, Epha7), (Gnai2, Agtr2), (Reln, Vldlr)...   \n",
      "IMMU DendriticCells  [(Apoc1, Vldlr), (Ebi3, Il6st), (Gnai2, Agtr2)...   \n",
      "VESSEL MuralCells                        [(Timp3, Agtr2), (Vim, Cd44)]   \n",
      "MUSCLE Late                                                         []   \n",
      "\n",
      "                                                           FIB Muscle2  \\\n",
      "MUSCLE Early                                                        []   \n",
      "NC SchwannCells      [(App, Ngfr), (Gdnf, Gfra1), (Ngf, Ngfr), (Npy...   \n",
      "IMMU MastCells                                                      []   \n",
      "IMMU Macrophages                       [(Gnai2, Agtr2), (Igf1, Igf2r)]   \n",
      "NC Melanocytes                                            [(Npy, Fap)]   \n",
      "VESSEL BECs          [(Adm, Ramp3), (App, Ngfr), (Efna1, Epha4), (E...   \n",
      "EPI                  [(App, Ngfr), (Efna1, Epha4), (Efnb2, Epha4), ...   \n",
      "FIB                  [(Bdnf, Ngfr), (Bdnf, Ntrk2), (Efna2, Epha4), ...   \n",
      "MUSCLE Mid                                              [(Rtn4, Ngfr)]   \n",
      "VESSEL LECs          [(Efna1, Epha4), (Gnai2, Agtr2), (Igf2, Igf2r)...   \n",
      "IMMU DendriticCells                                   [(Gnai2, Agtr2)]   \n",
      "VESSEL MuralCells       [(Timp1, Cd63), (Timp3, Agtr2), (Vegfc, Nrp2)]   \n",
      "MUSCLE Late                                             [(Rtn4, Ngfr)]   \n",
      "\n",
      "                                                            FIB Upper4  \\\n",
      "MUSCLE Early                              [(Fgf9, Fgfr1), (Fyn, Thy1)]   \n",
      "NC SchwannCells       [(Col4a1, Cd47), (Sema3b, Nrp1), (Sema3c, Nrp1)]   \n",
      "IMMU MastCells                          [(Calm1, Hmmr), (Itgb2, Thy1)]   \n",
      "IMMU Macrophages                                       [(Calm1, Hmmr)]   \n",
      "NC Melanocytes                            [(Fyn, Thy1), (Vegfb, Nrp1)]   \n",
      "VESSEL BECs          [(Adm, Pth1r), (Calm1, Hmmr), (Col4a1, Cd47), ...   \n",
      "EPI                                                                 []   \n",
      "FIB                  [(Gpc3, Cd81), (Ncam1, Fgfr1), (Sema3a, Plxna4...   \n",
      "MUSCLE Mid                             [(Fyn, Thy1), (Sema6a, Plxna4)]   \n",
      "VESSEL LECs          [(Calm1, Hmmr), (Col4a1, Cd47), (Fyn, Thy1), (...   \n",
      "IMMU DendriticCells                     [(Calm1, Hmmr), (Itgb2, Thy1)]   \n",
      "VESSEL MuralCells    [(Calm1, Hmmr), (Col4a1, Cd47), (Thbs2, Cd47),...   \n",
      "MUSCLE Late                            [(Fyn, Thy1), (Sema6a, Plxna4)]   \n",
      "\n",
      "                                                            FIB Upper3  \\\n",
      "MUSCLE Early         [(Edn3, Ednra), (Fgf9, Fgfr1), (Fyn, Thy1), (H...   \n",
      "NC SchwannCells      [(App, Cav1), (App, Ngfr), (Col4a1, Cd47), (Dh...   \n",
      "IMMU MastCells                          [(Itgb2, Thy1), (Tgfb1, Cav1)]   \n",
      "IMMU Macrophages     [(Apoe, Scarb1), (Gnai2, Cav1), (Gnai2, Ednra)...   \n",
      "NC Melanocytes            [(Apoe, Scarb1), (Fyn, Thy1), (Vegfb, Nrp1)]   \n",
      "VESSEL BECs          [(Adm, Pth1r), (Adm, Ramp2), (App, Cav1), (App...   \n",
      "EPI                  [(App, Cav1), (App, Ngfr), (Hmgb1, Sdc1), (Hra...   \n",
      "FIB                  [(Bdnf, Ngfr), (Cyr61, Cav1), (Efemp2, Lingo1)...   \n",
      "MUSCLE Mid           [(Fyn, Thy1), (Rtn4, Ngfr), (Rtn4, Lingo1), (S...   \n",
      "VESSEL LECs          [(Col4a1, Cd47), (Fyn, Thy1), (Gnai2, Cav1), (...   \n",
      "IMMU DendriticCells  [(Gnai2, Cav1), (Gnai2, Ednra), (Icam1, Cav1),...   \n",
      "VESSEL MuralCells         [(Col4a1, Cd47), (Thbs2, Cd47), (Vtn, Cd47)]   \n",
      "MUSCLE Late          [(Fyn, Thy1), (Rtn4, Ngfr), (Rtn4, Lingo1), (S...   \n",
      "\n",
      "                                                                 CHOND  \\\n",
      "MUSCLE Early         [(Fgf9, Fgfr3), (Fgf9, Fgfr2), (Hsp90aa1, Fgfr...   \n",
      "NC SchwannCells      [(Adam12, Itga9), (Dhh, Boc), (Dkk2, Lrp6), (L...   \n",
      "IMMU MastCells                                     [(Hsp90aa1, Fgfr3)]   \n",
      "IMMU Macrophages     [(Adam15, Itga9), (C1qa, Cspg4), (F13a1, Itga9...   \n",
      "NC Melanocytes                      [(Cdh1, Igf1r), (Hsp90aa1, Fgfr3)]   \n",
      "VESSEL BECs          [(Adam15, Itga9), (Efna1, Epha7), (Gnai2, Igf1...   \n",
      "EPI                  [(Cdh1, Igf1r), (Efna1, Epha7), (Ntf5, Ntrk2),...   \n",
      "FIB                  [(Bdnf, Ntrk2), (Dkk1, Lrp6), (Dkk2, Lrp6), (E...   \n",
      "MUSCLE Mid                                         [(Hsp90aa1, Fgfr3)]   \n",
      "VESSEL LECs          [(Efna1, Epha7), (Gnai2, Igf1r), (Igf2, Igf2r)...   \n",
      "IMMU DendriticCells  [(F13a1, Itga9), (Gnai2, Igf1r), (Il16, Kcnd2)...   \n",
      "VESSEL MuralCells                     [(Mapk1, Fgfr2), (Vegfc, Itga9)]   \n",
      "MUSCLE Late                                                         []   \n",
      "\n",
      "                                                           FIB Origin5  \\\n",
      "MUSCLE Early                                                        []   \n",
      "NC SchwannCells                                                     []   \n",
      "IMMU MastCells                                                      []   \n",
      "IMMU Macrophages                                      [(Gnai2, S1pr3)]   \n",
      "NC Melanocytes                                                      []   \n",
      "VESSEL BECs          [(Efna1, Epha5), (Efna1, Epha4), (Efna1, Epha7...   \n",
      "EPI                  [(Efna1, Epha5), (Efna1, Epha4), (Efna1, Epha7...   \n",
      "FIB                  [(Efna2, Epha5), (Efna2, Epha4), (Efna2, Epha7...   \n",
      "MUSCLE Mid                                                          []   \n",
      "VESSEL LECs          [(Efna1, Epha5), (Efna1, Epha4), (Efna1, Epha7...   \n",
      "IMMU DendriticCells                                   [(Gnai2, S1pr3)]   \n",
      "VESSEL MuralCells                                                   []   \n",
      "MUSCLE Late                                                         []   \n",
      "\n",
      "                                                            FIB Upper2  \\\n",
      "MUSCLE Early                                [(Fyn, Thy1), (Tnc, Nt5e)]   \n",
      "NC SchwannCells      [(App, Ngfr), (App, Cav1), (Ngf, Ngfr), (Sema3...   \n",
      "IMMU MastCells           [(Calm1, Hmmr), (Itgb2, Thy1), (Tgfb1, Cav1)]   \n",
      "IMMU Macrophages     [(Calm1, Hmmr), (Gnai2, Cav1), (Hras, Cav1), (...   \n",
      "NC Melanocytes                            [(Fyn, Thy1), (Vegfb, Nrp1)]   \n",
      "VESSEL BECs          [(Adm, Pth1r), (Adm, Ramp2), (App, Ngfr), (App...   \n",
      "EPI                  [(App, Ngfr), (App, Cav1), (Hras, Cav1), (Icam...   \n",
      "FIB                  [(Bdnf, Ngfr), (Cyr61, Cav1), (Fn1, Nt5e), (Se...   \n",
      "MUSCLE Mid                                 [(Fyn, Thy1), (Rtn4, Ngfr)]   \n",
      "VESSEL LECs          [(Calm1, Hmmr), (Fyn, Thy1), (Gnai2, Cav1), (H...   \n",
      "IMMU DendriticCells  [(Calm1, Hmmr), (Gnai2, Cav1), (Icam1, Cav1), ...   \n",
      "VESSEL MuralCells                       [(Calm1, Hmmr), (Timp1, Cd63)]   \n",
      "MUSCLE Late                                [(Fyn, Thy1), (Rtn4, Ngfr)]   \n",
      "\n",
      "                                                             FIB Deep1  \\\n",
      "MUSCLE Early                             [(Edn3, Ednra), (Tnc, Itga8)]   \n",
      "NC SchwannCells      [(Col18a1, Itgb5), (Col4a2, Itgb5), (Sema4c, P...   \n",
      "IMMU MastCells                         [(Tgfb1, Itgb5), (Tln1, Itgb5)]   \n",
      "IMMU Macrophages     [(Adam9, Itgb5), (Gnai2, F2r), (Gnai2, Ednra),...   \n",
      "NC Melanocytes             [(Cdh1, Cdh2), (Npnt, Itga8), (Nppb, Npr3)]   \n",
      "VESSEL BECs          [(Col18a1, Itgb5), (Col4a2, Itgb5), (Gnai2, F2...   \n",
      "EPI                  [(Cdh1, Cdh2), (Col18a1, Itgb5), (Npnt, Itga8)...   \n",
      "FIB                  [(Cyr61, Itgb5), (Fn1, Itga8), (Ltbp1, Itgb5),...   \n",
      "MUSCLE Mid                          [(Rtn4, Tnfrsf19), (Tgfb3, Itgb5)]   \n",
      "VESSEL LECs          [(Col18a1, Itgb5), (Col4a2, Itgb5), (Gnai2, F2...   \n",
      "IMMU DendriticCells  [(Gnai2, F2r), (Gnai2, Ednra), (Sema4a, Plxnb2...   \n",
      "VESSEL MuralCells    [(Col4a2, Itgb5), (Tln1, Itgb5), (Vcl, Itgb5),...   \n",
      "MUSCLE Late          [(Npnt, Itga8), (Rtn4, Tnfrsf19), (Tgfb3, Itgb5)]   \n",
      "\n",
      "                                                             FIB Lower  \\\n",
      "MUSCLE Early         [(Fyn, Thy1), (Pdap1, Pdgfrb), (Pdgfa, Pdgfrb)...   \n",
      "NC SchwannCells      [(Pdgfa, Pdgfrb), (Sema3b, Nrp1), (Sema3c, Nrp...   \n",
      "IMMU MastCells                        [(Itgb2, Thy1), (Mfge8, Pdgfrb)]   \n",
      "IMMU Macrophages                                      [(Gnai2, Agtr2)]   \n",
      "NC Melanocytes           [(Fyn, Thy1), (Mfge8, Pdgfrb), (Vegfb, Nrp1)]   \n",
      "VESSEL BECs          [(Adm, Ramp2), (Fyn, Thy1), (Gnai2, Agtr2), (M...   \n",
      "EPI                                 [(Pdgfa, Pdgfrb), (Pdgfc, Pdgfrb)]   \n",
      "FIB                        [(Fn1, Nt5e), (Gpc3, Cd81), (Sema3a, Nrp1)]   \n",
      "MUSCLE Mid           [(Fyn, Thy1), (Pdap1, Pdgfrb), (Pdgfa, Pdgfrb)...   \n",
      "VESSEL LECs          [(Fyn, Thy1), (Gnai2, Agtr2), (Pgf, Nrp1), (Ti...   \n",
      "IMMU DendriticCells                    [(Gnai2, Agtr2), (Itgb2, Thy1)]   \n",
      "VESSEL MuralCells     [(Mfge8, Pdgfrb), (Timp1, Cd63), (Timp3, Agtr2)]   \n",
      "MUSCLE Late            [(Fyn, Thy1), (Pdgfa, Pdgfrb), (Pdgfc, Pdgfrb)]   \n",
      "\n",
      "                          FIB Origin4  ...  \\\n",
      "MUSCLE Early                       []  ...   \n",
      "NC SchwannCells                    []  ...   \n",
      "IMMU MastCells                     []  ...   \n",
      "IMMU Macrophages     [(Gnai2, S1pr3)]  ...   \n",
      "NC Melanocytes                     []  ...   \n",
      "VESSEL BECs          [(Gnai2, S1pr3)]  ...   \n",
      "EPI                                []  ...   \n",
      "FIB                                []  ...   \n",
      "MUSCLE Mid                         []  ...   \n",
      "VESSEL LECs          [(Gnai2, S1pr3)]  ...   \n",
      "IMMU DendriticCells  [(Gnai2, S1pr3)]  ...   \n",
      "VESSEL MuralCells                  []  ...   \n",
      "MUSCLE Late                        []  ...   \n",
      "\n",
      "                                                           FIB Muscle1  \\\n",
      "MUSCLE Early                            [(Tgfb2, Tgfbr2), (Tnc, Nt5e)]   \n",
      "NC SchwannCells      [(Gdnf, Gfra1), (Ngf, Maged1), (Npy, Fap), (Se...   \n",
      "IMMU MastCells       [(Gm11808, Tgfbr2), (Gm11808, Notch1), (Mfng, ...   \n",
      "IMMU Macrophages     [(Adam17, Notch1), (Gnai2, Agtr2), (Gnai2, F2r...   \n",
      "NC Melanocytes                                            [(Npy, Fap)]   \n",
      "VESSEL BECs          [(Adam10, Epha3), (Adam10, Notch1), (Dll4, Not...   \n",
      "EPI                  [(Cgn, Tgfbr2), (Efna1, Epha4), (Efna1, Epha3)...   \n",
      "FIB                  [(Dlk1, Notch1), (Efna2, Epha4), (Efna2, Epha3...   \n",
      "MUSCLE Mid                           [(Dll1, Notch1), (Tgfb3, Tgfbr2)]   \n",
      "VESSEL LECs          [(Adam10, Epha3), (Adam10, Notch1), (Dll4, Not...   \n",
      "IMMU DendriticCells  [(Gnai2, Agtr2), (Gnai2, F2r), (Mfng, Notch1),...   \n",
      "VESSEL MuralCells    [(Jag1, Notch1), (Timp1, Cd63), (Timp3, Agtr2)...   \n",
      "MUSCLE Late                          [(Dll1, Notch1), (Tgfb3, Tgfbr2)]   \n",
      "\n",
      "                                                           FIB Origin2  \\\n",
      "MUSCLE Early                        [(Pdgfa, Pdgfra), (Pdgfc, Pdgfra)]   \n",
      "NC SchwannCells      [(App, Ngfr), (Lama4, Itga6), (Lamb1, Itga6), ...   \n",
      "IMMU MastCells                         [(Ecm1, Cachd1), (Tgfb1, Sdc2)]   \n",
      "IMMU Macrophages     [(Adam9, Itga6), (Hras, Sdc2), (Pf4, Sdc2), (T...   \n",
      "NC Melanocytes                                         [(Vegfb, Nrp1)]   \n",
      "VESSEL BECs          [(App, Ngfr), (Hras, Sdc2), (Lama4, Itga6), (L...   \n",
      "EPI                  [(App, Ngfr), (Hras, Sdc2), (Lama3, Sdc2), (La...   \n",
      "FIB                  [(Bdnf, Ngfr), (Col6a1, Itga6), (Fn1, Itga6), ...   \n",
      "MUSCLE Mid            [(Pdgfa, Pdgfra), (Pdgfc, Pdgfra), (Rtn4, Ngfr)]   \n",
      "VESSEL LECs          [(Hras, Sdc2), (Lama4, Itga6), (Lamc1, Itga6),...   \n",
      "IMMU DendriticCells                                    [(Tgfb1, Sdc2)]   \n",
      "VESSEL MuralCells    [(Lama4, Itga6), (Lamb1, Itga6), (Lamc1, Itga6...   \n",
      "MUSCLE Late           [(Pdgfa, Pdgfra), (Pdgfc, Pdgfra), (Rtn4, Ngfr)]   \n",
      "\n",
      "                                                            FIB LateDC  \\\n",
      "MUSCLE Early         [(Edn3, Ednrb), (Fgf9, Fgfr1), (Fyn, Thy1), (H...   \n",
      "NC SchwannCells      [(App, Ngfr), (Col14a1, Cd44), (Col4a1, Itga1)...   \n",
      "IMMU MastCells       [(Itgb2, Thy1), (Mfge8, Pdgfrb), (Pkm, Cd44), ...   \n",
      "IMMU Macrophages     [(Apoc1, Vldlr), (Apoe, Vldlr), (Gnai2, Ednrb)...   \n",
      "NC Melanocytes       [(Apoe, Vldlr), (Fyn, Thy1), (Mfge8, Pdgfrb), ...   \n",
      "VESSEL BECs          [(Adm, Calcrl), (App, Ngfr), (Col4a1, Itga1), ...   \n",
      "EPI                  [(Apoc1, Vldlr), (App, Ngfr), (Efna1, Epha7), ...   \n",
      "FIB                  [(Bdnf, Ngfr), (Col14a1, Cd44), (Col1a1, Itga1...   \n",
      "MUSCLE Mid           [(Fyn, Thy1), (Pdap1, Pdgfrb), (Pdgfa, Pdgfrb)...   \n",
      "VESSEL LECs          [(Col4a1, Itga1), (Efna1, Epha7), (Fyn, Thy1),...   \n",
      "IMMU DendriticCells  [(Apoc1, Vldlr), (Gnai2, Ednrb), (Itgb2, Thy1)...   \n",
      "VESSEL MuralCells    [(Col4a1, Itga1), (Col6a3, Itga1), (Lamb1, Itg...   \n",
      "MUSCLE Late          [(Fyn, Thy1), (Pdgfa, Pdgfrb), (Pdgfc, Flt1), ...   \n",
      "\n",
      "                                                            FIB Inter2  \\\n",
      "MUSCLE Early                            [(Pkm, Cd44), (Tgfb2, Tgfbr2)]   \n",
      "NC SchwannCells      [(Col14a1, Cd44), (Hbegf, Cd44), (Pros1, Axl),...   \n",
      "IMMU MastCells       [(Gm11808, Tgfbr2), (Il6, Il6st), (Pkm, Cd44),...   \n",
      "IMMU Macrophages     [(Apoc1, Vldlr), (Apoe, Vldlr), (Ebi3, Il6st),...   \n",
      "NC Melanocytes               [(Apoe, Vldlr), (Pkm, Cd44), (Vim, Cd44)]   \n",
      "VESSEL BECs          [(Adam10, Epha3), (Adam10, Axl), (Efna1, Epha3...   \n",
      "EPI                  [(Apoc1, Vldlr), (Cgn, Tgfbr2), (Efna1, Epha3)...   \n",
      "FIB                  [(Col14a1, Cd44), (Col1a1, Cd44), (Col1a2, Cd4...   \n",
      "MUSCLE Mid                              [(Pkm, Cd44), (Tgfb3, Tgfbr2)]   \n",
      "VESSEL LECs          [(Adam10, Epha3), (Adam10, Axl), (Efna1, Epha3...   \n",
      "IMMU DendriticCells  [(Apoc1, Vldlr), (Ebi3, Il6st), (Gnai2, Agtr2)...   \n",
      "VESSEL MuralCells    [(Timp1, Cd63), (Timp3, Agtr2), (Vegfc, Nrp2),...   \n",
      "MUSCLE Late                                          [(Tgfb3, Tgfbr2)]   \n",
      "\n",
      "                            FIB Origin3  \\\n",
      "MUSCLE Early                         []   \n",
      "NC SchwannCells                      []   \n",
      "IMMU MastCells         [(Ecm1, Cachd1)]   \n",
      "IMMU Macrophages                     []   \n",
      "NC Melanocytes                       []   \n",
      "VESSEL BECs                          []   \n",
      "EPI                                  []   \n",
      "FIB                                  []   \n",
      "MUSCLE Mid           [(Rtn4, Tnfrsf19)]   \n",
      "VESSEL LECs                          []   \n",
      "IMMU DendriticCells                  []   \n",
      "VESSEL MuralCells                    []   \n",
      "MUSCLE Late          [(Rtn4, Tnfrsf19)]   \n",
      "\n",
      "                                                           FIB EarlyDC  \\\n",
      "MUSCLE Early         [(Fgf9, Fgfr1), (Fyn, Thy1), (Hmgb1, Sdc1), (H...   \n",
      "NC SchwannCells      [(App, Ngfr), (Dhh, Ptch2), (Dhh, Ptch1), (Dhh...   \n",
      "IMMU MastCells                                         [(Itgb2, Thy1)]   \n",
      "IMMU Macrophages                            [(Lpl, Sdc1), (Pf4, Thbd)]   \n",
      "NC Melanocytes                            [(Fyn, Thy1), (Vegfb, Nrp1)]   \n",
      "VESSEL BECs          [(Adm, Pth1r), (Adm, Ramp2), (App, Ngfr), (Fyn...   \n",
      "EPI                  [(App, Ngfr), (Hmgb1, Sdc1), (Hmgb1, Thbd), (L...   \n",
      "FIB                  [(Bdnf, Ngfr), (Efemp2, Aqp1), (Mdk, Sdc1), (N...   \n",
      "MUSCLE Mid               [(Fyn, Thy1), (Rtn4, Ngfr), (Sema6a, Plxna4)]   \n",
      "VESSEL LECs          [(Fyn, Thy1), (Hspg2, Sdc1), (Nts, Ngfr), (Pgf...   \n",
      "IMMU DendriticCells                       [(Itgb2, Thy1), (Lpl, Sdc1)]   \n",
      "VESSEL MuralCells                                                   []   \n",
      "MUSCLE Late              [(Fyn, Thy1), (Rtn4, Ngfr), (Sema6a, Plxna4)]   \n",
      "\n",
      "                                                           FIB Origin6  \\\n",
      "MUSCLE Early                                                        []   \n",
      "NC SchwannCells      [(Dhh, Cdon), (Sema3b, Nrp2), (Sema3c, Nrp2), ...   \n",
      "IMMU MastCells                                                      []   \n",
      "IMMU Macrophages                                      [(Gnai2, S1pr3)]   \n",
      "NC Melanocytes                                                      []   \n",
      "VESSEL BECs          [(Adam10, Epha3), (Efna1, Epha3), (Efna1, Epha...   \n",
      "EPI                  [(Efna1, Epha3), (Efna1, Epha4), (Efnb2, Epha3...   \n",
      "FIB                  [(Efna2, Epha3), (Efna2, Epha4), (Efna4, Epha3...   \n",
      "MUSCLE Mid                                                          []   \n",
      "VESSEL LECs          [(Adam10, Epha3), (Efna1, Epha3), (Efna1, Epha...   \n",
      "IMMU DendriticCells                                   [(Gnai2, S1pr3)]   \n",
      "VESSEL MuralCells                                      [(Vegfc, Nrp2)]   \n",
      "MUSCLE Late                                                         []   \n",
      "\n",
      "                                                       FIB Origin1  \\\n",
      "MUSCLE Early                                                    []   \n",
      "NC SchwannCells                                                 []   \n",
      "IMMU MastCells                                     [(Tgfb1, Sdc2)]   \n",
      "IMMU Macrophages        [(Hras, Sdc2), (Pf4, Sdc2), (Tgfb1, Sdc2)]   \n",
      "NC Melanocytes                                                  []   \n",
      "VESSEL BECs                          [(Hras, Sdc2), (Tgfb1, Sdc2)]   \n",
      "EPI                                  [(Hras, Sdc2), (Lama3, Sdc2)]   \n",
      "FIB                  [(Fn1, Sdc2), (Mmp2, Sdc2), (Serpinc1, Sdc2)]   \n",
      "MUSCLE Mid                                      [(Rtn4, Tnfrsf19)]   \n",
      "VESSEL LECs                          [(Hras, Sdc2), (Tgfb1, Sdc2)]   \n",
      "IMMU DendriticCells                                [(Tgfb1, Sdc2)]   \n",
      "VESSEL MuralCells                                               []   \n",
      "MUSCLE Late                                     [(Rtn4, Tnfrsf19)]   \n",
      "\n",
      "                                                            FIB Inter3  \\\n",
      "MUSCLE Early                                             [(Pkm, Cd44)]   \n",
      "NC SchwannCells      [(Col14a1, Cd44), (Col18a1, Itgb5), (Col4a2, I...   \n",
      "IMMU MastCells       [(Calm1, Mylk), (Calm2, Mylk), (Calm3, Mylk), ...   \n",
      "IMMU Macrophages     [(Adam9, Itgb5), (Apoc1, Vldlr), (Apoe, Vldlr)...   \n",
      "NC Melanocytes       [(Apoe, Vldlr), (Calm2, Mylk), (Pkm, Cd44), (V...   \n",
      "VESSEL BECs          [(Adam10, Axl), (Adm, Ramp2), (Calm1, Mylk), (...   \n",
      "EPI                  [(Apoc1, Vldlr), (Col18a1, Itgb5), (Ntf5, Ntrk...   \n",
      "FIB                  [(Bdnf, Ntrk2), (Col14a1, Cd44), (Col1a1, Cd44...   \n",
      "MUSCLE Mid                               [(Pkm, Cd44), (Tgfb3, Itgb5)]   \n",
      "VESSEL LECs          [(Adam10, Axl), (Calm1, Mylk), (Col18a1, Itgb5...   \n",
      "IMMU DendriticCells  [(Apoc1, Vldlr), (Calm1, Mylk), (Gnai2, Agtr2)...   \n",
      "VESSEL MuralCells    [(Calm1, Mylk), (Col4a2, Itgb5), (Timp3, Agtr2...   \n",
      "MUSCLE Late                                           [(Tgfb3, Itgb5)]   \n",
      "\n",
      "                                                            FIB Upper1  \n",
      "MUSCLE Early                                                        []  \n",
      "NC SchwannCells                                                     []  \n",
      "IMMU MastCells                                         [(Tgfb1, Sdc2)]  \n",
      "IMMU Macrophages            [(Hras, Sdc2), (Pf4, Sdc2), (Tgfb1, Sdc2)]  \n",
      "NC Melanocytes                                                      []  \n",
      "VESSEL BECs                [(Adm, Pth1r), (Hras, Sdc2), (Tgfb1, Sdc2)]  \n",
      "EPI                                      [(Hras, Sdc2), (Lama3, Sdc2)]  \n",
      "FIB                  [(Fn1, Sdc2), (Mmp2, Sdc2), (Serpinc1, Sdc2), ...  \n",
      "MUSCLE Mid                                          [(Rtn4, Tnfrsf19)]  \n",
      "VESSEL LECs                              [(Hras, Sdc2), (Tgfb1, Sdc2)]  \n",
      "IMMU DendriticCells                                    [(Tgfb1, Sdc2)]  \n",
      "VESSEL MuralCells                                                   []  \n",
      "MUSCLE Late                                         [(Rtn4, Tnfrsf19)]  \n",
      "\n",
      "[13 rows x 22 columns]\n"
     ]
    }
   ],
   "source": [
    "#Determine the (number of) observed receptor-ligand pairs for each cluster pair\n",
    "ligrec_dge_df, ligrec_dge_dict, quant_ligrec_dge_df, quant_ligrec_dge_dict = quantify_LigRec(lig_dge_dict, \n",
    "                                                                                             rec_dge_dict2, \n",
    "                                                                                             Pairs_LigRec_mm_S)\n",
    "print('ligrec_dge_df')\n",
    "print(ligrec_dge_df)"
   ]
  },
  {
   "cell_type": "code",
   "execution_count": 22,
   "metadata": {
    "ExecuteTime": {
     "end_time": "2023-03-28T18:30:38.487884Z",
     "start_time": "2023-03-28T18:30:38.424447Z"
    }
   },
   "outputs": [
    {
     "name": "stdout",
     "output_type": "stream",
     "text": [
      "ligrec_dge_dict\n",
      "{'MUSCLE Early - FIB Inter1': [('Pkm', 'Cd44')], 'MUSCLE Early - FIB Muscle2': [], 'MUSCLE Early - FIB Upper4': [('Fgf9', 'Fgfr1'), ('Fyn', 'Thy1')], 'MUSCLE Early - FIB Upper3': [('Edn3', 'Ednra'), ('Fgf9', 'Fgfr1'), ('Fyn', 'Thy1'), ('Hmgb1', 'Sdc1'), ('Tnc', 'Nt5e'), ('Tnc', 'Sdc1')], 'MUSCLE Early - CHOND': [('Fgf9', 'Fgfr3'), ('Fgf9', 'Fgfr2'), ('Hsp90aa1', 'Fgfr3'), ('Tnc', 'Itga9')], 'MUSCLE Early - FIB Origin5': [], 'MUSCLE Early - FIB Upper2': [('Fyn', 'Thy1'), ('Tnc', 'Nt5e')], 'MUSCLE Early - FIB Deep1': [('Edn3', 'Ednra'), ('Tnc', 'Itga8')], 'MUSCLE Early - FIB Lower': [('Fyn', 'Thy1'), ('Pdap1', 'Pdgfrb'), ('Pdgfa', 'Pdgfrb'), ('Pdgfc', 'Pdgfrb'), ('Tnc', 'Nt5e')], 'MUSCLE Early - FIB Origin4': [], 'MUSCLE Early - FIB Deep2': [('Pkm', 'Cd44')], 'MUSCLE Early - FIB Deep3': [], 'MUSCLE Early - FIB Muscle1': [('Tgfb2', 'Tgfbr2'), ('Tnc', 'Nt5e')], 'MUSCLE Early - FIB Origin2': [('Pdgfa', 'Pdgfra'), ('Pdgfc', 'Pdgfra')], 'MUSCLE Early - FIB LateDC': [('Edn3', 'Ednrb'), ('Fgf9', 'Fgfr1'), ('Fyn', 'Thy1'), ('Hmgb1', 'Sdc1'), ('Pdap1', 'Pdgfrb'), ('Pdgfa', 'Pdgfrb'), ('Pdgfc', 'Flt1'), ('Pdgfc', 'Pdgfrb'), ('Pkm', 'Cd44'), ('Tnc', 'Sdc1'), ('Tnc', 'Nt5e')], 'MUSCLE Early - FIB Inter2': [('Pkm', 'Cd44'), ('Tgfb2', 'Tgfbr2')], 'MUSCLE Early - FIB Origin3': [], 'MUSCLE Early - FIB EarlyDC': [('Fgf9', 'Fgfr1'), ('Fyn', 'Thy1'), ('Hmgb1', 'Sdc1'), ('Hmgb1', 'Thbd'), ('Tnc', 'Sdc1')], 'MUSCLE Early - FIB Origin6': [], 'MUSCLE Early - FIB Origin1': [], 'MUSCLE Early - FIB Inter3': [('Pkm', 'Cd44')], 'MUSCLE Early - FIB Upper1': [], 'NC SchwannCells - FIB Inter1': [('Col14a1', 'Cd44'), ('Hbegf', 'Cd44'), ('Reln', 'Vldlr'), ('Timp3', 'Agtr2'), ('Vcan', 'Cd44'), ('Vim', 'Cd44')], 'NC SchwannCells - FIB Muscle2': [('App', 'Ngfr'), ('Gdnf', 'Gfra1'), ('Ngf', 'Ngfr'), ('Npy', 'Fap'), ('Sema3b', 'Nrp2'), ('Sema3c', 'Nrp2'), ('Sema3g', 'Nrp2'), ('Timp3', 'Agtr2')], 'NC SchwannCells - FIB Upper4': [('Col4a1', 'Cd47'), ('Sema3b', 'Nrp1'), ('Sema3c', 'Nrp1')], 'NC SchwannCells - FIB Upper3': [('App', 'Cav1'), ('App', 'Ngfr'), ('Col4a1', 'Cd47'), ('Dhh', 'Ptch1'), ('Hspg2', 'Sdc1'), ('Ngf', 'Ngfr'), ('Nlgn3', 'Nrxn2'), ('Sema3b', 'Nrp1'), ('Sema3c', 'Nrp1')], 'NC SchwannCells - CHOND': [('Adam12', 'Itga9'), ('Dhh', 'Boc'), ('Dkk2', 'Lrp6'), ('L1cam', 'Fgfr2'), ('Nlgn3', 'Nrxn1')], 'NC SchwannCells - FIB Origin5': [], 'NC SchwannCells - FIB Upper2': [('App', 'Ngfr'), ('App', 'Cav1'), ('Ngf', 'Ngfr'), ('Sema3b', 'Nrp1'), ('Sema3c', 'Nrp1')], 'NC SchwannCells - FIB Deep1': [('Col18a1', 'Itgb5'), ('Col4a2', 'Itgb5'), ('Sema4c', 'Plxnb2'), ('Sorbs1', 'Itgb5')], 'NC SchwannCells - FIB Lower': [('Pdgfa', 'Pdgfrb'), ('Sema3b', 'Nrp1'), ('Sema3c', 'Nrp1'), ('Timp3', 'Agtr2')], 'NC SchwannCells - FIB Origin4': [], 'NC SchwannCells - FIB Deep2': [('Col14a1', 'Cd44'), ('Col18a1', 'Itgb5'), ('Col4a2', 'Itgb5'), ('Gdnf', 'Gfra3'), ('Hbegf', 'Cd44'), ('Hspg2', 'Col13a1'), ('Sema3b', 'Nrp2'), ('Sema3c', 'Nrp2'), ('Sema3g', 'Nrp2'), ('Sorbs1', 'Itgb5'), ('Vcan', 'Cd44'), ('Vim', 'Cd44')], 'NC SchwannCells - FIB Deep3': [('Col18a1', 'Itgb5'), ('Col4a2', 'Itgb5'), ('Dhh', 'Boc'), ('Nlgn3', 'Nrxn1'), ('Pros1', 'Axl'), ('Sema3b', 'Nrp2'), ('Sema3c', 'Nrp2'), ('Sema3g', 'Nrp2'), ('Sorbs1', 'Itgb5')], 'NC SchwannCells - FIB Muscle1': [('Gdnf', 'Gfra1'), ('Ngf', 'Maged1'), ('Npy', 'Fap'), ('Sema3b', 'Nrp2'), ('Sema3c', 'Nrp2'), ('Sema3g', 'Nrp2'), ('Timp3', 'Agtr2')], 'NC SchwannCells - FIB Origin2': [('App', 'Ngfr'), ('Lama4', 'Itga6'), ('Lamb1', 'Itga6'), ('Lamc1', 'Itga6'), ('Ngf', 'Ngfr'), ('Pdgfa', 'Pdgfra'), ('Sema3b', 'Nrp1'), ('Sema3c', 'Nrp1')], 'NC SchwannCells - FIB LateDC': [('App', 'Ngfr'), ('Col14a1', 'Cd44'), ('Col4a1', 'Itga1'), ('Dhh', 'Ptch2'), ('Dhh', 'Ptch1'), ('Dhh', 'Hhip'), ('Gdnf', 'Ednrb'), ('Hbegf', 'Cd44'), ('Hspg2', 'Sdc1'), ('Lamb1', 'Itga1'), ('Lamc1', 'Itga1'), ('Ngf', 'Ngfr'), ('Nlgn3', 'Nrxn2'), ('Pdgfa', 'Pdgfrb'), ('Reln', 'Vldlr'), ('Sema3b', 'Nrp2'), ('Sema3c', 'Nrp2'), ('Sema3g', 'Nrp2'), ('Sorbs1', 'Itga1'), ('Vcan', 'Cd44'), ('Vim', 'Cd44')], 'NC SchwannCells - FIB Inter2': [('Col14a1', 'Cd44'), ('Hbegf', 'Cd44'), ('Pros1', 'Axl'), ('Reln', 'Vldlr'), ('Sema3b', 'Nrp2'), ('Sema3c', 'Nrp2'), ('Sema3g', 'Nrp2'), ('Timp3', 'Agtr2'), ('Vcan', 'Cd44'), ('Vim', 'Cd44')], 'NC SchwannCells - FIB Origin3': [], 'NC SchwannCells - FIB EarlyDC': [('App', 'Ngfr'), ('Dhh', 'Ptch2'), ('Dhh', 'Ptch1'), ('Dhh', 'Hhip'), ('Hspg2', 'Sdc1'), ('Ngf', 'Ngfr'), ('Nlgn3', 'Nrxn2'), ('Sema3b', 'Nrp1'), ('Sema3c', 'Nrp1')], 'NC SchwannCells - FIB Origin6': [('Dhh', 'Cdon'), ('Sema3b', 'Nrp2'), ('Sema3c', 'Nrp2'), ('Sema3g', 'Nrp2')], 'NC SchwannCells - FIB Origin1': [], 'NC SchwannCells - FIB Inter3': [('Col14a1', 'Cd44'), ('Col18a1', 'Itgb5'), ('Col4a2', 'Itgb5'), ('Hbegf', 'Cd44'), ('Pros1', 'Axl'), ('Reln', 'Vldlr'), ('Sorbs1', 'Itgb5'), ('Timp3', 'Agtr2'), ('Vcan', 'Cd44'), ('Vim', 'Cd44')], 'NC SchwannCells - FIB Upper1': [], 'IMMU MastCells - FIB Inter1': [('Il6', 'Il6st'), ('Pkm', 'Cd44')], 'IMMU MastCells - FIB Muscle2': [], 'IMMU MastCells - FIB Upper4': [('Calm1', 'Hmmr'), ('Itgb2', 'Thy1')], 'IMMU MastCells - FIB Upper3': [('Itgb2', 'Thy1'), ('Tgfb1', 'Cav1')], 'IMMU MastCells - CHOND': [('Hsp90aa1', 'Fgfr3')], 'IMMU MastCells - FIB Origin5': [], 'IMMU MastCells - FIB Upper2': [('Calm1', 'Hmmr'), ('Itgb2', 'Thy1'), ('Tgfb1', 'Cav1')], 'IMMU MastCells - FIB Deep1': [('Tgfb1', 'Itgb5'), ('Tln1', 'Itgb5')], 'IMMU MastCells - FIB Lower': [('Itgb2', 'Thy1'), ('Mfge8', 'Pdgfrb')], 'IMMU MastCells - FIB Origin4': [], 'IMMU MastCells - FIB Deep2': [('Pkm', 'Cd44'), ('Tgfb1', 'Itgb5'), ('Tln1', 'Itgb5')], 'IMMU MastCells - FIB Deep3': [('Tgfb1', 'Itgb5'), ('Tln1', 'Itgb5')], 'IMMU MastCells - FIB Muscle1': [('Gm11808', 'Tgfbr2'), ('Gm11808', 'Notch1'), ('Mfng', 'Notch1'), ('Tgfb1', 'Tgfbr2')], 'IMMU MastCells - FIB Origin2': [('Ecm1', 'Cachd1'), ('Tgfb1', 'Sdc2')], 'IMMU MastCells - FIB LateDC': [('Itgb2', 'Thy1'), ('Mfge8', 'Pdgfrb'), ('Pkm', 'Cd44'), ('Tgfb1', 'Smad3')], 'IMMU MastCells - FIB Inter2': [('Gm11808', 'Tgfbr2'), ('Il6', 'Il6st'), ('Pkm', 'Cd44'), ('Tgfb1', 'Tgfbr2')], 'IMMU MastCells - FIB Origin3': [('Ecm1', 'Cachd1')], 'IMMU MastCells - FIB EarlyDC': [('Itgb2', 'Thy1')], 'IMMU MastCells - FIB Origin6': [], 'IMMU MastCells - FIB Origin1': [('Tgfb1', 'Sdc2')], 'IMMU MastCells - FIB Inter3': [('Calm1', 'Mylk'), ('Calm2', 'Mylk'), ('Calm3', 'Mylk'), ('Il6', 'F3'), ('Pkm', 'Cd44'), ('Tgfb1', 'Itgb5'), ('Tln1', 'Itgb5')], 'IMMU MastCells - FIB Upper1': [('Tgfb1', 'Sdc2')], 'IMMU Macrophages - FIB Inter1': [('Apoc1', 'Vldlr'), ('Apoe', 'Vldlr'), ('Ebi3', 'Il6st'), ('Gnai2', 'Agtr2'), ('Lpl', 'Vldlr'), ('Lpl', 'Cd44')], 'IMMU Macrophages - FIB Muscle2': [('Gnai2', 'Agtr2'), ('Igf1', 'Igf2r')], 'IMMU Macrophages - FIB Upper4': [('Calm1', 'Hmmr')], 'IMMU Macrophages - FIB Upper3': [('Apoe', 'Scarb1'), ('Gnai2', 'Cav1'), ('Gnai2', 'Ednra'), ('Hras', 'Cav1'), ('Lpl', 'Sdc1'), ('Tgfb1', 'Cav1')], 'IMMU Macrophages - CHOND': [('Adam15', 'Itga9'), ('C1qa', 'Cspg4'), ('F13a1', 'Itga9'), ('Gnai2', 'Igf1r'), ('Igf1', 'Igf2r'), ('Igf1', 'Igf1r'), ('Igfbp4', 'Lrp6'), ('Il16', 'Kcnd2'), ('Pf4', 'Fgfr2')], 'IMMU Macrophages - FIB Origin5': [('Gnai2', 'S1pr3')], 'IMMU Macrophages - FIB Upper2': [('Calm1', 'Hmmr'), ('Gnai2', 'Cav1'), ('Hras', 'Cav1'), ('Tgfb1', 'Cav1')], 'IMMU Macrophages - FIB Deep1': [('Adam9', 'Itgb5'), ('Gnai2', 'F2r'), ('Gnai2', 'Ednra'), ('Tgfb1', 'Itgb5'), ('Tln1', 'Itgb5')], 'IMMU Macrophages - FIB Lower': [('Gnai2', 'Agtr2')], 'IMMU Macrophages - FIB Origin4': [('Gnai2', 'S1pr3')], 'IMMU Macrophages - FIB Deep2': [('Adam9', 'Itgb5'), ('Igf1', 'Igf2r'), ('Lpl', 'Cd44'), ('Tgfb1', 'Itgb5'), ('Tln1', 'Itgb5')], 'IMMU Macrophages - FIB Deep3': [('Adam9', 'Itgb5'), ('Gas6', 'Axl'), ('Tgfb1', 'Itgb5'), ('Tln1', 'Itgb5')], 'IMMU Macrophages - FIB Muscle1': [('Adam17', 'Notch1'), ('Gnai2', 'Agtr2'), ('Gnai2', 'F2r'), ('Igf1', 'Igf2r'), ('Tgfb1', 'Tgfbr2')], 'IMMU Macrophages - FIB Origin2': [('Adam9', 'Itga6'), ('Hras', 'Sdc2'), ('Pf4', 'Sdc2'), ('Tgfb1', 'Sdc2')], 'IMMU Macrophages - FIB LateDC': [('Apoc1', 'Vldlr'), ('Apoe', 'Vldlr'), ('Gnai2', 'Ednrb'), ('Lpl', 'Sdc1'), ('Lpl', 'Cd44'), ('Lpl', 'Vldlr'), ('Tgfb1', 'Smad3')], 'IMMU Macrophages - FIB Inter2': [('Apoc1', 'Vldlr'), ('Apoe', 'Vldlr'), ('Ebi3', 'Il6st'), ('Gas6', 'Axl'), ('Gnai2', 'Agtr2'), ('Igf1', 'Igf2r'), ('Lpl', 'Cd44'), ('Lpl', 'Vldlr'), ('Tgfb1', 'Tgfbr2')], 'IMMU Macrophages - FIB Origin3': [], 'IMMU Macrophages - FIB EarlyDC': [('Lpl', 'Sdc1'), ('Pf4', 'Thbd')], 'IMMU Macrophages - FIB Origin6': [('Gnai2', 'S1pr3')], 'IMMU Macrophages - FIB Origin1': [('Hras', 'Sdc2'), ('Pf4', 'Sdc2'), ('Tgfb1', 'Sdc2')], 'IMMU Macrophages - FIB Inter3': [('Adam9', 'Itgb5'), ('Apoc1', 'Vldlr'), ('Apoe', 'Vldlr'), ('Calm1', 'Mylk'), ('Calm2', 'Mylk'), ('Gas6', 'Axl'), ('Gnai2', 'Agtr2'), ('Igf1', 'Igf2r'), ('Lpl', 'Cd44'), ('Lpl', 'Vldlr'), ('Tgfb1', 'Itgb5'), ('Tln1', 'Itgb5')], 'IMMU Macrophages - FIB Upper1': [('Hras', 'Sdc2'), ('Pf4', 'Sdc2'), ('Tgfb1', 'Sdc2')], 'NC Melanocytes - FIB Inter1': [('Apoe', 'Vldlr'), ('Nppb', 'Npr3'), ('Pkm', 'Cd44'), ('Vim', 'Cd44')], 'NC Melanocytes - FIB Muscle2': [('Npy', 'Fap')], 'NC Melanocytes - FIB Upper4': [('Fyn', 'Thy1'), ('Vegfb', 'Nrp1')], 'NC Melanocytes - FIB Upper3': [('Apoe', 'Scarb1'), ('Fyn', 'Thy1'), ('Vegfb', 'Nrp1')], 'NC Melanocytes - CHOND': [('Cdh1', 'Igf1r'), ('Hsp90aa1', 'Fgfr3')], 'NC Melanocytes - FIB Origin5': [], 'NC Melanocytes - FIB Upper2': [('Fyn', 'Thy1'), ('Vegfb', 'Nrp1')], 'NC Melanocytes - FIB Deep1': [('Cdh1', 'Cdh2'), ('Npnt', 'Itga8'), ('Nppb', 'Npr3')], 'NC Melanocytes - FIB Lower': [('Fyn', 'Thy1'), ('Mfge8', 'Pdgfrb'), ('Vegfb', 'Nrp1')], 'NC Melanocytes - FIB Origin4': [], 'NC Melanocytes - FIB Deep2': [('Cdh1', 'Cdh2'), ('Pkm', 'Cd44'), ('Vim', 'Cd44')], 'NC Melanocytes - FIB Deep3': [('Cdh1', 'Cdh2')], 'NC Melanocytes - FIB Muscle1': [('Npy', 'Fap')], 'NC Melanocytes - FIB Origin2': [('Vegfb', 'Nrp1')], 'NC Melanocytes - FIB LateDC': [('Apoe', 'Vldlr'), ('Fyn', 'Thy1'), ('Mfge8', 'Pdgfrb'), ('Pkm', 'Cd44'), ('Vegfb', 'Flt1'), ('Vim', 'Cd44')], 'NC Melanocytes - FIB Inter2': [('Apoe', 'Vldlr'), ('Pkm', 'Cd44'), ('Vim', 'Cd44')], 'NC Melanocytes - FIB Origin3': [], 'NC Melanocytes - FIB EarlyDC': [('Fyn', 'Thy1'), ('Vegfb', 'Nrp1')], 'NC Melanocytes - FIB Origin6': [], 'NC Melanocytes - FIB Origin1': [], 'NC Melanocytes - FIB Inter3': [('Apoe', 'Vldlr'), ('Calm2', 'Mylk'), ('Pkm', 'Cd44'), ('Vim', 'Cd44')], 'NC Melanocytes - FIB Upper1': [], 'VESSEL BECs - FIB Inter1': [('Efna1', 'Epha7'), ('Gnai2', 'Agtr2'), ('Hbegf', 'Cd44'), ('Madcam1', 'Cd44'), ('Pkm', 'Cd44'), ('Tfpi', 'Vldlr'), ('Timp3', 'Agtr2'), ('Vim', 'Cd44')], 'VESSEL BECs - FIB Muscle2': [('Adm', 'Ramp3'), ('App', 'Ngfr'), ('Efna1', 'Epha4'), ('Efnb2', 'Epha4'), ('Gnai2', 'Agtr2'), ('Timp3', 'Agtr2')], 'VESSEL BECs - FIB Upper4': [('Adm', 'Pth1r'), ('Calm1', 'Hmmr'), ('Col4a1', 'Cd47'), ('Fyn', 'Thy1')], 'VESSEL BECs - FIB Upper3': [('Adm', 'Pth1r'), ('Adm', 'Ramp2'), ('App', 'Cav1'), ('App', 'Ngfr'), ('Col4a1', 'Cd47'), ('Fyn', 'Thy1'), ('Gnai2', 'Cav1'), ('Gnai2', 'Ednra'), ('Hras', 'Cav1'), ('Hspg2', 'Sdc1'), ('Icam1', 'Cav1'), ('Tgfb1', 'Cav1')], 'VESSEL BECs - CHOND': [('Adam15', 'Itga9'), ('Efna1', 'Epha7'), ('Gnai2', 'Igf1r'), ('Igfbp4', 'Lrp6'), ('Il16', 'Kcnd2')], 'VESSEL BECs - FIB Origin5': [('Efna1', 'Epha5'), ('Efna1', 'Epha4'), ('Efna1', 'Epha7'), ('Efnb2', 'Epha4'), ('Gnai2', 'S1pr3')], 'VESSEL BECs - FIB Upper2': [('Adm', 'Pth1r'), ('Adm', 'Ramp2'), ('App', 'Ngfr'), ('App', 'Cav1'), ('Calm1', 'Hmmr'), ('Fyn', 'Thy1'), ('Gnai2', 'Cav1'), ('Hras', 'Cav1'), ('Icam1', 'Cav1'), ('Tgfb1', 'Cav1')], 'VESSEL BECs - FIB Deep1': [('Col18a1', 'Itgb5'), ('Col4a2', 'Itgb5'), ('Gnai2', 'F2r'), ('Gnai2', 'Ednra'), ('Sema4c', 'Plxnb2'), ('Tgfb1', 'Itgb5')], 'VESSEL BECs - FIB Lower': [('Adm', 'Ramp2'), ('Fyn', 'Thy1'), ('Gnai2', 'Agtr2'), ('Mfge8', 'Pdgfrb'), ('Pdgfb', 'Pdgfrb'), ('Timp3', 'Agtr2')], 'VESSEL BECs - FIB Origin4': [('Gnai2', 'S1pr3')], 'VESSEL BECs - FIB Deep2': [('Col18a1', 'Itgb5'), ('Col4a2', 'Itgb5'), ('Efna1', 'Epha4'), ('Efna1', 'Epha7'), ('Efnb2', 'Epha4'), ('Hbegf', 'Cd44'), ('Hspg2', 'Col13a1'), ('Madcam1', 'Cd44'), ('Nid1', 'Col13a1'), ('Nid2', 'Col13a1'), ('Pkm', 'Cd44'), ('Tgfb1', 'Itgb5'), ('Vim', 'Cd44')], 'VESSEL BECs - FIB Deep3': [('Adam10', 'Efna3'), ('Adam10', 'Axl'), ('Adam10', 'Epha3'), ('Col18a1', 'Itgb5'), ('Col4a2', 'Itgb5'), ('Efna1', 'Ephb1'), ('Efna1', 'Epha7'), ('Efna1', 'Epha3'), ('Efnb2', 'Ephb1'), ('Efnb2', 'Epha3'), ('Tgfb1', 'Itgb5')], 'VESSEL BECs - FIB Muscle1': [('Adam10', 'Epha3'), ('Adam10', 'Notch1'), ('Dll4', 'Notch1'), ('Efna1', 'Epha4'), ('Efna1', 'Epha3'), ('Efnb2', 'Epha4'), ('Efnb2', 'Epha3'), ('Gnai2', 'Agtr2'), ('Gnai2', 'F2r'), ('Mfng', 'Notch1'), ('Tgfb1', 'Tgfbr2'), ('Timp3', 'Agtr2')], 'VESSEL BECs - FIB Origin2': [('App', 'Ngfr'), ('Hras', 'Sdc2'), ('Lama4', 'Itga6'), ('Lamb1', 'Itga6'), ('Lamc1', 'Itga6'), ('Pdgfb', 'Pdgfra'), ('Tgfb1', 'Sdc2')], 'VESSEL BECs - FIB LateDC': [('Adm', 'Calcrl'), ('App', 'Ngfr'), ('Col4a1', 'Itga1'), ('Efna1', 'Epha7'), ('Fyn', 'Thy1'), ('Gnai2', 'Ednrb'), ('Hbegf', 'Cd44'), ('Hspg2', 'Sdc1'), ('Lamb1', 'Itga1'), ('Lamc1', 'Itga1'), ('Madcam1', 'Cd44'), ('Mfge8', 'Pdgfrb'), ('Pdgfb', 'Pdgfrb'), ('Pkm', 'Cd44'), ('Tfpi', 'Vldlr'), ('Tgfb1', 'Smad3'), ('Vim', 'Cd44')], 'VESSEL BECs - FIB Inter2': [('Adam10', 'Epha3'), ('Adam10', 'Axl'), ('Efna1', 'Epha3'), ('Efnb2', 'Epha3'), ('Gnai2', 'Agtr2'), ('Hbegf', 'Cd44'), ('Madcam1', 'Cd44'), ('Pkm', 'Cd44'), ('Tfpi', 'Vldlr'), ('Tgfb1', 'Tgfbr2'), ('Timp3', 'Agtr2'), ('Vim', 'Cd44')], 'VESSEL BECs - FIB Origin3': [], 'VESSEL BECs - FIB EarlyDC': [('Adm', 'Pth1r'), ('Adm', 'Ramp2'), ('App', 'Ngfr'), ('Fyn', 'Thy1'), ('Hspg2', 'Sdc1')], 'VESSEL BECs - FIB Origin6': [('Adam10', 'Epha3'), ('Efna1', 'Epha3'), ('Efna1', 'Epha4'), ('Efnb2', 'Epha3'), ('Efnb2', 'Epha4'), ('Gnai2', 'S1pr3')], 'VESSEL BECs - FIB Origin1': [('Hras', 'Sdc2'), ('Tgfb1', 'Sdc2')], 'VESSEL BECs - FIB Inter3': [('Adam10', 'Axl'), ('Adm', 'Ramp2'), ('Calm1', 'Mylk'), ('Col18a1', 'Itgb5'), ('Col4a2', 'Itgb5'), ('Gnai2', 'Agtr2'), ('Hbegf', 'Cd44'), ('Madcam1', 'Cd44'), ('Pkm', 'Cd44'), ('Tfpi', 'F3'), ('Tfpi', 'Vldlr'), ('Tgfb1', 'Itgb5'), ('Timp3', 'Agtr2'), ('Vim', 'Cd44')], 'VESSEL BECs - FIB Upper1': [('Adm', 'Pth1r'), ('Hras', 'Sdc2'), ('Tgfb1', 'Sdc2')], 'EPI - FIB Inter1': [('Apoc1', 'Vldlr'), ('Efna1', 'Epha7'), ('Ntf5', 'Ntrk2'), ('Wnt3', 'Fzd1'), ('Wnt3a', 'Fzd1'), ('Wnt7b', 'Fzd1')], 'EPI - FIB Muscle2': [('App', 'Ngfr'), ('Efna1', 'Epha4'), ('Efnb2', 'Epha4'), ('Nrtn', 'Gfra1'), ('Ntf5', 'Ngfr'), ('Ntf5', 'Ntrk2')], 'EPI - FIB Upper4': [], 'EPI - FIB Upper3': [('App', 'Cav1'), ('App', 'Ngfr'), ('Hmgb1', 'Sdc1'), ('Hras', 'Cav1'), ('Icam1', 'Cav1'), ('Lama5', 'Sdc1'), ('Ntf5', 'Ngfr')], 'EPI - CHOND': [('Cdh1', 'Igf1r'), ('Efna1', 'Epha7'), ('Ntf5', 'Ntrk2'), ('Wnt3', 'Fzd7'), ('Wnt3', 'Lrp6'), ('Wnt3a', 'Fzd7'), ('Wnt3a', 'Lrp6'), ('Wnt7a', 'Fzd9'), ('Wnt7a', 'Lrp6')], 'EPI - FIB Origin5': [('Efna1', 'Epha5'), ('Efna1', 'Epha4'), ('Efna1', 'Epha7'), ('Efnb2', 'Epha4')], 'EPI - FIB Upper2': [('App', 'Ngfr'), ('App', 'Cav1'), ('Hras', 'Cav1'), ('Icam1', 'Cav1'), ('Ntf5', 'Ngfr')], 'EPI - FIB Deep1': [('Cdh1', 'Cdh2'), ('Col18a1', 'Itgb5'), ('Npnt', 'Itga8'), ('Wnt7a', 'Fzd10'), ('Wnt7b', 'Fzd10')], 'EPI - FIB Lower': [('Pdgfa', 'Pdgfrb'), ('Pdgfc', 'Pdgfrb')], 'EPI - FIB Origin4': [], 'EPI - FIB Deep2': [('Cdh1', 'Cdh2'), ('Col18a1', 'Itgb5'), ('Efna1', 'Epha4'), ('Efna1', 'Epha7'), ('Efnb2', 'Epha4'), ('Nrtn', 'Gfra3')], 'EPI - FIB Deep3': [('Cdh1', 'Cdh2'), ('Col18a1', 'Itgb5'), ('Efna1', 'Ephb1'), ('Efna1', 'Epha7'), ('Efna1', 'Epha3'), ('Efnb2', 'Ephb1'), ('Efnb2', 'Epha3')], 'EPI - FIB Muscle1': [('Cgn', 'Tgfbr2'), ('Efna1', 'Epha4'), ('Efna1', 'Epha3'), ('Efnb2', 'Epha4'), ('Efnb2', 'Epha3'), ('Jag1', 'Notch1'), ('Nrtn', 'Gfra1')], 'EPI - FIB Origin2': [('App', 'Ngfr'), ('Hras', 'Sdc2'), ('Lama3', 'Sdc2'), ('Lama5', 'Itga6'), ('Lamc2', 'Itga6'), ('Ntf5', 'Ngfr'), ('Pdgfa', 'Pdgfra'), ('Pdgfc', 'Pdgfra')], 'EPI - FIB LateDC': [('Apoc1', 'Vldlr'), ('App', 'Ngfr'), ('Efna1', 'Epha7'), ('Hmgb1', 'Sdc1'), ('Lama5', 'Sdc1'), ('Ntf5', 'Ngfr'), ('Pdgfa', 'Pdgfrb'), ('Pdgfc', 'Flt1'), ('Pdgfc', 'Pdgfrb')], 'EPI - FIB Inter2': [('Apoc1', 'Vldlr'), ('Cgn', 'Tgfbr2'), ('Efna1', 'Epha3'), ('Efnb2', 'Epha3')], 'EPI - FIB Origin3': [], 'EPI - FIB EarlyDC': [('App', 'Ngfr'), ('Hmgb1', 'Sdc1'), ('Hmgb1', 'Thbd'), ('Lama5', 'Sdc1'), ('Ntf5', 'Ngfr')], 'EPI - FIB Origin6': [('Efna1', 'Epha3'), ('Efna1', 'Epha4'), ('Efnb2', 'Epha3'), ('Efnb2', 'Epha4'), ('Wnt3', 'Fzd1'), ('Wnt3a', 'Fzd1'), ('Wnt3a', 'Fzd2'), ('Wnt4', 'Fzd2'), ('Wnt7b', 'Fzd1')], 'EPI - FIB Origin1': [('Hras', 'Sdc2'), ('Lama3', 'Sdc2')], 'EPI - FIB Inter3': [('Apoc1', 'Vldlr'), ('Col18a1', 'Itgb5'), ('Ntf5', 'Ntrk2'), ('Wnt7b', 'Fzd4')], 'EPI - FIB Upper1': [('Hras', 'Sdc2'), ('Lama3', 'Sdc2')], 'FIB - FIB Inter1': [('Bdnf', 'Ntrk2'), ('Col14a1', 'Cd44'), ('Col1a1', 'Cd44'), ('Col1a2', 'Cd44'), ('Efna2', 'Epha7'), ('Efna4', 'Epha7'), ('Efna5', 'Epha7'), ('Fn1', 'Cd44'), ('Gpc3', 'Cd81'), ('Tfpi', 'Vldlr'), ('Vcan', 'Cd44'), ('Wnt2', 'Fzd1'), ('Wnt5a', 'Fzd1')], 'FIB - FIB Muscle2': [('Bdnf', 'Ngfr'), ('Bdnf', 'Ntrk2'), ('Efna2', 'Epha4'), ('Efna4', 'Epha4'), ('Efna5', 'Epha4'), ('Efnb1', 'Epha4'), ('Efnb3', 'Epha4'), ('Igf1', 'Igf2r'), ('Igf2', 'Igf2r'), ('Ncam1', 'Gfra1'), ('Sema3a', 'Nrp2')], 'FIB - FIB Upper4': [('Gpc3', 'Cd81'), ('Ncam1', 'Fgfr1'), ('Sema3a', 'Plxna4'), ('Sema3a', 'Nrp1'), ('Slit2', 'Robo2'), ('Slit3', 'Robo2'), ('Thbs1', 'Cd47'), ('Thbs2', 'Cd47')], 'FIB - FIB Upper3': [('Bdnf', 'Ngfr'), ('Cyr61', 'Cav1'), ('Efemp2', 'Lingo1'), ('Fn1', 'Nt5e'), ('Gpc3', 'Cd81'), ('Mdk', 'Sdc1'), ('Ncam1', 'Fgfr1'), ('Ptn', 'Sdc1'), ('Sema3a', 'Nrp1'), ('Sema3a', 'Plxna4'), ('Slit2', 'Robo2'), ('Slit2', 'Sdc1'), ('Slit3', 'Robo2'), ('Thbs1', 'Cd47'), ('Thbs1', 'Scarb1'), ('Thbs1', 'Sdc1'), ('Thbs2', 'Cd47')], 'FIB - CHOND': [('Bdnf', 'Ntrk2'), ('Dkk1', 'Lrp6'), ('Dkk2', 'Lrp6'), ('Efna2', 'Epha7'), ('Efna4', 'Epha7'), ('Efna5', 'Epha7'), ('Fn1', 'Itga9'), ('Gpc3', 'Igf1r'), ('Igf1', 'Igf2r'), ('Igf1', 'Igf1r'), ('Igf2', 'Igf2r'), ('Igf2', 'Igf1r'), ('Igfbp4', 'Lrp6'), ('Ncam1', 'Fgfr2'), ('Ntn1', 'Unc5c'), ('Ntn1', 'Neo1'), ('Rgma', 'Neo1'), ('Rspo1', 'Lgr4'), ('Rspo1', 'Lrp6'), ('Rspo3', 'Lgr4'), ('Rspo3', 'Lrp6'), ('Tbc1d24', 'Neo1'), ('Vcam1', 'Itga9'), ('Wnt2', 'Fzd9'), ('Wnt2', 'Fzd7'), ('Wnt2', 'Lrp6'), ('Wnt5a', 'Fzd7')], 'FIB - FIB Origin5': [('Efna2', 'Epha5'), ('Efna2', 'Epha4'), ('Efna2', 'Epha7'), ('Efna4', 'Epha5'), ('Efna4', 'Epha4'), ('Efna4', 'Epha7'), ('Efna5', 'Epha5'), ('Efna5', 'Epha4'), ('Efna5', 'Epha7'), ('Efnb1', 'Epha4'), ('Efnb3', 'Epha4')], 'FIB - FIB Upper2': [('Bdnf', 'Ngfr'), ('Cyr61', 'Cav1'), ('Fn1', 'Nt5e'), ('Sema3a', 'Nrp1')], 'FIB - FIB Deep1': [('Cyr61', 'Itgb5'), ('Fn1', 'Itga8'), ('Ltbp1', 'Itgb5'), ('Ncam1', 'Robo1'), ('Ntn1', 'Neo1'), ('Ptn', 'Plxnb2'), ('Rgma', 'Neo1'), ('Slit2', 'Robo1'), ('Tbc1d24', 'Neo1')], 'FIB - FIB Lower': [('Fn1', 'Nt5e'), ('Gpc3', 'Cd81'), ('Sema3a', 'Nrp1')], 'FIB - FIB Origin4': [], 'FIB - FIB Deep2': [('Col14a1', 'Cd44'), ('Col1a1', 'Cd44'), ('Col1a2', 'Cd44'), ('Cyr61', 'Itgb5'), ('Efna2', 'Epha4'), ('Efna2', 'Epha7'), ('Efna4', 'Epha4'), ('Efna4', 'Epha7'), ('Efna5', 'Epha4'), ('Efna5', 'Epha7'), ('Efnb1', 'Epha4'), ('Efnb3', 'Epha4'), ('Fn1', 'Col13a1'), ('Fn1', 'Cd44'), ('Igf1', 'Igf2r'), ('Igf2', 'Igf2r'), ('Ltbp1', 'Itgb5'), ('Ncam1', 'Robo1'), ('Nid1', 'Col13a1'), ('Sema3a', 'Nrp2'), ('Slit2', 'Robo1'), ('Vcan', 'Cd44')], 'FIB - FIB Deep3': [('Cyr61', 'Itgb5'), ('Efna2', 'Epha7'), ('Efna2', 'Epha3'), ('Efna4', 'Epha7'), ('Efna4', 'Epha3'), ('Efna5', 'Ephb1'), ('Efna5', 'Epha7'), ('Efna5', 'Epha3'), ('Efnb1', 'Ephb1'), ('Efnb3', 'Ephb1'), ('Ltbp1', 'Itgb5'), ('Ncam1', 'Robo1'), ('Sema3a', 'Plxna2'), ('Sema3a', 'Nrp2'), ('Slit2', 'Robo1')], 'FIB - FIB Muscle1': [('Dlk1', 'Notch1'), ('Efna2', 'Epha4'), ('Efna2', 'Epha3'), ('Efna4', 'Epha4'), ('Efna4', 'Epha3'), ('Efna5', 'Epha4'), ('Efna5', 'Epha3'), ('Efnb1', 'Epha4'), ('Efnb3', 'Epha4'), ('Fn1', 'Nt5e'), ('Igf1', 'Igf2r'), ('Igf2', 'Igf2r'), ('Mfap2', 'Notch1'), ('Ncam1', 'Gfra1'), ('Sema3a', 'Nrp2'), ('Tgfb2', 'Tgfbr2')], 'FIB - FIB Origin2': [('Bdnf', 'Ngfr'), ('Col6a1', 'Itga6'), ('Fn1', 'Itga6'), ('Fn1', 'Sdc2'), ('Mdk', 'Itga6'), ('Mmp2', 'Sdc2'), ('Sema3a', 'Nrp1'), ('Serpinc1', 'Sdc2'), ('Thbs1', 'Itga6'), ('Thbs2', 'Itga6')], 'FIB - FIB LateDC': [('Bdnf', 'Ngfr'), ('Col14a1', 'Cd44'), ('Col1a1', 'Itga1'), ('Col1a1', 'Cd44'), ('Col1a2', 'Itga1'), ('Col1a2', 'Cd44'), ('Col5a1', 'Itga1'), ('Col5a2', 'Itga1'), ('Col6a1', 'Itga1'), ('Col6a2', 'Itga1'), ('Col6a3', 'Itga1'), ('Col8a1', 'Itga1'), ('Dkk1', 'Kremen1'), ('Efna2', 'Epha7'), ('Efna4', 'Epha7'), ('Efna5', 'Epha7'), ('Fn1', 'Cd44'), ('Fn1', 'Nt5e'), ('Mdk', 'Sdc1'), ('Ncam1', 'Fgfr1'), ('Ptn', 'Sdc1'), ('Sema3a', 'Nrp2'), ('Slit2', 'Sdc1'), ('Slit2', 'Robo2'), ('Slit3', 'Robo2'), ('Tfpi', 'Vldlr'), ('Thbs1', 'Sdc1'), ('Vcan', 'Cd44'), ('Wnt5a', 'Ror2')], 'FIB - FIB Inter2': [('Col14a1', 'Cd44'), ('Col1a1', 'Cd44'), ('Col1a2', 'Cd44'), ('Dcn', 'Met'), ('Efna2', 'Epha3'), ('Efna4', 'Epha3'), ('Efna5', 'Epha3'), ('Fn1', 'Cd44'), ('Gpc3', 'Cd81'), ('Igf1', 'Igf2r'), ('Igf2', 'Igf2r'), ('Sema3a', 'Nrp2'), ('Sema5a', 'Met'), ('Tfpi', 'Vldlr'), ('Tgfb2', 'Tgfbr2'), ('Vcan', 'Cd44')], 'FIB - FIB Origin3': [], 'FIB - FIB EarlyDC': [('Bdnf', 'Ngfr'), ('Efemp2', 'Aqp1'), ('Mdk', 'Sdc1'), ('Ncam1', 'Fgfr1'), ('Ptn', 'Sdc1'), ('Sema3a', 'Plxna4'), ('Sema3a', 'Nrp1'), ('Slit2', 'Sdc1'), ('Slit2', 'Robo2'), ('Slit3', 'Robo2'), ('Thbs1', 'Sdc1'), ('Wnt5a', 'Ror2')], 'FIB - FIB Origin6': [('Efna2', 'Epha3'), ('Efna2', 'Epha4'), ('Efna4', 'Epha3'), ('Efna4', 'Epha4'), ('Efna5', 'Epha3'), ('Efna5', 'Epha4'), ('Efnb1', 'Epha4'), ('Efnb3', 'Epha4'), ('Rspo1', 'Lgr5'), ('Rspo3', 'Lgr5'), ('Sema3a', 'Nrp2'), ('Sfrp1', 'Fzd2'), ('Tbc1d24', 'Cdon'), ('Wnt2', 'Fzd1'), ('Wnt5a', 'Fzd1'), ('Wnt5a', 'Fzd2')], 'FIB - FIB Origin1': [('Fn1', 'Sdc2'), ('Mmp2', 'Sdc2'), ('Serpinc1', 'Sdc2')], 'FIB - FIB Inter3': [('Bdnf', 'Ntrk2'), ('Col14a1', 'Cd44'), ('Col1a1', 'Cd44'), ('Col1a2', 'Cd44'), ('Cyr61', 'Itgb5'), ('Efemp2', 'Aqp1'), ('Fn1', 'Cd44'), ('Igf1', 'Igf2r'), ('Igf2', 'Igf2r'), ('Ltbp1', 'Itgb5'), ('Tfpi', 'F3'), ('Tfpi', 'Vldlr'), ('Vcan', 'Cd44'), ('Wnt2', 'Fzd4'), ('Wnt5a', 'Fzd4')], 'FIB - FIB Upper1': [('Fn1', 'Sdc2'), ('Mmp2', 'Sdc2'), ('Serpinc1', 'Sdc2'), ('Slit2', 'Robo2'), ('Slit3', 'Robo2')], 'MUSCLE Mid - FIB Inter1': [('Pkm', 'Cd44')], 'MUSCLE Mid - FIB Muscle2': [('Rtn4', 'Ngfr')], 'MUSCLE Mid - FIB Upper4': [('Fyn', 'Thy1'), ('Sema6a', 'Plxna4')], 'MUSCLE Mid - FIB Upper3': [('Fyn', 'Thy1'), ('Rtn4', 'Ngfr'), ('Rtn4', 'Lingo1'), ('Sema6a', 'Plxna4')], 'MUSCLE Mid - CHOND': [('Hsp90aa1', 'Fgfr3')], 'MUSCLE Mid - FIB Origin5': [], 'MUSCLE Mid - FIB Upper2': [('Fyn', 'Thy1'), ('Rtn4', 'Ngfr')], 'MUSCLE Mid - FIB Deep1': [('Rtn4', 'Tnfrsf19'), ('Tgfb3', 'Itgb5')], 'MUSCLE Mid - FIB Lower': [('Fyn', 'Thy1'), ('Pdap1', 'Pdgfrb'), ('Pdgfa', 'Pdgfrb'), ('Pdgfc', 'Pdgfrb')], 'MUSCLE Mid - FIB Origin4': [], 'MUSCLE Mid - FIB Deep2': [('Pkm', 'Cd44'), ('Tgfb3', 'Itgb5')], 'MUSCLE Mid - FIB Deep3': [('Sema6a', 'Plxna2'), ('Tgfb3', 'Itgb5')], 'MUSCLE Mid - FIB Muscle1': [('Dll1', 'Notch1'), ('Tgfb3', 'Tgfbr2')], 'MUSCLE Mid - FIB Origin2': [('Pdgfa', 'Pdgfra'), ('Pdgfc', 'Pdgfra'), ('Rtn4', 'Ngfr')], 'MUSCLE Mid - FIB LateDC': [('Fyn', 'Thy1'), ('Pdap1', 'Pdgfrb'), ('Pdgfa', 'Pdgfrb'), ('Pdgfc', 'Flt1'), ('Pdgfc', 'Pdgfrb'), ('Pkm', 'Cd44'), ('Rtn4', 'Ngfr')], 'MUSCLE Mid - FIB Inter2': [('Pkm', 'Cd44'), ('Tgfb3', 'Tgfbr2')], 'MUSCLE Mid - FIB Origin3': [('Rtn4', 'Tnfrsf19')], 'MUSCLE Mid - FIB EarlyDC': [('Fyn', 'Thy1'), ('Rtn4', 'Ngfr'), ('Sema6a', 'Plxna4')], 'MUSCLE Mid - FIB Origin6': [], 'MUSCLE Mid - FIB Origin1': [('Rtn4', 'Tnfrsf19')], 'MUSCLE Mid - FIB Inter3': [('Pkm', 'Cd44'), ('Tgfb3', 'Itgb5')], 'MUSCLE Mid - FIB Upper1': [('Rtn4', 'Tnfrsf19')], 'VESSEL LECs - FIB Inter1': [('Efna1', 'Epha7'), ('Gnai2', 'Agtr2'), ('Reln', 'Vldlr'), ('Timp3', 'Agtr2'), ('Vim', 'Cd44')], 'VESSEL LECs - FIB Muscle2': [('Efna1', 'Epha4'), ('Gnai2', 'Agtr2'), ('Igf2', 'Igf2r'), ('Nts', 'Ngfr'), ('Pgf', 'Nrp2'), ('Timp3', 'Agtr2')], 'VESSEL LECs - FIB Upper4': [('Calm1', 'Hmmr'), ('Col4a1', 'Cd47'), ('Fyn', 'Thy1'), ('Pgf', 'Nrp1')], 'VESSEL LECs - FIB Upper3': [('Col4a1', 'Cd47'), ('Fyn', 'Thy1'), ('Gnai2', 'Cav1'), ('Gnai2', 'Ednra'), ('Hras', 'Cav1'), ('Hspg2', 'Sdc1'), ('Nts', 'Ngfr'), ('Pgf', 'Nrp1'), ('Tgfb1', 'Cav1')], 'VESSEL LECs - CHOND': [('Efna1', 'Epha7'), ('Gnai2', 'Igf1r'), ('Igf2', 'Igf2r'), ('Igf2', 'Igf1r'), ('Igfbp4', 'Lrp6'), ('Il16', 'Kcnd2'), ('Tgm2', 'Itga9'), ('Uba52', 'Fgfr2')], 'VESSEL LECs - FIB Origin5': [('Efna1', 'Epha5'), ('Efna1', 'Epha4'), ('Efna1', 'Epha7'), ('Gnai2', 'S1pr3')], 'VESSEL LECs - FIB Upper2': [('Calm1', 'Hmmr'), ('Fyn', 'Thy1'), ('Gnai2', 'Cav1'), ('Hras', 'Cav1'), ('Nts', 'Ngfr'), ('Pgf', 'Nrp1'), ('Tgfb1', 'Cav1')], 'VESSEL LECs - FIB Deep1': [('Col18a1', 'Itgb5'), ('Col4a2', 'Itgb5'), ('Gnai2', 'F2r'), ('Gnai2', 'Ednra'), ('Sema4c', 'Plxnb2'), ('Tgfb1', 'Itgb5')], 'VESSEL LECs - FIB Lower': [('Fyn', 'Thy1'), ('Gnai2', 'Agtr2'), ('Pgf', 'Nrp1'), ('Timp3', 'Agtr2')], 'VESSEL LECs - FIB Origin4': [('Gnai2', 'S1pr3')], 'VESSEL LECs - FIB Deep2': [('Col18a1', 'Itgb5'), ('Col4a2', 'Itgb5'), ('Efna1', 'Epha4'), ('Efna1', 'Epha7'), ('Hspg2', 'Col13a1'), ('Igf2', 'Igf2r'), ('Pgf', 'Nrp2'), ('Tgfb1', 'Itgb5'), ('Vim', 'Cd44')], 'VESSEL LECs - FIB Deep3': [('Adam10', 'Efna3'), ('Adam10', 'Axl'), ('Adam10', 'Epha3'), ('Col18a1', 'Itgb5'), ('Col4a2', 'Itgb5'), ('Efna1', 'Ephb1'), ('Efna1', 'Epha7'), ('Efna1', 'Epha3'), ('Pgf', 'Nrp2'), ('Tgfb1', 'Itgb5')], 'VESSEL LECs - FIB Muscle1': [('Adam10', 'Epha3'), ('Adam10', 'Notch1'), ('Dll4', 'Notch1'), ('Efna1', 'Epha4'), ('Efna1', 'Epha3'), ('Gnai2', 'Agtr2'), ('Gnai2', 'F2r'), ('Igf2', 'Igf2r'), ('Mfng', 'Notch1'), ('Pgf', 'Nrp2'), ('Tgfb1', 'Tgfbr2'), ('Timp3', 'Agtr2'), ('Uba52', 'Tgfbr2'), ('Uba52', 'Notch1')], 'VESSEL LECs - FIB Origin2': [('Hras', 'Sdc2'), ('Lama4', 'Itga6'), ('Lamc1', 'Itga6'), ('Nts', 'Ngfr'), ('Pgf', 'Nrp1'), ('Tgfb1', 'Sdc2')], 'VESSEL LECs - FIB LateDC': [('Col4a1', 'Itga1'), ('Efna1', 'Epha7'), ('Fyn', 'Thy1'), ('Gnai2', 'Ednrb'), ('Hspg2', 'Sdc1'), ('Lamc1', 'Itga1'), ('Nts', 'Ngfr'), ('Pgf', 'Flt1'), ('Pgf', 'Nrp2'), ('Reln', 'Vldlr'), ('Tgfb1', 'Smad3'), ('Uba52', 'Smad3'), ('Vim', 'Cd44')], 'VESSEL LECs - FIB Inter2': [('Adam10', 'Epha3'), ('Adam10', 'Axl'), ('Efna1', 'Epha3'), ('Gnai2', 'Agtr2'), ('Igf2', 'Igf2r'), ('Pgf', 'Nrp2'), ('Reln', 'Vldlr'), ('Tgfb1', 'Tgfbr2'), ('Timp3', 'Agtr2'), ('Uba52', 'Tgfbr2'), ('Vim', 'Cd44')], 'VESSEL LECs - FIB Origin3': [], 'VESSEL LECs - FIB EarlyDC': [('Fyn', 'Thy1'), ('Hspg2', 'Sdc1'), ('Nts', 'Ngfr'), ('Pgf', 'Nrp1')], 'VESSEL LECs - FIB Origin6': [('Adam10', 'Epha3'), ('Efna1', 'Epha3'), ('Efna1', 'Epha4'), ('Gnai2', 'S1pr3'), ('Pgf', 'Nrp2')], 'VESSEL LECs - FIB Origin1': [('Hras', 'Sdc2'), ('Tgfb1', 'Sdc2')], 'VESSEL LECs - FIB Inter3': [('Adam10', 'Axl'), ('Calm1', 'Mylk'), ('Col18a1', 'Itgb5'), ('Col4a2', 'Itgb5'), ('Gnai2', 'Agtr2'), ('Igf2', 'Igf2r'), ('Reln', 'Vldlr'), ('Tgfb1', 'Itgb5'), ('Timp3', 'Agtr2'), ('Vim', 'Cd44')], 'VESSEL LECs - FIB Upper1': [('Hras', 'Sdc2'), ('Tgfb1', 'Sdc2')], 'IMMU DendriticCells - FIB Inter1': [('Apoc1', 'Vldlr'), ('Ebi3', 'Il6st'), ('Gnai2', 'Agtr2'), ('Lpl', 'Vldlr'), ('Lpl', 'Cd44')], 'IMMU DendriticCells - FIB Muscle2': [('Gnai2', 'Agtr2')], 'IMMU DendriticCells - FIB Upper4': [('Calm1', 'Hmmr'), ('Itgb2', 'Thy1')], 'IMMU DendriticCells - FIB Upper3': [('Gnai2', 'Cav1'), ('Gnai2', 'Ednra'), ('Icam1', 'Cav1'), ('Itgb2', 'Thy1'), ('Lpl', 'Sdc1'), ('Tgfb1', 'Cav1')], 'IMMU DendriticCells - CHOND': [('F13a1', 'Itga9'), ('Gnai2', 'Igf1r'), ('Il16', 'Kcnd2'), ('Ubc', 'Fgfr2')], 'IMMU DendriticCells - FIB Origin5': [('Gnai2', 'S1pr3')], 'IMMU DendriticCells - FIB Upper2': [('Calm1', 'Hmmr'), ('Gnai2', 'Cav1'), ('Icam1', 'Cav1'), ('Itgb2', 'Thy1'), ('Tgfb1', 'Cav1')], 'IMMU DendriticCells - FIB Deep1': [('Gnai2', 'F2r'), ('Gnai2', 'Ednra'), ('Sema4a', 'Plxnb2'), ('Sema4d', 'Plxnb2'), ('Tgfb1', 'Itgb5'), ('Tln1', 'Itgb5')], 'IMMU DendriticCells - FIB Lower': [('Gnai2', 'Agtr2'), ('Itgb2', 'Thy1')], 'IMMU DendriticCells - FIB Origin4': [('Gnai2', 'S1pr3')], 'IMMU DendriticCells - FIB Deep2': [('Lpl', 'Cd44'), ('Tgfb1', 'Itgb5'), ('Tln1', 'Itgb5')], 'IMMU DendriticCells - FIB Deep3': [('Tgfb1', 'Itgb5'), ('Tln1', 'Itgb5')], 'IMMU DendriticCells - FIB Muscle1': [('Gnai2', 'Agtr2'), ('Gnai2', 'F2r'), ('Mfng', 'Notch1'), ('Tgfb1', 'Tgfbr2'), ('Ubc', 'Tgfbr2')], 'IMMU DendriticCells - FIB Origin2': [('Tgfb1', 'Sdc2')], 'IMMU DendriticCells - FIB LateDC': [('Apoc1', 'Vldlr'), ('Gnai2', 'Ednrb'), ('Itgb2', 'Thy1'), ('Lpl', 'Sdc1'), ('Lpl', 'Cd44'), ('Lpl', 'Vldlr'), ('Tgfb1', 'Smad3'), ('Ubc', 'Smad3')], 'IMMU DendriticCells - FIB Inter2': [('Apoc1', 'Vldlr'), ('Ebi3', 'Il6st'), ('Gnai2', 'Agtr2'), ('Lpl', 'Cd44'), ('Lpl', 'Vldlr'), ('Sema4d', 'Met'), ('Tgfb1', 'Tgfbr2'), ('Ubc', 'Tgfbr2')], 'IMMU DendriticCells - FIB Origin3': [], 'IMMU DendriticCells - FIB EarlyDC': [('Itgb2', 'Thy1'), ('Lpl', 'Sdc1')], 'IMMU DendriticCells - FIB Origin6': [('Gnai2', 'S1pr3')], 'IMMU DendriticCells - FIB Origin1': [('Tgfb1', 'Sdc2')], 'IMMU DendriticCells - FIB Inter3': [('Apoc1', 'Vldlr'), ('Calm1', 'Mylk'), ('Gnai2', 'Agtr2'), ('Lpl', 'Cd44'), ('Lpl', 'Vldlr'), ('Tgfb1', 'Itgb5'), ('Tln1', 'Itgb5')], 'IMMU DendriticCells - FIB Upper1': [('Tgfb1', 'Sdc2')], 'VESSEL MuralCells - FIB Inter1': [('Timp3', 'Agtr2'), ('Vim', 'Cd44')], 'VESSEL MuralCells - FIB Muscle2': [('Timp1', 'Cd63'), ('Timp3', 'Agtr2'), ('Vegfc', 'Nrp2')], 'VESSEL MuralCells - FIB Upper4': [('Calm1', 'Hmmr'), ('Col4a1', 'Cd47'), ('Thbs2', 'Cd47'), ('Vtn', 'Cd47')], 'VESSEL MuralCells - FIB Upper3': [('Col4a1', 'Cd47'), ('Thbs2', 'Cd47'), ('Vtn', 'Cd47')], 'VESSEL MuralCells - CHOND': [('Mapk1', 'Fgfr2'), ('Vegfc', 'Itga9')], 'VESSEL MuralCells - FIB Origin5': [], 'VESSEL MuralCells - FIB Upper2': [('Calm1', 'Hmmr'), ('Timp1', 'Cd63')], 'VESSEL MuralCells - FIB Deep1': [('Col4a2', 'Itgb5'), ('Tln1', 'Itgb5'), ('Vcl', 'Itgb5'), ('Vtn', 'Itga8'), ('Vtn', 'Itgb5')], 'VESSEL MuralCells - FIB Lower': [('Mfge8', 'Pdgfrb'), ('Timp1', 'Cd63'), ('Timp3', 'Agtr2')], 'VESSEL MuralCells - FIB Origin4': [], 'VESSEL MuralCells - FIB Deep2': [('Col4a2', 'Itgb5'), ('Tln1', 'Itgb5'), ('Vcl', 'Itgb5'), ('Vegfc', 'Nrp2'), ('Vim', 'Cd44'), ('Vtn', 'Itgb5')], 'VESSEL MuralCells - FIB Deep3': [('Col4a2', 'Itgb5'), ('Tln1', 'Itgb5'), ('Vcl', 'Itgb5'), ('Vegfc', 'Nrp2'), ('Vtn', 'Itgb5')], 'VESSEL MuralCells - FIB Muscle1': [('Jag1', 'Notch1'), ('Timp1', 'Cd63'), ('Timp3', 'Agtr2'), ('Vegfc', 'Nrp2')], 'VESSEL MuralCells - FIB Origin2': [('Lama4', 'Itga6'), ('Lamb1', 'Itga6'), ('Lamc1', 'Itga6'), ('Thbs2', 'Itga6')], 'VESSEL MuralCells - FIB LateDC': [('Col4a1', 'Itga1'), ('Col6a3', 'Itga1'), ('Lamb1', 'Itga1'), ('Lamc1', 'Itga1'), ('Mfge8', 'Pdgfrb'), ('Vegfc', 'Flt1'), ('Vegfc', 'Nrp2'), ('Vim', 'Cd44')], 'VESSEL MuralCells - FIB Inter2': [('Timp1', 'Cd63'), ('Timp3', 'Agtr2'), ('Vegfc', 'Nrp2'), ('Vim', 'Cd44')], 'VESSEL MuralCells - FIB Origin3': [], 'VESSEL MuralCells - FIB EarlyDC': [], 'VESSEL MuralCells - FIB Origin6': [('Vegfc', 'Nrp2')], 'VESSEL MuralCells - FIB Origin1': [], 'VESSEL MuralCells - FIB Inter3': [('Calm1', 'Mylk'), ('Col4a2', 'Itgb5'), ('Timp3', 'Agtr2'), ('Tln1', 'Itgb5'), ('Vcl', 'Itgb5'), ('Vim', 'Cd44'), ('Vtn', 'Itgb5')], 'VESSEL MuralCells - FIB Upper1': [], 'MUSCLE Late - FIB Inter1': [], 'MUSCLE Late - FIB Muscle2': [('Rtn4', 'Ngfr')], 'MUSCLE Late - FIB Upper4': [('Fyn', 'Thy1'), ('Sema6a', 'Plxna4')], 'MUSCLE Late - FIB Upper3': [('Fyn', 'Thy1'), ('Rtn4', 'Ngfr'), ('Rtn4', 'Lingo1'), ('Sema6a', 'Plxna4')], 'MUSCLE Late - CHOND': [], 'MUSCLE Late - FIB Origin5': [], 'MUSCLE Late - FIB Upper2': [('Fyn', 'Thy1'), ('Rtn4', 'Ngfr')], 'MUSCLE Late - FIB Deep1': [('Npnt', 'Itga8'), ('Rtn4', 'Tnfrsf19'), ('Tgfb3', 'Itgb5')], 'MUSCLE Late - FIB Lower': [('Fyn', 'Thy1'), ('Pdgfa', 'Pdgfrb'), ('Pdgfc', 'Pdgfrb')], 'MUSCLE Late - FIB Origin4': [], 'MUSCLE Late - FIB Deep2': [('Tgfb3', 'Itgb5')], 'MUSCLE Late - FIB Deep3': [('Sema6a', 'Plxna2'), ('Tgfb3', 'Itgb5')], 'MUSCLE Late - FIB Muscle1': [('Dll1', 'Notch1'), ('Tgfb3', 'Tgfbr2')], 'MUSCLE Late - FIB Origin2': [('Pdgfa', 'Pdgfra'), ('Pdgfc', 'Pdgfra'), ('Rtn4', 'Ngfr')], 'MUSCLE Late - FIB LateDC': [('Fyn', 'Thy1'), ('Pdgfa', 'Pdgfrb'), ('Pdgfc', 'Flt1'), ('Pdgfc', 'Pdgfrb'), ('Rtn4', 'Ngfr')], 'MUSCLE Late - FIB Inter2': [('Tgfb3', 'Tgfbr2')], 'MUSCLE Late - FIB Origin3': [('Rtn4', 'Tnfrsf19')], 'MUSCLE Late - FIB EarlyDC': [('Fyn', 'Thy1'), ('Rtn4', 'Ngfr'), ('Sema6a', 'Plxna4')], 'MUSCLE Late - FIB Origin6': [], 'MUSCLE Late - FIB Origin1': [('Rtn4', 'Tnfrsf19')], 'MUSCLE Late - FIB Inter3': [('Tgfb3', 'Itgb5')], 'MUSCLE Late - FIB Upper1': [('Rtn4', 'Tnfrsf19')]}\n",
      "quant_ligrec_dge_df\n",
      "                    FIB Inter1 FIB Muscle2 FIB Upper4 FIB Upper3 CHOND  \\\n",
      "MUSCLE Early                 1           0          2          6     4   \n",
      "NC SchwannCells              6           8          3          9     5   \n",
      "IMMU MastCells               2           0          2          2     1   \n",
      "IMMU Macrophages             6           2          1          6     9   \n",
      "NC Melanocytes               4           1          2          3     2   \n",
      "VESSEL BECs                  8           6          4         12     5   \n",
      "EPI                          6           6          0          7     9   \n",
      "FIB                         13          11          8         17    27   \n",
      "MUSCLE Mid                   1           1          2          4     1   \n",
      "VESSEL LECs                  5           6          4          9     8   \n",
      "IMMU DendriticCells          5           1          2          6     4   \n",
      "VESSEL MuralCells            2           3          4          3     2   \n",
      "MUSCLE Late                  0           1          2          4     0   \n",
      "\n",
      "                    FIB Origin5 FIB Upper2 FIB Deep1 FIB Lower FIB Origin4  \\\n",
      "MUSCLE Early                  0          2         2         5           0   \n",
      "NC SchwannCells               0          5         4         4           0   \n",
      "IMMU MastCells                0          3         2         2           0   \n",
      "IMMU Macrophages              1          4         5         1           1   \n",
      "NC Melanocytes                0          2         3         3           0   \n",
      "VESSEL BECs                   5         10         6         6           1   \n",
      "EPI                           4          5         5         2           0   \n",
      "FIB                          11          4         9         3           0   \n",
      "MUSCLE Mid                    0          2         2         4           0   \n",
      "VESSEL LECs                   4          7         6         4           1   \n",
      "IMMU DendriticCells           1          5         6         2           1   \n",
      "VESSEL MuralCells             0          2         5         3           0   \n",
      "MUSCLE Late                   0          2         3         3           0   \n",
      "\n",
      "                     ... FIB Muscle1 FIB Origin2 FIB LateDC FIB Inter2  \\\n",
      "MUSCLE Early         ...           2           2         11          2   \n",
      "NC SchwannCells      ...           7           8         21         10   \n",
      "IMMU MastCells       ...           4           2          4          4   \n",
      "IMMU Macrophages     ...           5           4          7          9   \n",
      "NC Melanocytes       ...           1           1          6          3   \n",
      "VESSEL BECs          ...          12           7         17         12   \n",
      "EPI                  ...           7           8          9          4   \n",
      "FIB                  ...          16          10         29         16   \n",
      "MUSCLE Mid           ...           2           3          7          2   \n",
      "VESSEL LECs          ...          14           6         13         11   \n",
      "IMMU DendriticCells  ...           5           1          8          8   \n",
      "VESSEL MuralCells    ...           4           4          8          4   \n",
      "MUSCLE Late          ...           2           3          5          1   \n",
      "\n",
      "                    FIB Origin3 FIB EarlyDC FIB Origin6 FIB Origin1  \\\n",
      "MUSCLE Early                  0           5           0           0   \n",
      "NC SchwannCells               0           9           4           0   \n",
      "IMMU MastCells                1           1           0           1   \n",
      "IMMU Macrophages              0           2           1           3   \n",
      "NC Melanocytes                0           2           0           0   \n",
      "VESSEL BECs                   0           5           6           2   \n",
      "EPI                           0           5           9           2   \n",
      "FIB                           0          12          16           3   \n",
      "MUSCLE Mid                    1           3           0           1   \n",
      "VESSEL LECs                   0           4           5           2   \n",
      "IMMU DendriticCells           0           2           1           1   \n",
      "VESSEL MuralCells             0           0           1           0   \n",
      "MUSCLE Late                   1           3           0           1   \n",
      "\n",
      "                    FIB Inter3 FIB Upper1  \n",
      "MUSCLE Early                 1          0  \n",
      "NC SchwannCells             10          0  \n",
      "IMMU MastCells               7          1  \n",
      "IMMU Macrophages            12          3  \n",
      "NC Melanocytes               4          0  \n",
      "VESSEL BECs                 14          3  \n",
      "EPI                          4          2  \n",
      "FIB                         15          5  \n",
      "MUSCLE Mid                   2          1  \n",
      "VESSEL LECs                 10          2  \n",
      "IMMU DendriticCells          7          1  \n",
      "VESSEL MuralCells            7          0  \n",
      "MUSCLE Late                  1          1  \n",
      "\n",
      "[13 rows x 22 columns]\n"
     ]
    }
   ],
   "source": [
    "#Save output\n",
    "ligrec_dge_df.to_csv(os.path.join(path_output,'ligrec_dge_df_'+name_appendix+'.csv'))\n",
    "print('ligrec_dge_dict')\n",
    "print(ligrec_dge_dict)\n",
    "print('quant_ligrec_dge_df')\n",
    "print(quant_ligrec_dge_df)"
   ]
  },
  {
   "cell_type": "code",
   "execution_count": 23,
   "metadata": {
    "ExecuteTime": {
     "end_time": "2023-03-28T18:30:38.518617Z",
     "start_time": "2023-03-28T18:30:38.495993Z"
    }
   },
   "outputs": [
    {
     "name": "stdout",
     "output_type": "stream",
     "text": [
      "quant_ligrec_dge_dict\n",
      "{'MUSCLE Early - FIB Inter1': 1, 'MUSCLE Early - FIB Muscle2': 0, 'MUSCLE Early - FIB Upper4': 2, 'MUSCLE Early - FIB Upper3': 6, 'MUSCLE Early - CHOND': 4, 'MUSCLE Early - FIB Origin5': 0, 'MUSCLE Early - FIB Upper2': 2, 'MUSCLE Early - FIB Deep1': 2, 'MUSCLE Early - FIB Lower': 5, 'MUSCLE Early - FIB Origin4': 0, 'MUSCLE Early - FIB Deep2': 1, 'MUSCLE Early - FIB Deep3': 0, 'MUSCLE Early - FIB Muscle1': 2, 'MUSCLE Early - FIB Origin2': 2, 'MUSCLE Early - FIB LateDC': 11, 'MUSCLE Early - FIB Inter2': 2, 'MUSCLE Early - FIB Origin3': 0, 'MUSCLE Early - FIB EarlyDC': 5, 'MUSCLE Early - FIB Origin6': 0, 'MUSCLE Early - FIB Origin1': 0, 'MUSCLE Early - FIB Inter3': 1, 'MUSCLE Early - FIB Upper1': 0, 'NC SchwannCells - FIB Inter1': 6, 'NC SchwannCells - FIB Muscle2': 8, 'NC SchwannCells - FIB Upper4': 3, 'NC SchwannCells - FIB Upper3': 9, 'NC SchwannCells - CHOND': 5, 'NC SchwannCells - FIB Origin5': 0, 'NC SchwannCells - FIB Upper2': 5, 'NC SchwannCells - FIB Deep1': 4, 'NC SchwannCells - FIB Lower': 4, 'NC SchwannCells - FIB Origin4': 0, 'NC SchwannCells - FIB Deep2': 12, 'NC SchwannCells - FIB Deep3': 9, 'NC SchwannCells - FIB Muscle1': 7, 'NC SchwannCells - FIB Origin2': 8, 'NC SchwannCells - FIB LateDC': 21, 'NC SchwannCells - FIB Inter2': 10, 'NC SchwannCells - FIB Origin3': 0, 'NC SchwannCells - FIB EarlyDC': 9, 'NC SchwannCells - FIB Origin6': 4, 'NC SchwannCells - FIB Origin1': 0, 'NC SchwannCells - FIB Inter3': 10, 'NC SchwannCells - FIB Upper1': 0, 'IMMU MastCells - FIB Inter1': 2, 'IMMU MastCells - FIB Muscle2': 0, 'IMMU MastCells - FIB Upper4': 2, 'IMMU MastCells - FIB Upper3': 2, 'IMMU MastCells - CHOND': 1, 'IMMU MastCells - FIB Origin5': 0, 'IMMU MastCells - FIB Upper2': 3, 'IMMU MastCells - FIB Deep1': 2, 'IMMU MastCells - FIB Lower': 2, 'IMMU MastCells - FIB Origin4': 0, 'IMMU MastCells - FIB Deep2': 3, 'IMMU MastCells - FIB Deep3': 2, 'IMMU MastCells - FIB Muscle1': 4, 'IMMU MastCells - FIB Origin2': 2, 'IMMU MastCells - FIB LateDC': 4, 'IMMU MastCells - FIB Inter2': 4, 'IMMU MastCells - FIB Origin3': 1, 'IMMU MastCells - FIB EarlyDC': 1, 'IMMU MastCells - FIB Origin6': 0, 'IMMU MastCells - FIB Origin1': 1, 'IMMU MastCells - FIB Inter3': 7, 'IMMU MastCells - FIB Upper1': 1, 'IMMU Macrophages - FIB Inter1': 6, 'IMMU Macrophages - FIB Muscle2': 2, 'IMMU Macrophages - FIB Upper4': 1, 'IMMU Macrophages - FIB Upper3': 6, 'IMMU Macrophages - CHOND': 9, 'IMMU Macrophages - FIB Origin5': 1, 'IMMU Macrophages - FIB Upper2': 4, 'IMMU Macrophages - FIB Deep1': 5, 'IMMU Macrophages - FIB Lower': 1, 'IMMU Macrophages - FIB Origin4': 1, 'IMMU Macrophages - FIB Deep2': 5, 'IMMU Macrophages - FIB Deep3': 4, 'IMMU Macrophages - FIB Muscle1': 5, 'IMMU Macrophages - FIB Origin2': 4, 'IMMU Macrophages - FIB LateDC': 7, 'IMMU Macrophages - FIB Inter2': 9, 'IMMU Macrophages - FIB Origin3': 0, 'IMMU Macrophages - FIB EarlyDC': 2, 'IMMU Macrophages - FIB Origin6': 1, 'IMMU Macrophages - FIB Origin1': 3, 'IMMU Macrophages - FIB Inter3': 12, 'IMMU Macrophages - FIB Upper1': 3, 'NC Melanocytes - FIB Inter1': 4, 'NC Melanocytes - FIB Muscle2': 1, 'NC Melanocytes - FIB Upper4': 2, 'NC Melanocytes - FIB Upper3': 3, 'NC Melanocytes - CHOND': 2, 'NC Melanocytes - FIB Origin5': 0, 'NC Melanocytes - FIB Upper2': 2, 'NC Melanocytes - FIB Deep1': 3, 'NC Melanocytes - FIB Lower': 3, 'NC Melanocytes - FIB Origin4': 0, 'NC Melanocytes - FIB Deep2': 3, 'NC Melanocytes - FIB Deep3': 1, 'NC Melanocytes - FIB Muscle1': 1, 'NC Melanocytes - FIB Origin2': 1, 'NC Melanocytes - FIB LateDC': 6, 'NC Melanocytes - FIB Inter2': 3, 'NC Melanocytes - FIB Origin3': 0, 'NC Melanocytes - FIB EarlyDC': 2, 'NC Melanocytes - FIB Origin6': 0, 'NC Melanocytes - FIB Origin1': 0, 'NC Melanocytes - FIB Inter3': 4, 'NC Melanocytes - FIB Upper1': 0, 'VESSEL BECs - FIB Inter1': 8, 'VESSEL BECs - FIB Muscle2': 6, 'VESSEL BECs - FIB Upper4': 4, 'VESSEL BECs - FIB Upper3': 12, 'VESSEL BECs - CHOND': 5, 'VESSEL BECs - FIB Origin5': 5, 'VESSEL BECs - FIB Upper2': 10, 'VESSEL BECs - FIB Deep1': 6, 'VESSEL BECs - FIB Lower': 6, 'VESSEL BECs - FIB Origin4': 1, 'VESSEL BECs - FIB Deep2': 13, 'VESSEL BECs - FIB Deep3': 11, 'VESSEL BECs - FIB Muscle1': 12, 'VESSEL BECs - FIB Origin2': 7, 'VESSEL BECs - FIB LateDC': 17, 'VESSEL BECs - FIB Inter2': 12, 'VESSEL BECs - FIB Origin3': 0, 'VESSEL BECs - FIB EarlyDC': 5, 'VESSEL BECs - FIB Origin6': 6, 'VESSEL BECs - FIB Origin1': 2, 'VESSEL BECs - FIB Inter3': 14, 'VESSEL BECs - FIB Upper1': 3, 'EPI - FIB Inter1': 6, 'EPI - FIB Muscle2': 6, 'EPI - FIB Upper4': 0, 'EPI - FIB Upper3': 7, 'EPI - CHOND': 9, 'EPI - FIB Origin5': 4, 'EPI - FIB Upper2': 5, 'EPI - FIB Deep1': 5, 'EPI - FIB Lower': 2, 'EPI - FIB Origin4': 0, 'EPI - FIB Deep2': 6, 'EPI - FIB Deep3': 7, 'EPI - FIB Muscle1': 7, 'EPI - FIB Origin2': 8, 'EPI - FIB LateDC': 9, 'EPI - FIB Inter2': 4, 'EPI - FIB Origin3': 0, 'EPI - FIB EarlyDC': 5, 'EPI - FIB Origin6': 9, 'EPI - FIB Origin1': 2, 'EPI - FIB Inter3': 4, 'EPI - FIB Upper1': 2, 'FIB - FIB Inter1': 13, 'FIB - FIB Muscle2': 11, 'FIB - FIB Upper4': 8, 'FIB - FIB Upper3': 17, 'FIB - CHOND': 27, 'FIB - FIB Origin5': 11, 'FIB - FIB Upper2': 4, 'FIB - FIB Deep1': 9, 'FIB - FIB Lower': 3, 'FIB - FIB Origin4': 0, 'FIB - FIB Deep2': 22, 'FIB - FIB Deep3': 15, 'FIB - FIB Muscle1': 16, 'FIB - FIB Origin2': 10, 'FIB - FIB LateDC': 29, 'FIB - FIB Inter2': 16, 'FIB - FIB Origin3': 0, 'FIB - FIB EarlyDC': 12, 'FIB - FIB Origin6': 16, 'FIB - FIB Origin1': 3, 'FIB - FIB Inter3': 15, 'FIB - FIB Upper1': 5, 'MUSCLE Mid - FIB Inter1': 1, 'MUSCLE Mid - FIB Muscle2': 1, 'MUSCLE Mid - FIB Upper4': 2, 'MUSCLE Mid - FIB Upper3': 4, 'MUSCLE Mid - CHOND': 1, 'MUSCLE Mid - FIB Origin5': 0, 'MUSCLE Mid - FIB Upper2': 2, 'MUSCLE Mid - FIB Deep1': 2, 'MUSCLE Mid - FIB Lower': 4, 'MUSCLE Mid - FIB Origin4': 0, 'MUSCLE Mid - FIB Deep2': 2, 'MUSCLE Mid - FIB Deep3': 2, 'MUSCLE Mid - FIB Muscle1': 2, 'MUSCLE Mid - FIB Origin2': 3, 'MUSCLE Mid - FIB LateDC': 7, 'MUSCLE Mid - FIB Inter2': 2, 'MUSCLE Mid - FIB Origin3': 1, 'MUSCLE Mid - FIB EarlyDC': 3, 'MUSCLE Mid - FIB Origin6': 0, 'MUSCLE Mid - FIB Origin1': 1, 'MUSCLE Mid - FIB Inter3': 2, 'MUSCLE Mid - FIB Upper1': 1, 'VESSEL LECs - FIB Inter1': 5, 'VESSEL LECs - FIB Muscle2': 6, 'VESSEL LECs - FIB Upper4': 4, 'VESSEL LECs - FIB Upper3': 9, 'VESSEL LECs - CHOND': 8, 'VESSEL LECs - FIB Origin5': 4, 'VESSEL LECs - FIB Upper2': 7, 'VESSEL LECs - FIB Deep1': 6, 'VESSEL LECs - FIB Lower': 4, 'VESSEL LECs - FIB Origin4': 1, 'VESSEL LECs - FIB Deep2': 9, 'VESSEL LECs - FIB Deep3': 10, 'VESSEL LECs - FIB Muscle1': 14, 'VESSEL LECs - FIB Origin2': 6, 'VESSEL LECs - FIB LateDC': 13, 'VESSEL LECs - FIB Inter2': 11, 'VESSEL LECs - FIB Origin3': 0, 'VESSEL LECs - FIB EarlyDC': 4, 'VESSEL LECs - FIB Origin6': 5, 'VESSEL LECs - FIB Origin1': 2, 'VESSEL LECs - FIB Inter3': 10, 'VESSEL LECs - FIB Upper1': 2, 'IMMU DendriticCells - FIB Inter1': 5, 'IMMU DendriticCells - FIB Muscle2': 1, 'IMMU DendriticCells - FIB Upper4': 2, 'IMMU DendriticCells - FIB Upper3': 6, 'IMMU DendriticCells - CHOND': 4, 'IMMU DendriticCells - FIB Origin5': 1, 'IMMU DendriticCells - FIB Upper2': 5, 'IMMU DendriticCells - FIB Deep1': 6, 'IMMU DendriticCells - FIB Lower': 2, 'IMMU DendriticCells - FIB Origin4': 1, 'IMMU DendriticCells - FIB Deep2': 3, 'IMMU DendriticCells - FIB Deep3': 2, 'IMMU DendriticCells - FIB Muscle1': 5, 'IMMU DendriticCells - FIB Origin2': 1, 'IMMU DendriticCells - FIB LateDC': 8, 'IMMU DendriticCells - FIB Inter2': 8, 'IMMU DendriticCells - FIB Origin3': 0, 'IMMU DendriticCells - FIB EarlyDC': 2, 'IMMU DendriticCells - FIB Origin6': 1, 'IMMU DendriticCells - FIB Origin1': 1, 'IMMU DendriticCells - FIB Inter3': 7, 'IMMU DendriticCells - FIB Upper1': 1, 'VESSEL MuralCells - FIB Inter1': 2, 'VESSEL MuralCells - FIB Muscle2': 3, 'VESSEL MuralCells - FIB Upper4': 4, 'VESSEL MuralCells - FIB Upper3': 3, 'VESSEL MuralCells - CHOND': 2, 'VESSEL MuralCells - FIB Origin5': 0, 'VESSEL MuralCells - FIB Upper2': 2, 'VESSEL MuralCells - FIB Deep1': 5, 'VESSEL MuralCells - FIB Lower': 3, 'VESSEL MuralCells - FIB Origin4': 0, 'VESSEL MuralCells - FIB Deep2': 6, 'VESSEL MuralCells - FIB Deep3': 5, 'VESSEL MuralCells - FIB Muscle1': 4, 'VESSEL MuralCells - FIB Origin2': 4, 'VESSEL MuralCells - FIB LateDC': 8, 'VESSEL MuralCells - FIB Inter2': 4, 'VESSEL MuralCells - FIB Origin3': 0, 'VESSEL MuralCells - FIB EarlyDC': 0, 'VESSEL MuralCells - FIB Origin6': 1, 'VESSEL MuralCells - FIB Origin1': 0, 'VESSEL MuralCells - FIB Inter3': 7, 'VESSEL MuralCells - FIB Upper1': 0, 'MUSCLE Late - FIB Inter1': 0, 'MUSCLE Late - FIB Muscle2': 1, 'MUSCLE Late - FIB Upper4': 2, 'MUSCLE Late - FIB Upper3': 4, 'MUSCLE Late - CHOND': 0, 'MUSCLE Late - FIB Origin5': 0, 'MUSCLE Late - FIB Upper2': 2, 'MUSCLE Late - FIB Deep1': 3, 'MUSCLE Late - FIB Lower': 3, 'MUSCLE Late - FIB Origin4': 0, 'MUSCLE Late - FIB Deep2': 1, 'MUSCLE Late - FIB Deep3': 2, 'MUSCLE Late - FIB Muscle1': 2, 'MUSCLE Late - FIB Origin2': 3, 'MUSCLE Late - FIB LateDC': 5, 'MUSCLE Late - FIB Inter2': 1, 'MUSCLE Late - FIB Origin3': 1, 'MUSCLE Late - FIB EarlyDC': 3, 'MUSCLE Late - FIB Origin6': 0, 'MUSCLE Late - FIB Origin1': 1, 'MUSCLE Late - FIB Inter3': 1, 'MUSCLE Late - FIB Upper1': 1}\n"
     ]
    }
   ],
   "source": [
    "#Save output\n",
    "quant_ligrec_dge_df.to_csv(os.path.join(path_output,'quant_ligrec_dge_df_'+name_appendix+'.csv'))\n",
    "print('quant_ligrec_dge_dict')\n",
    "print(quant_ligrec_dge_dict)"
   ]
  },
  {
   "cell_type": "markdown",
   "metadata": {},
   "source": [
    "ave for visualization in R"
   ]
  },
  {
   "cell_type": "code",
   "execution_count": 24,
   "metadata": {
    "ExecuteTime": {
     "end_time": "2023-03-28T18:30:38.556435Z",
     "start_time": "2023-03-28T18:30:38.524552Z"
    },
    "scrolled": true
   },
   "outputs": [
    {
     "name": "stdout",
     "output_type": "stream",
     "text": [
      "quant_ligrec_dge_dict_df\n",
      "                            0\n",
      "MUSCLE Early - FIB Inter1   1\n",
      "MUSCLE Early - FIB Muscle2  0\n",
      "MUSCLE Early - FIB Upper4   2\n",
      "MUSCLE Early - FIB Upper3   6\n",
      "MUSCLE Early - CHOND        4\n",
      "...                        ..\n",
      "MUSCLE Late - FIB EarlyDC   3\n",
      "MUSCLE Late - FIB Origin6   0\n",
      "MUSCLE Late - FIB Origin1   1\n",
      "MUSCLE Late - FIB Inter3    1\n",
      "MUSCLE Late - FIB Upper1    1\n",
      "\n",
      "[286 rows x 1 columns]\n"
     ]
    }
   ],
   "source": [
    "#Save output\n",
    "quant_ligrec_dge_dict_df = pd.DataFrame.from_dict(quant_ligrec_dge_dict,orient='index')\n",
    "print('quant_ligrec_dge_dict_df')\n",
    "print(quant_ligrec_dge_dict_df)\n",
    "quant_ligrec_dge_dict_df.to_csv(os.path.join(path_output,'quant_ligrec_dge_dict_'+name_appendix+'.csv'))"
   ]
  },
  {
   "cell_type": "markdown",
   "metadata": {},
   "source": [
    "# Determine Receptor-Ligand-Pairs (simulated)"
   ]
  },
  {
   "cell_type": "code",
   "execution_count": 25,
   "metadata": {
    "ExecuteTime": {
     "end_time": "2023-03-28T19:11:51.655131Z",
     "start_time": "2023-03-28T18:30:38.562734Z"
    }
   },
   "outputs": [
    {
     "name": "stdout",
     "output_type": "stream",
     "text": [
      "Ligand cluster: 1/13, Receptor cluster: 1/22\n",
      "Ligand cluster: 1/13, Receptor cluster: 2/22\n",
      "Ligand cluster: 1/13, Receptor cluster: 3/22\n",
      "Ligand cluster: 1/13, Receptor cluster: 4/22\n",
      "Ligand cluster: 1/13, Receptor cluster: 5/22\n",
      "Ligand cluster: 1/13, Receptor cluster: 6/22\n",
      "Ligand cluster: 1/13, Receptor cluster: 7/22\n",
      "Ligand cluster: 1/13, Receptor cluster: 8/22\n",
      "Ligand cluster: 1/13, Receptor cluster: 9/22\n",
      "Ligand cluster: 1/13, Receptor cluster: 10/22\n",
      "Ligand cluster: 1/13, Receptor cluster: 11/22\n",
      "Ligand cluster: 1/13, Receptor cluster: 12/22\n",
      "Ligand cluster: 1/13, Receptor cluster: 13/22\n",
      "Ligand cluster: 1/13, Receptor cluster: 14/22\n",
      "Ligand cluster: 1/13, Receptor cluster: 15/22\n",
      "Ligand cluster: 1/13, Receptor cluster: 16/22\n",
      "Ligand cluster: 1/13, Receptor cluster: 17/22\n",
      "Ligand cluster: 1/13, Receptor cluster: 18/22\n",
      "Ligand cluster: 1/13, Receptor cluster: 19/22\n",
      "Ligand cluster: 1/13, Receptor cluster: 20/22\n",
      "Ligand cluster: 1/13, Receptor cluster: 21/22\n",
      "Ligand cluster: 1/13, Receptor cluster: 22/22\n",
      "time per source cluster  180.7831733226776\n",
      "Ligand cluster: 2/13, Receptor cluster: 1/22\n",
      "Ligand cluster: 2/13, Receptor cluster: 2/22\n",
      "Ligand cluster: 2/13, Receptor cluster: 3/22\n",
      "Ligand cluster: 2/13, Receptor cluster: 4/22\n",
      "Ligand cluster: 2/13, Receptor cluster: 5/22\n",
      "Ligand cluster: 2/13, Receptor cluster: 6/22\n",
      "Ligand cluster: 2/13, Receptor cluster: 7/22\n",
      "Ligand cluster: 2/13, Receptor cluster: 8/22\n",
      "Ligand cluster: 2/13, Receptor cluster: 9/22\n",
      "Ligand cluster: 2/13, Receptor cluster: 10/22\n",
      "Ligand cluster: 2/13, Receptor cluster: 11/22\n",
      "Ligand cluster: 2/13, Receptor cluster: 12/22\n",
      "Ligand cluster: 2/13, Receptor cluster: 13/22\n",
      "Ligand cluster: 2/13, Receptor cluster: 14/22\n",
      "Ligand cluster: 2/13, Receptor cluster: 15/22\n",
      "Ligand cluster: 2/13, Receptor cluster: 16/22\n",
      "Ligand cluster: 2/13, Receptor cluster: 17/22\n",
      "Ligand cluster: 2/13, Receptor cluster: 18/22\n",
      "Ligand cluster: 2/13, Receptor cluster: 19/22\n",
      "Ligand cluster: 2/13, Receptor cluster: 20/22\n",
      "Ligand cluster: 2/13, Receptor cluster: 21/22\n",
      "Ligand cluster: 2/13, Receptor cluster: 22/22\n",
      "time per source cluster  187.40945887565613\n",
      "Ligand cluster: 3/13, Receptor cluster: 1/22\n",
      "Ligand cluster: 3/13, Receptor cluster: 2/22\n",
      "Ligand cluster: 3/13, Receptor cluster: 3/22\n",
      "Ligand cluster: 3/13, Receptor cluster: 4/22\n",
      "Ligand cluster: 3/13, Receptor cluster: 5/22\n",
      "Ligand cluster: 3/13, Receptor cluster: 6/22\n",
      "Ligand cluster: 3/13, Receptor cluster: 7/22\n",
      "Ligand cluster: 3/13, Receptor cluster: 8/22\n",
      "Ligand cluster: 3/13, Receptor cluster: 9/22\n",
      "Ligand cluster: 3/13, Receptor cluster: 10/22\n",
      "Ligand cluster: 3/13, Receptor cluster: 11/22\n",
      "Ligand cluster: 3/13, Receptor cluster: 12/22\n",
      "Ligand cluster: 3/13, Receptor cluster: 13/22\n",
      "Ligand cluster: 3/13, Receptor cluster: 14/22\n",
      "Ligand cluster: 3/13, Receptor cluster: 15/22\n",
      "Ligand cluster: 3/13, Receptor cluster: 16/22\n",
      "Ligand cluster: 3/13, Receptor cluster: 17/22\n",
      "Ligand cluster: 3/13, Receptor cluster: 18/22\n",
      "Ligand cluster: 3/13, Receptor cluster: 19/22\n",
      "Ligand cluster: 3/13, Receptor cluster: 20/22\n",
      "Ligand cluster: 3/13, Receptor cluster: 21/22\n",
      "Ligand cluster: 3/13, Receptor cluster: 22/22\n",
      "time per source cluster  188.6125292778015\n",
      "Ligand cluster: 4/13, Receptor cluster: 1/22\n",
      "Ligand cluster: 4/13, Receptor cluster: 2/22\n",
      "Ligand cluster: 4/13, Receptor cluster: 3/22\n",
      "Ligand cluster: 4/13, Receptor cluster: 4/22\n",
      "Ligand cluster: 4/13, Receptor cluster: 5/22\n",
      "Ligand cluster: 4/13, Receptor cluster: 6/22\n",
      "Ligand cluster: 4/13, Receptor cluster: 7/22\n",
      "Ligand cluster: 4/13, Receptor cluster: 8/22\n",
      "Ligand cluster: 4/13, Receptor cluster: 9/22\n",
      "Ligand cluster: 4/13, Receptor cluster: 10/22\n",
      "Ligand cluster: 4/13, Receptor cluster: 11/22\n",
      "Ligand cluster: 4/13, Receptor cluster: 12/22\n",
      "Ligand cluster: 4/13, Receptor cluster: 13/22\n",
      "Ligand cluster: 4/13, Receptor cluster: 14/22\n",
      "Ligand cluster: 4/13, Receptor cluster: 15/22\n",
      "Ligand cluster: 4/13, Receptor cluster: 16/22\n",
      "Ligand cluster: 4/13, Receptor cluster: 17/22\n",
      "Ligand cluster: 4/13, Receptor cluster: 18/22\n",
      "Ligand cluster: 4/13, Receptor cluster: 19/22\n",
      "Ligand cluster: 4/13, Receptor cluster: 20/22\n",
      "Ligand cluster: 4/13, Receptor cluster: 21/22\n",
      "Ligand cluster: 4/13, Receptor cluster: 22/22\n",
      "time per source cluster  194.200364112854\n",
      "Ligand cluster: 5/13, Receptor cluster: 1/22\n",
      "Ligand cluster: 5/13, Receptor cluster: 2/22\n",
      "Ligand cluster: 5/13, Receptor cluster: 3/22\n",
      "Ligand cluster: 5/13, Receptor cluster: 4/22\n",
      "Ligand cluster: 5/13, Receptor cluster: 5/22\n",
      "Ligand cluster: 5/13, Receptor cluster: 6/22\n",
      "Ligand cluster: 5/13, Receptor cluster: 7/22\n",
      "Ligand cluster: 5/13, Receptor cluster: 8/22\n",
      "Ligand cluster: 5/13, Receptor cluster: 9/22\n",
      "Ligand cluster: 5/13, Receptor cluster: 10/22\n",
      "Ligand cluster: 5/13, Receptor cluster: 11/22\n",
      "Ligand cluster: 5/13, Receptor cluster: 12/22\n",
      "Ligand cluster: 5/13, Receptor cluster: 13/22\n",
      "Ligand cluster: 5/13, Receptor cluster: 14/22\n",
      "Ligand cluster: 5/13, Receptor cluster: 15/22\n",
      "Ligand cluster: 5/13, Receptor cluster: 16/22\n",
      "Ligand cluster: 5/13, Receptor cluster: 17/22\n",
      "Ligand cluster: 5/13, Receptor cluster: 18/22\n",
      "Ligand cluster: 5/13, Receptor cluster: 19/22\n",
      "Ligand cluster: 5/13, Receptor cluster: 20/22\n",
      "Ligand cluster: 5/13, Receptor cluster: 21/22\n",
      "Ligand cluster: 5/13, Receptor cluster: 22/22\n",
      "time per source cluster  183.9330985546112\n",
      "Ligand cluster: 6/13, Receptor cluster: 1/22\n",
      "Ligand cluster: 6/13, Receptor cluster: 2/22\n",
      "Ligand cluster: 6/13, Receptor cluster: 3/22\n",
      "Ligand cluster: 6/13, Receptor cluster: 4/22\n",
      "Ligand cluster: 6/13, Receptor cluster: 5/22\n",
      "Ligand cluster: 6/13, Receptor cluster: 6/22\n",
      "Ligand cluster: 6/13, Receptor cluster: 7/22\n",
      "Ligand cluster: 6/13, Receptor cluster: 8/22\n",
      "Ligand cluster: 6/13, Receptor cluster: 9/22\n",
      "Ligand cluster: 6/13, Receptor cluster: 10/22\n",
      "Ligand cluster: 6/13, Receptor cluster: 11/22\n",
      "Ligand cluster: 6/13, Receptor cluster: 12/22\n",
      "Ligand cluster: 6/13, Receptor cluster: 13/22\n",
      "Ligand cluster: 6/13, Receptor cluster: 14/22\n",
      "Ligand cluster: 6/13, Receptor cluster: 15/22\n",
      "Ligand cluster: 6/13, Receptor cluster: 16/22\n",
      "Ligand cluster: 6/13, Receptor cluster: 17/22\n",
      "Ligand cluster: 6/13, Receptor cluster: 18/22\n",
      "Ligand cluster: 6/13, Receptor cluster: 19/22\n",
      "Ligand cluster: 6/13, Receptor cluster: 20/22\n",
      "Ligand cluster: 6/13, Receptor cluster: 21/22\n",
      "Ligand cluster: 6/13, Receptor cluster: 22/22\n",
      "time per source cluster  192.51665806770325\n",
      "Ligand cluster: 7/13, Receptor cluster: 1/22\n",
      "Ligand cluster: 7/13, Receptor cluster: 2/22\n",
      "Ligand cluster: 7/13, Receptor cluster: 3/22\n",
      "Ligand cluster: 7/13, Receptor cluster: 4/22\n",
      "Ligand cluster: 7/13, Receptor cluster: 5/22\n",
      "Ligand cluster: 7/13, Receptor cluster: 6/22\n",
      "Ligand cluster: 7/13, Receptor cluster: 7/22\n",
      "Ligand cluster: 7/13, Receptor cluster: 8/22\n",
      "Ligand cluster: 7/13, Receptor cluster: 9/22\n",
      "Ligand cluster: 7/13, Receptor cluster: 10/22\n",
      "Ligand cluster: 7/13, Receptor cluster: 11/22\n",
      "Ligand cluster: 7/13, Receptor cluster: 12/22\n",
      "Ligand cluster: 7/13, Receptor cluster: 13/22\n",
      "Ligand cluster: 7/13, Receptor cluster: 14/22\n",
      "Ligand cluster: 7/13, Receptor cluster: 15/22\n",
      "Ligand cluster: 7/13, Receptor cluster: 16/22\n",
      "Ligand cluster: 7/13, Receptor cluster: 17/22\n",
      "Ligand cluster: 7/13, Receptor cluster: 18/22\n",
      "Ligand cluster: 7/13, Receptor cluster: 19/22\n",
      "Ligand cluster: 7/13, Receptor cluster: 20/22\n",
      "Ligand cluster: 7/13, Receptor cluster: 21/22\n",
      "Ligand cluster: 7/13, Receptor cluster: 22/22\n",
      "time per source cluster  193.0090696811676\n",
      "Ligand cluster: 8/13, Receptor cluster: 1/22\n",
      "Ligand cluster: 8/13, Receptor cluster: 2/22\n",
      "Ligand cluster: 8/13, Receptor cluster: 3/22\n",
      "Ligand cluster: 8/13, Receptor cluster: 4/22\n",
      "Ligand cluster: 8/13, Receptor cluster: 5/22\n",
      "Ligand cluster: 8/13, Receptor cluster: 6/22\n",
      "Ligand cluster: 8/13, Receptor cluster: 7/22\n",
      "Ligand cluster: 8/13, Receptor cluster: 8/22\n",
      "Ligand cluster: 8/13, Receptor cluster: 9/22\n",
      "Ligand cluster: 8/13, Receptor cluster: 10/22\n",
      "Ligand cluster: 8/13, Receptor cluster: 11/22\n",
      "Ligand cluster: 8/13, Receptor cluster: 12/22\n",
      "Ligand cluster: 8/13, Receptor cluster: 13/22\n",
      "Ligand cluster: 8/13, Receptor cluster: 14/22\n",
      "Ligand cluster: 8/13, Receptor cluster: 15/22\n",
      "Ligand cluster: 8/13, Receptor cluster: 16/22\n",
      "Ligand cluster: 8/13, Receptor cluster: 17/22\n",
      "Ligand cluster: 8/13, Receptor cluster: 18/22\n",
      "Ligand cluster: 8/13, Receptor cluster: 19/22\n",
      "Ligand cluster: 8/13, Receptor cluster: 20/22\n"
     ]
    },
    {
     "name": "stdout",
     "output_type": "stream",
     "text": [
      "Ligand cluster: 8/13, Receptor cluster: 21/22\n",
      "Ligand cluster: 8/13, Receptor cluster: 22/22\n",
      "time per source cluster  198.0174422264099\n",
      "Ligand cluster: 9/13, Receptor cluster: 1/22\n",
      "Ligand cluster: 9/13, Receptor cluster: 2/22\n",
      "Ligand cluster: 9/13, Receptor cluster: 3/22\n",
      "Ligand cluster: 9/13, Receptor cluster: 4/22\n",
      "Ligand cluster: 9/13, Receptor cluster: 5/22\n",
      "Ligand cluster: 9/13, Receptor cluster: 6/22\n",
      "Ligand cluster: 9/13, Receptor cluster: 7/22\n",
      "Ligand cluster: 9/13, Receptor cluster: 8/22\n",
      "Ligand cluster: 9/13, Receptor cluster: 9/22\n",
      "Ligand cluster: 9/13, Receptor cluster: 10/22\n",
      "Ligand cluster: 9/13, Receptor cluster: 11/22\n",
      "Ligand cluster: 9/13, Receptor cluster: 12/22\n",
      "Ligand cluster: 9/13, Receptor cluster: 13/22\n",
      "Ligand cluster: 9/13, Receptor cluster: 14/22\n",
      "Ligand cluster: 9/13, Receptor cluster: 15/22\n",
      "Ligand cluster: 9/13, Receptor cluster: 16/22\n",
      "Ligand cluster: 9/13, Receptor cluster: 17/22\n",
      "Ligand cluster: 9/13, Receptor cluster: 18/22\n",
      "Ligand cluster: 9/13, Receptor cluster: 19/22\n",
      "Ligand cluster: 9/13, Receptor cluster: 20/22\n",
      "Ligand cluster: 9/13, Receptor cluster: 21/22\n",
      "Ligand cluster: 9/13, Receptor cluster: 22/22\n",
      "time per source cluster  185.59542036056519\n",
      "Ligand cluster: 10/13, Receptor cluster: 1/22\n",
      "Ligand cluster: 10/13, Receptor cluster: 2/22\n",
      "Ligand cluster: 10/13, Receptor cluster: 3/22\n",
      "Ligand cluster: 10/13, Receptor cluster: 4/22\n",
      "Ligand cluster: 10/13, Receptor cluster: 5/22\n",
      "Ligand cluster: 10/13, Receptor cluster: 6/22\n",
      "Ligand cluster: 10/13, Receptor cluster: 7/22\n",
      "Ligand cluster: 10/13, Receptor cluster: 8/22\n",
      "Ligand cluster: 10/13, Receptor cluster: 9/22\n",
      "Ligand cluster: 10/13, Receptor cluster: 10/22\n",
      "Ligand cluster: 10/13, Receptor cluster: 11/22\n",
      "Ligand cluster: 10/13, Receptor cluster: 12/22\n",
      "Ligand cluster: 10/13, Receptor cluster: 13/22\n",
      "Ligand cluster: 10/13, Receptor cluster: 14/22\n",
      "Ligand cluster: 10/13, Receptor cluster: 15/22\n",
      "Ligand cluster: 10/13, Receptor cluster: 16/22\n",
      "Ligand cluster: 10/13, Receptor cluster: 17/22\n",
      "Ligand cluster: 10/13, Receptor cluster: 18/22\n",
      "Ligand cluster: 10/13, Receptor cluster: 19/22\n",
      "Ligand cluster: 10/13, Receptor cluster: 20/22\n",
      "Ligand cluster: 10/13, Receptor cluster: 21/22\n",
      "Ligand cluster: 10/13, Receptor cluster: 22/22\n",
      "time per source cluster  194.6410403251648\n",
      "Ligand cluster: 11/13, Receptor cluster: 1/22\n",
      "Ligand cluster: 11/13, Receptor cluster: 2/22\n",
      "Ligand cluster: 11/13, Receptor cluster: 3/22\n",
      "Ligand cluster: 11/13, Receptor cluster: 4/22\n",
      "Ligand cluster: 11/13, Receptor cluster: 5/22\n",
      "Ligand cluster: 11/13, Receptor cluster: 6/22\n",
      "Ligand cluster: 11/13, Receptor cluster: 7/22\n",
      "Ligand cluster: 11/13, Receptor cluster: 8/22\n",
      "Ligand cluster: 11/13, Receptor cluster: 9/22\n",
      "Ligand cluster: 11/13, Receptor cluster: 10/22\n",
      "Ligand cluster: 11/13, Receptor cluster: 11/22\n",
      "Ligand cluster: 11/13, Receptor cluster: 12/22\n",
      "Ligand cluster: 11/13, Receptor cluster: 13/22\n",
      "Ligand cluster: 11/13, Receptor cluster: 14/22\n",
      "Ligand cluster: 11/13, Receptor cluster: 15/22\n",
      "Ligand cluster: 11/13, Receptor cluster: 16/22\n",
      "Ligand cluster: 11/13, Receptor cluster: 17/22\n",
      "Ligand cluster: 11/13, Receptor cluster: 18/22\n",
      "Ligand cluster: 11/13, Receptor cluster: 19/22\n",
      "Ligand cluster: 11/13, Receptor cluster: 20/22\n",
      "Ligand cluster: 11/13, Receptor cluster: 21/22\n",
      "Ligand cluster: 11/13, Receptor cluster: 22/22\n",
      "time per source cluster  190.35916996002197\n",
      "Ligand cluster: 12/13, Receptor cluster: 1/22\n",
      "Ligand cluster: 12/13, Receptor cluster: 2/22\n",
      "Ligand cluster: 12/13, Receptor cluster: 3/22\n",
      "Ligand cluster: 12/13, Receptor cluster: 4/22\n",
      "Ligand cluster: 12/13, Receptor cluster: 5/22\n",
      "Ligand cluster: 12/13, Receptor cluster: 6/22\n",
      "Ligand cluster: 12/13, Receptor cluster: 7/22\n",
      "Ligand cluster: 12/13, Receptor cluster: 8/22\n",
      "Ligand cluster: 12/13, Receptor cluster: 9/22\n",
      "Ligand cluster: 12/13, Receptor cluster: 10/22\n",
      "Ligand cluster: 12/13, Receptor cluster: 11/22\n",
      "Ligand cluster: 12/13, Receptor cluster: 12/22\n",
      "Ligand cluster: 12/13, Receptor cluster: 13/22\n",
      "Ligand cluster: 12/13, Receptor cluster: 14/22\n",
      "Ligand cluster: 12/13, Receptor cluster: 15/22\n",
      "Ligand cluster: 12/13, Receptor cluster: 16/22\n",
      "Ligand cluster: 12/13, Receptor cluster: 17/22\n",
      "Ligand cluster: 12/13, Receptor cluster: 18/22\n",
      "Ligand cluster: 12/13, Receptor cluster: 19/22\n",
      "Ligand cluster: 12/13, Receptor cluster: 20/22\n",
      "Ligand cluster: 12/13, Receptor cluster: 21/22\n",
      "Ligand cluster: 12/13, Receptor cluster: 22/22\n",
      "time per source cluster  193.77981853485107\n",
      "Ligand cluster: 13/13, Receptor cluster: 1/22\n",
      "Ligand cluster: 13/13, Receptor cluster: 2/22\n",
      "Ligand cluster: 13/13, Receptor cluster: 3/22\n",
      "Ligand cluster: 13/13, Receptor cluster: 4/22\n",
      "Ligand cluster: 13/13, Receptor cluster: 5/22\n",
      "Ligand cluster: 13/13, Receptor cluster: 6/22\n",
      "Ligand cluster: 13/13, Receptor cluster: 7/22\n",
      "Ligand cluster: 13/13, Receptor cluster: 8/22\n",
      "Ligand cluster: 13/13, Receptor cluster: 9/22\n",
      "Ligand cluster: 13/13, Receptor cluster: 10/22\n",
      "Ligand cluster: 13/13, Receptor cluster: 11/22\n",
      "Ligand cluster: 13/13, Receptor cluster: 12/22\n",
      "Ligand cluster: 13/13, Receptor cluster: 13/22\n",
      "Ligand cluster: 13/13, Receptor cluster: 14/22\n",
      "Ligand cluster: 13/13, Receptor cluster: 15/22\n",
      "Ligand cluster: 13/13, Receptor cluster: 16/22\n",
      "Ligand cluster: 13/13, Receptor cluster: 17/22\n",
      "Ligand cluster: 13/13, Receptor cluster: 18/22\n",
      "Ligand cluster: 13/13, Receptor cluster: 19/22\n",
      "Ligand cluster: 13/13, Receptor cluster: 20/22\n",
      "Ligand cluster: 13/13, Receptor cluster: 21/22\n",
      "Ligand cluster: 13/13, Receptor cluster: 22/22\n",
      "time per source cluster  190.0663034915924\n"
     ]
    }
   ],
   "source": [
    "#To test for the enrichment of receptor-ligand pairs between two populations, \n",
    "#the observed number of receptor-ligand pairs was compared to the number of pairs obtained \n",
    "#from an equally sized randomly sampled pool of receptors and ligands. \n",
    "#For each cluster pair, this simulation was repeated 10000 times\n",
    "sim_lig_rec_dge = sim_lig_rec(rec_dge_dict2, lig_dge_dict, Pairs_LigRec_mm_S, repeats = 10000)"
   ]
  },
  {
   "cell_type": "markdown",
   "metadata": {},
   "source": [
    "# Compare observed and simulated R-L-pairs to determine p-value (uncorrected and corrected)"
   ]
  },
  {
   "cell_type": "code",
   "execution_count": 26,
   "metadata": {
    "ExecuteTime": {
     "end_time": "2023-03-28T19:11:52.285970Z",
     "start_time": "2023-03-28T19:11:51.658321Z"
    }
   },
   "outputs": [
    {
     "name": "stdout",
     "output_type": "stream",
     "text": [
      "quant_sim_lig_rec_dge\n",
      "                     FIB Inter1  FIB Muscle2  FIB Upper4  FIB Upper3   CHOND  \\\n",
      "MUSCLE Early             0.6321       1.0000      0.1478      0.0026  0.0410   \n",
      "NC SchwannCells          0.0276       0.0032      0.2211      0.0061  0.1933   \n",
      "IMMU MastCells           0.7177       1.0000      0.4961      0.8615  0.9641   \n",
      "IMMU Macrophages         0.1206       0.9199      0.9239      0.3159  0.0182   \n",
      "NC Melanocytes           0.1074       0.8805      0.3592      0.4735  0.6824   \n",
      "VESSEL BECs              0.0084       0.1507      0.1621      0.0009  0.3974   \n",
      "EPI                      0.0198       0.0344      1.0000      0.0399  0.0021   \n",
      "FIB                      0.0000       0.0019      0.0010      0.0000  0.0000   \n",
      "MUSCLE Mid               0.6926       0.7400      0.1873      0.0864  0.7798   \n",
      "VESSEL LECs              0.1154       0.0695      0.0877      0.0080  0.0141   \n",
      "IMMU DendriticCells      0.1607       0.9754      0.5973      0.2252  0.5305   \n",
      "VESSEL MuralCells        0.6809       0.4798      0.0570      0.6354  0.8009   \n",
      "MUSCLE Late              1.0000       0.7617      0.2137      0.1009  1.0000   \n",
      "\n",
      "                     FIB Origin5  FIB Upper2  FIB Deep1  FIB Lower  \\\n",
      "MUSCLE Early              1.0000      0.1269     0.2786     0.0013   \n",
      "NC SchwannCells           1.0000      0.0149     0.2781     0.1367   \n",
      "IMMU MastCells            1.0000      0.2068     0.7534     0.5898   \n",
      "IMMU Macrophages          0.7203      0.1788     0.3164     0.9559   \n",
      "NC Melanocytes            1.0000      0.3420     0.2996     0.1712   \n",
      "VESSEL BECs               0.0016      0.0000     0.1317     0.0346   \n",
      "EPI                       0.0026      0.0106     0.0907     0.5663   \n",
      "FIB                       0.0000      0.2935     0.0203     0.6940   \n",
      "MUSCLE Mid                1.0000      0.1845     0.3700     0.0134   \n",
      "VESSEL LECs               0.0041      0.0005     0.0502     0.1500   \n",
      "IMMU DendriticCells       0.6611      0.0316     0.0819     0.7133   \n",
      "VESSEL MuralCells         1.0000      0.4595     0.0879     0.2707   \n",
      "MUSCLE Late               1.0000      0.2009     0.1463     0.0791   \n",
      "\n",
      "                     FIB Origin4  ...  FIB Muscle1  FIB Origin2  FIB LateDC  \\\n",
      "MUSCLE Early              1.0000  ...       0.2298       0.1136      0.0000   \n",
      "NC SchwannCells           1.0000  ...       0.0067       0.0000      0.0000   \n",
      "IMMU MastCells            1.0000  ...       0.2002       0.4338      0.6519   \n",
      "IMMU Macrophages          0.5340  ...       0.2246       0.1377      0.4283   \n",
      "NC Melanocytes            1.0000  ...       0.8297       0.6792      0.1047   \n",
      "VESSEL BECs               0.5372  ...       0.0000       0.0004      0.0000   \n",
      "EPI                       1.0000  ...       0.0028       0.0000      0.0242   \n",
      "FIB                       1.0000  ...       0.0000       0.0000      0.0000   \n",
      "MUSCLE Mid                1.0000  ...       0.3073       0.0326      0.0065   \n",
      "VESSEL LECs               0.4446  ...       0.0000       0.0014      0.0006   \n",
      "IMMU DendriticCells       0.4881  ...       0.1275       0.8563      0.1563   \n",
      "VESSEL MuralCells         1.0000  ...       0.1538       0.0401      0.0435   \n",
      "MUSCLE Late               1.0000  ...       0.3369       0.0343      0.0817   \n",
      "\n",
      "                     FIB Inter2  FIB Origin3  FIB EarlyDC  FIB Origin6  \\\n",
      "MUSCLE Early             0.3013       1.0000       0.0061       1.0000   \n",
      "NC SchwannCells          0.0000       1.0000       0.0012       0.0895   \n",
      "IMMU MastCells           0.2840       0.5007       0.9481       1.0000   \n",
      "IMMU Macrophages         0.0072       1.0000       0.9226       0.9445   \n",
      "NC Melanocytes           0.3402       1.0000       0.6153       1.0000   \n",
      "VESSEL BECs              0.0000       1.0000       0.3100       0.0216   \n",
      "EPI                      0.2569       1.0000       0.1116       0.0000   \n",
      "FIB                      0.0000       1.0000       0.0012       0.0000   \n",
      "MUSCLE Mid               0.3920       0.2793       0.1484       1.0000   \n",
      "VESSEL LECs              0.0002       1.0000       0.3642       0.0378   \n",
      "IMMU DendriticCells      0.0113       1.0000       0.8696       0.9052   \n",
      "VESSEL MuralCells        0.2569       1.0000       1.0000       0.8336   \n",
      "MUSCLE Late              0.7614       0.2997       0.1787       1.0000   \n",
      "\n",
      "                     FIB Origin1  FIB Inter3  FIB Upper1  \n",
      "MUSCLE Early              1.0000      0.6202      1.0000  \n",
      "NC SchwannCells           1.0000      0.0000      1.0000  \n",
      "IMMU MastCells            0.2900      0.0063      0.5072  \n",
      "IMMU Macrophages          0.0000      0.0000      0.0352  \n",
      "NC Melanocytes            1.0000      0.1084      1.0000  \n",
      "VESSEL BECs               0.0483      0.0000      0.0350  \n",
      "EPI                       0.0225      0.1949      0.1095  \n",
      "FIB                       0.0000      0.0000      0.0000  \n",
      "MUSCLE Mid                0.1517      0.3338      0.2799  \n",
      "VESSEL LECs               0.0342      0.0003      0.1469  \n",
      "IMMU DendriticCells       0.3516      0.0156      0.5749  \n",
      "VESSEL MuralCells         1.0000      0.0050      1.0000  \n",
      "MUSCLE Late               0.1670      0.7223      0.3025  \n",
      "\n",
      "[13 rows x 22 columns]\n"
     ]
    }
   ],
   "source": [
    "quant_sim_lig_rec_dge = sim_lig_reg_get_p(quant_ligrec_dge_dict, sim_lig_rec_dge)\n",
    "print('quant_sim_lig_rec_dge')\n",
    "print(quant_sim_lig_rec_dge)"
   ]
  },
  {
   "cell_type": "code",
   "execution_count": 27,
   "metadata": {
    "ExecuteTime": {
     "end_time": "2023-03-28T19:11:52.308211Z",
     "start_time": "2023-03-28T19:11:52.289738Z"
    }
   },
   "outputs": [],
   "source": [
    "#Save output\n",
    "quant_sim_lig_rec_dge.to_csv(os.path.join(path_output,'quant_sim_lig_rec_dge_'+name_appendix+'.csv'))"
   ]
  },
  {
   "cell_type": "code",
   "execution_count": 28,
   "metadata": {
    "ExecuteTime": {
     "end_time": "2023-03-28T19:11:52.365276Z",
     "start_time": "2023-03-28T19:11:52.321628Z"
    }
   },
   "outputs": [
    {
     "name": "stdout",
     "output_type": "stream",
     "text": [
      "                     FIB Inter1  FIB Muscle2  FIB Upper4  FIB Upper3  \\\n",
      "MUSCLE Early           0.890545     1.000000    0.344335    0.014580   \n",
      "NC SchwannCells        0.099919     0.017268    0.436101    0.030607   \n",
      "IMMU MastCells         0.956379     1.000000    0.750712    1.000000   \n",
      "IMMU Macrophages       0.302558     1.000000    1.000000    0.541859   \n",
      "NC Melanocytes         0.284411     1.000000    0.590409    0.732005   \n",
      "VESSEL BECs            0.036833     0.344335    0.356620    0.006278   \n",
      "EPI                    0.076524     0.115715    1.000000    0.127429   \n",
      "FIB                    0.000000     0.011321    0.006810    0.000000   \n",
      "MUSCLE Mid             0.936245     0.975300    0.391006    0.244072   \n",
      "VESSEL LECs            0.292074     0.207052    0.244072    0.036317   \n",
      "IMMU DendriticCells    0.356281     1.000000    0.854139    0.438144   \n",
      "VESSEL MuralCells      0.929364     0.736871    0.171600    0.890806   \n",
      "MUSCLE Late            1.000000     0.985729    0.424432    0.272240   \n",
      "\n",
      "                        CHOND  FIB Origin5  FIB Upper2  FIB Deep1  FIB Lower  \\\n",
      "MUSCLE Early         0.128857     1.000000    0.314353   0.515717   0.008262   \n",
      "NC SchwannCells      0.398153     1.000000    0.060020   0.515717   0.330943   \n",
      "IMMU MastCells       1.000000     1.000000    0.413600   0.985729   0.847652   \n",
      "IMMU Macrophages     0.071304     0.956379    0.378791   0.541859   1.000000   \n",
      "NC Melanocytes       0.929364     1.000000    0.568674   0.530767   0.368144   \n",
      "VESSEL BECs          0.631424     0.009736    0.000000   0.321933   0.115715   \n",
      "EPI                  0.012257     0.014580    0.045248   0.247050   0.826336   \n",
      "FIB                  0.000000     0.000000    0.527931   0.077411   0.936245   \n",
      "MUSCLE Mid           1.000000     1.000000    0.387993   0.597853   0.055542   \n",
      "VESSEL LECs          0.057609     0.021715    0.003865   0.152736   0.344335   \n",
      "IMMU DendriticCells  0.786130     0.917838    0.112970   0.236600   0.956379   \n",
      "VESSEL MuralCells    1.000000     1.000000    0.714223   0.244072   0.512717   \n",
      "MUSCLE Late          1.000000     1.000000    0.404630   0.344335   0.233223   \n",
      "\n",
      "                     FIB Origin4  ...  FIB Muscle1  FIB Origin2  FIB LateDC  \\\n",
      "MUSCLE Early            1.000000  ...     0.444073     0.290086    0.000000   \n",
      "NC SchwannCells         1.000000  ...     0.031413     0.000000    0.000000   \n",
      "IMMU MastCells          1.000000  ...     0.404630     0.681686    0.909480   \n",
      "IMMU Macrophages        0.787237  ...     0.438144     0.330943    0.676761   \n",
      "NC Melanocytes          1.000000  ...     1.000000     0.929364    0.279852   \n",
      "VESSEL BECs             0.787893  ...     0.000000     0.003178    0.000000   \n",
      "EPI                     1.000000  ...     0.015400     0.000000    0.088733   \n",
      "FIB                     1.000000  ...     0.000000     0.000000    0.000000   \n",
      "MUSCLE Mid              1.000000  ...     0.535901     0.115106    0.030983   \n",
      "VESSEL LECs             0.694839  ...     0.000000     0.008704    0.004516   \n",
      "IMMU DendriticCells     0.742535  ...     0.314353     1.000000    0.349233   \n",
      "VESSEL MuralCells       1.000000  ...     0.346353     0.127429    0.135228   \n",
      "MUSCLE Late             1.000000  ...     0.568674     0.115715    0.236600   \n",
      "\n",
      "                     FIB Inter2  FIB Origin3  FIB EarlyDC  FIB Origin6  \\\n",
      "MUSCLE Early           0.530767     1.000000     0.030607     1.000000   \n",
      "NC SchwannCells        0.000000     1.000000     0.007800     0.246125   \n",
      "IMMU MastCells         0.517350     0.753685     1.000000     1.000000   \n",
      "IMMU Macrophages       0.033213     1.000000     1.000000     1.000000   \n",
      "NC Melanocytes         0.568674     1.000000     0.875501     1.000000   \n",
      "VESSEL BECs            0.000000     1.000000     0.537333     0.081284   \n",
      "EPI                    0.489823     1.000000     0.287546     0.000000   \n",
      "FIB                    0.000000     1.000000     0.007800     0.000000   \n",
      "MUSCLE Mid             0.626324     0.515717     0.344335     1.000000   \n",
      "VESSEL LECs            0.001682     1.000000     0.595207     0.122850   \n",
      "IMMU DendriticCells    0.047526     1.000000     1.000000     1.000000   \n",
      "VESSEL MuralCells      0.489823     1.000000     1.000000     1.000000   \n",
      "MUSCLE Late            0.985729     0.530767     0.378791     1.000000   \n",
      "\n",
      "                     FIB Origin1  FIB Inter3  FIB Upper1  \n",
      "MUSCLE Early            1.000000    0.878105    1.000000  \n",
      "NC SchwannCells         1.000000    0.000000    1.000000  \n",
      "IMMU MastCells          0.524937    0.030983    0.759472  \n",
      "IMMU Macrophages        0.000000    0.000000    0.115715  \n",
      "NC Melanocytes          1.000000    0.284426    1.000000  \n",
      "VESSEL BECs             0.148535    0.000000    0.115715  \n",
      "EPI                     0.083571    0.398153    0.284700  \n",
      "FIB                     0.000000    0.000000    0.000000  \n",
      "MUSCLE Mid              0.344335    0.568255    0.515717  \n",
      "VESSEL LECs             0.115715    0.002451    0.344335  \n",
      "IMMU DendriticCells     0.581258    0.061967    0.830411  \n",
      "VESSEL MuralCells       1.000000    0.026000    1.000000  \n",
      "MUSCLE Late             0.361833    0.956379    0.530767  \n",
      "\n",
      "[13 rows x 22 columns]\n"
     ]
    }
   ],
   "source": [
    "#Correct for multiple testing (Benjamini-Hochberg-corrected p-values)\n",
    "_,adj = st.fdrcorrection(quant_sim_lig_rec_dge.values.ravel(), alpha=0.05, method='indep', is_sorted=False)\n",
    "adj=np.split(adj,len(quant_sim_lig_rec_dge.index))\n",
    "adj=pd.DataFrame(adj,index=quant_sim_lig_rec_dge.index,columns=quant_sim_lig_rec_dge.columns)\n",
    "print(adj)"
   ]
  },
  {
   "cell_type": "code",
   "execution_count": 29,
   "metadata": {
    "ExecuteTime": {
     "end_time": "2023-03-28T19:11:52.397270Z",
     "start_time": "2023-03-28T19:11:52.372106Z"
    }
   },
   "outputs": [],
   "source": [
    "#Save output\n",
    "adj.to_csv(os.path.join(path_output,'quant_sim_lig_rec_dge_FDRcorrected_'+name_appendix+'.csv'))"
   ]
  }
 ],
 "metadata": {
  "kernelspec": {
   "display_name": "Python 3",
   "language": "python",
   "name": "python3"
  },
  "language_info": {
   "codemirror_mode": {
    "name": "ipython",
    "version": 3
   },
   "file_extension": ".py",
   "mimetype": "text/x-python",
   "name": "python",
   "nbconvert_exporter": "python",
   "pygments_lexer": "ipython3",
   "version": "3.7.7"
  },
  "toc": {
   "base_numbering": 1,
   "nav_menu": {},
   "number_sections": true,
   "sideBar": true,
   "skip_h1_title": false,
   "title_cell": "Table of Contents",
   "title_sidebar": "Contents",
   "toc_cell": false,
   "toc_position": {},
   "toc_section_display": true,
   "toc_window_display": true
  },
  "varInspector": {
   "cols": {
    "lenName": 16,
    "lenType": 16,
    "lenVar": 40
   },
   "kernels_config": {
    "python": {
     "delete_cmd_postfix": "",
     "delete_cmd_prefix": "del ",
     "library": "var_list.py",
     "varRefreshCmd": "print(var_dic_list())"
    },
    "r": {
     "delete_cmd_postfix": ") ",
     "delete_cmd_prefix": "rm(",
     "library": "var_list.r",
     "varRefreshCmd": "cat(var_dic_list()) "
    }
   },
   "types_to_exclude": [
    "module",
    "function",
    "builtin_function_or_method",
    "instance",
    "_Feature"
   ],
   "window_display": false
  }
 },
 "nbformat": 4,
 "nbformat_minor": 2
}
