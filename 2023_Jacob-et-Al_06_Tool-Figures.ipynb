{
 "cells": [
  {
   "cell_type": "markdown",
   "metadata": {},
   "source": [
    "# Import libraries"
   ]
  },
  {
   "cell_type": "code",
   "execution_count": 1,
   "metadata": {
    "ExecuteTime": {
     "end_time": "2023-04-06T09:04:17.418920Z",
     "start_time": "2023-04-06T09:04:17.415778Z"
    }
   },
   "outputs": [],
   "source": [
    "#This notebook was run in the conda environment named \"Jacob_Env1\" (provided on GitHub)"
   ]
  },
  {
   "cell_type": "code",
   "execution_count": 2,
   "metadata": {
    "ExecuteTime": {
     "end_time": "2023-04-06T09:04:21.230283Z",
     "start_time": "2023-04-06T09:04:17.836232Z"
    }
   },
   "outputs": [
    {
     "data": {
      "text/html": [
       "<style>.container { width:90% !important; }</style>"
      ],
      "text/plain": [
       "<IPython.core.display.HTML object>"
      ]
     },
     "metadata": {},
     "output_type": "display_data"
    }
   ],
   "source": [
    "#Load the required packages\n",
    "from IPython.core.display import display, HTML\n",
    "display(HTML(\"<style>.container { width:90% !important; }</style>\"))\n",
    "from IPython.display import clear_output\n",
    "\n",
    "import os\n",
    "import sys\n",
    "import numpy as np\n",
    "import pandas as pd\n",
    "import seaborn as sbn\n",
    "import scanpy as sc\n",
    "import csv\n",
    "import anndata\n",
    "import PIL\n",
    "from PIL import Image\n",
    "import multiprocessing\n",
    "from multiprocessing.pool import ThreadPool\n",
    "from collections import Counter\n",
    "\n",
    "import matplotlib as mpl\n",
    "import matplotlib.pyplot as plt\n",
    "from matplotlib.gridspec import GridSpec\n",
    "from matplotlib.ticker import FormatStrFormatter\n",
    "from matplotlib.ticker import MaxNLocator\n",
    "from matplotlib.colors import LinearSegmentedColormap\n",
    "\n",
    "import warnings\n",
    "warnings.filterwarnings(\"ignore\")"
   ]
  },
  {
   "cell_type": "markdown",
   "metadata": {},
   "source": [
    "# Define custom functions"
   ]
  },
  {
   "cell_type": "code",
   "execution_count": 3,
   "metadata": {
    "ExecuteTime": {
     "end_time": "2023-04-06T09:04:21.252496Z",
     "start_time": "2023-04-06T09:04:21.244432Z"
    }
   },
   "outputs": [],
   "source": [
    "#Define function to generate a plot with multiple subplots\n",
    "def initialize_subplots(groups_to_plot, ncols = 3, figsize_multiplier = (7,5), gridspec_kw = None, figsize = None, print_help = True, **fig_kw):\n",
    "    if type(groups_to_plot)==list:\n",
    "        total = len(groups_to_plot)\n",
    "    else:\n",
    "        total = groups_to_plot\n",
    "    nrows = int(np.ceil(total/ncols))\n",
    "    if not figsize:\n",
    "        figsize = (figsize_multiplier[0]*ncols, figsize_multiplier[1]*nrows)\n",
    "    fig, axes = plt.subplots(nrows = nrows, ncols = ncols, figsize = figsize, gridspec_kw = gridspec_kw, **fig_kw)\n",
    "    if print_help:\n",
    "        if nrows>1 and ncols>1:\n",
    "            print('ax = axes[ix // ncols, ix % ncols]')\n",
    "        else:\n",
    "            print('ax = axes[ix]')\n",
    "    return fig, axes"
   ]
  },
  {
   "cell_type": "code",
   "execution_count": 4,
   "metadata": {
    "ExecuteTime": {
     "end_time": "2023-04-06T09:04:21.270889Z",
     "start_time": "2023-04-06T09:04:21.265512Z"
    }
   },
   "outputs": [],
   "source": [
    "#Define function to remove axis elements from subplots\n",
    "#axes can either be an individual subplot, a list of individual subplots or mix of multiple subplots in a nested list \n",
    "def clean_axis(axes, remove_borders = True, remove_ticks = True, remove_axis_labels = True):\n",
    "    axes = flatten_list(axes)\n",
    "    print(axes)\n",
    "    for ax in axes:\n",
    "        if remove_borders:\n",
    "            for loc in ['left','right','top','bottom']:\n",
    "                ax.spines[loc].set_visible(False)\n",
    "        if remove_ticks:\n",
    "            for side in ['x','y']:\n",
    "                ax.tick_params(\n",
    "                    axis=side,  \n",
    "                    which='both',\n",
    "                    bottom=False, \n",
    "                    top=False, \n",
    "                    left=False,\n",
    "                    labelbottom=False,\n",
    "                    labelleft=False,\n",
    "                    labeltop = False)\n",
    "        if remove_axis_labels:\n",
    "            ax.set_ylabel('')\n",
    "            ax.set_xlabel('')"
   ]
  },
  {
   "cell_type": "code",
   "execution_count": 5,
   "metadata": {
    "ExecuteTime": {
     "end_time": "2023-04-06T09:04:21.290455Z",
     "start_time": "2023-04-06T09:04:21.285206Z"
    }
   },
   "outputs": [],
   "source": [
    "#Define function to make a flat, iteratable list out of a single element or a nested list\n",
    "def flatten_list(lst):\n",
    "    if type(lst)==np.ndarray:\n",
    "        lst = lst.tolist()\n",
    "    if type(lst)!=list:\n",
    "        lst = [lst]\n",
    "    elif len(lst)==1:\n",
    "        lst = lst[0]\n",
    "    elif not all([type(l)==list for l in lst]):\n",
    "        lst = [[l] if type(l)!=list else l for l in lst]\n",
    "        lst = [l for sublist in lst for l in sublist]\n",
    "    else:\n",
    "        lst = [l for sublist in lst for l in sublist]        \n",
    "    return lst"
   ]
  },
  {
   "cell_type": "code",
   "execution_count": 6,
   "metadata": {
    "ExecuteTime": {
     "end_time": "2023-04-06T09:04:21.318156Z",
     "start_time": "2023-04-06T09:04:21.304149Z"
    }
   },
   "outputs": [],
   "source": [
    "#Define function to generate a tailor-made violinplot for online tool\n",
    "def violinplot(gene, path = None, cells = None,title=None):\n",
    "    mpl.rcParams['axes.linewidth']=0.25\n",
    "    mult = 0.39      \n",
    "    fig = plt.figure(constrained_layout=True, figsize = (14*mult,10*mult))\n",
    "    fig.patch.set_facecolor('white')\n",
    "\n",
    "    gs = GridSpec(4, 1, figure=fig, height_ratios = [2.5,2.5,2.5,2.5])\n",
    "    ax0 = fig.add_subplot(gs[0, :])\n",
    "    ax1 = fig.add_subplot(gs[1, :])\n",
    "    ax2 = fig.add_subplot(gs[2, :])\n",
    "    ax3 = fig.add_subplot(gs[3, :])\n",
    "\n",
    "    df = adata.obs[[row, col]].copy()\n",
    "    df[gene] = adata[:, gene].layers['normalized'].flatten()\n",
    "    cmap = {cl: adata.uns[col+'_colors'][ix] for ix, cl in enumerate(adata.obs[col].cat.categories)}\n",
    "\n",
    "    sbn.violinplot(data = df[df[row]=='E12.5'], x = col, y = gene, order=cluster_order, palette = cmap, ax = ax0, inner = None, cut = 0, scale = 'width',linewidth = 0.5)\n",
    "    ax0.set_ylabel('E12.5\\ncells',fontsize=8)\n",
    "    ax0.set_xlabel('')\n",
    "    sbn.violinplot(data = df[df[row]=='E13.5'], x = col, y = gene, order=cluster_order, palette = cmap, ax = ax1, inner = None, cut = 0, scale = 'width',linewidth = 0.5)\n",
    "    ax1.set_ylabel('E13.5\\ncells',fontsize=8)\n",
    "    ax1.set_xlabel('')\n",
    "    sbn.violinplot(data = df[df[row]=='E14.5'], x = col, y = gene, order=cluster_order, palette = cmap, ax = ax2, inner = None, cut = 0, scale = 'width',linewidth = 0.5)\n",
    "    ax2.set_ylabel('E14.5\\ncells',fontsize=8)\n",
    "    ax2.set_xlabel('')\n",
    "    sbn.violinplot(data = df, x = col, y = gene, order=cluster_order, palette = cmap, ax = ax3, inner = None, cut = 0, scale = 'width',linewidth = 0.5)\n",
    "    ax3.set_ylabel('All\\ncells',fontsize=8)\n",
    "    ax3.set_xlabel('')\n",
    "    ax3.set_xticklabels(ax3.get_xticklabels(), rotation=45,fontsize=8,ha = 'right')\n",
    "\n",
    "    for ax_ in [ax0, ax1, ax2]:\n",
    "        ax_.set_xticklabels([])\n",
    "        ax_.set_xlabel('')\n",
    "    for ax_ in [ax0, ax1, ax2, ax3]:\n",
    "        ax_.yaxis.set_major_formatter(FormatStrFormatter('%.1f'))\n",
    "        ax_.yaxis.set_major_locator(MaxNLocator(nbins = 2, integer = False))\n",
    "\n",
    "        [ax_.axvline(border+0.5, ls = ':', c = 'lightgray') for border in group_borders]\n",
    "\n",
    "    fig.suptitle(title,ha='center',weight='bold',fontsize='xx-large')\n",
    "    ax0.set_title(gene,weight='semibold')\n",
    "    \n",
    "    #dpi can be adjusted based on the required quality of the saved figure\n",
    "    fig.savefig(os.path.join(path, '{}_Plot1_{}.png'.format(cells, gene)), transparent = False, bbox_inches = 'tight', dpi = 100)  \n",
    "    plt.close(fig)"
   ]
  },
  {
   "cell_type": "code",
   "execution_count": 7,
   "metadata": {
    "ExecuteTime": {
     "end_time": "2023-04-06T09:04:21.546383Z",
     "start_time": "2023-04-06T09:04:21.528729Z"
    }
   },
   "outputs": [],
   "source": [
    "#Define function to generate a tailor-made dotplot for online tool\n",
    "def dotplot(gene, path = None, cells = None,x0=None,x1=None):\n",
    "    sc.settings.verbosity = 0\n",
    "    \n",
    "    plots = ['E12.5','E13.5','E14.5','All']\n",
    "    ncols = 1\n",
    "    height_multiplier = 1.2 #Main paramter to control the y-spacing between the dots\n",
    "    mult=0.39\n",
    "    fig, axes = initialize_subplots(len(plots), ncols = ncols, sharex = True,figsize = (14*mult,7.5*mult), gridspec_kw = {'hspace':-0.9}, figsize_multiplier = (5,height_multiplier), print_help = False)\n",
    "    fig.patch.set_facecolor('white')\n",
    "\n",
    "    #Get the maximum colorvalue of all timepoints combined (to make colors comparable within the dotplot)\n",
    "    df = adata.obs[[col]].copy()\n",
    "    df[gene] = adata[:, gene].X\n",
    "    #Dot color corresponds to the mean of the group (cluster)\n",
    "    vmax = df.groupby(col).mean().max()[0]\n",
    "    vmin = 0 if vmax > 0 else df.groupby(col).mean().min()[0]\n",
    "    \n",
    "    #Iterate over each timepoint\n",
    "    for ix, t in enumerate(plots):\n",
    "        ax = axes[ix]\n",
    "\n",
    "        #Make a tempotary anndata object with cells just from the selected timepoint\n",
    "        if t == 'All':\n",
    "            tmp = adata[:, gene].copy()\n",
    "        else:\n",
    "            tmp = adata[adata.obs[row]==t][:, gene].copy()\n",
    "\n",
    "            #If any cell population is missing from the timepoint, then fill in with empty gene expression\n",
    "            if len(tmp.obs[col].cat.categories) != len(adata.obs[col].cat.categories):\n",
    "                #get missing category names\n",
    "                missing = [x for x in adata.obs[col].cat.categories if x not in tmp.obs[col].value_counts().index]\n",
    "                #Make a dataframe with \"NaN\" expression for genes\n",
    "                df = pd.DataFrame([np.nan]*len(missing), columns = [gene])\n",
    "                #Convert to anndata object with missing clusters in obs\n",
    "                placeholder = anndata.AnnData(df, obs = pd.DataFrame(missing, columns = [col]))\n",
    "                #concatenate the placeholder anndata to the existing tmp object\n",
    "                tmp = sc.concat([tmp, placeholder], join = 'outer')\n",
    "        \n",
    "        sc.settings.verbosity = 0\n",
    "        #To ensure order of cell populations\n",
    "        tmp.obs[row] = tmp.obs[row].astype('category')\n",
    "        tmp.obs[col] = tmp.obs[col].astype('category')\n",
    "        tmp.obs[col] = tmp.obs[col].cat.reorder_categories(cluster_order)\n",
    "\n",
    "        #Make the dotplot using the scanpy DotPlot class (provides more options to adjust the plot)\n",
    "        dp = sc.pl.DotPlot(tmp, var_names = gene, groupby = col, vmin = vmin, vmax = vmax, ax = ax)\n",
    "\n",
    "        dp = dp.style(\n",
    "            cmap='Blues',\n",
    "            dot_max=1, #Have consistent values for dot with highest expression\n",
    "            dot_min=0, #Have consistent values for dot with lowest expression\n",
    "            x_padding=1, #Extra space added for the x-axis to make it look nicer\n",
    "            y_padding=0,\n",
    "            dot_edge_lw=0.1,\n",
    "            )\n",
    "\n",
    "        dp.legend(show = False)\n",
    "        #Swap axes to have clusters on the x-axis\n",
    "        dp.swap_axes()       \n",
    "        #Get the actual dotplot axis\n",
    "        ax_ = dp.get_axes()['mainplot_ax']\n",
    "\n",
    "        #Remove tickmarks from all but last\n",
    "        if ix != len(plots)-1:\n",
    "            ax_.set_xticklabels([])\n",
    "            ax_.set_xticks([])\n",
    "        else:\n",
    "            ax_.set_xticklabels([x.get_text().split(' [')[0] for x in ax_.get_xticklabels()], rotation = 45, ha = 'right',fontsize=8)\n",
    "\n",
    "        if ix == 0:\n",
    "            ax_.spines['bottom'].set_visible(False)\n",
    "            ax_.spines['bottom'].set_linewidth(0.25)\n",
    "            #Optional: Add gene name as the title of first plot\n",
    "            #ax_.set_title(gene)\n",
    "        elif ix == len(plots)-1:\n",
    "            ax_.spines['top'].set_visible(False)\n",
    "            ax_.spines['top'].set_linewidth(0.25)\n",
    "        else:\n",
    "            [ax_.spines[spine].set_visible(False) for spine in ['top', 'bottom']]\n",
    "            [ax_.spines[spine].set_linewidth(0.25) for spine in ['top', 'bottom']]\n",
    "\n",
    "        #Set embryonic age as yticklabel\n",
    "        ax_.set_yticklabels([(t+' cells') if t!='All' else 'All cells'])\n",
    "\n",
    "        #Add divider lines between groups of cell populations\n",
    "        [ax_.axvline(border+1, ls = ':', c = 'lightgray') for border in group_borders]\n",
    "\n",
    "        plt.gca()\n",
    "        plt.subplots_adjust(top = 1.6, bottom = 0, right = 1, left = 0)\n",
    "        plt.margins(0,0)\n",
    "        clear_output()\n",
    "\n",
    "    #Remove white space around the actual plot\n",
    "    fig.canvas.draw()\n",
    "\n",
    "    #Adjust the area for saving (manual optimization of x0, x1, y0, y1, so nothing is cut off)\n",
    "    x0 = x0\n",
    "    x1 = x1\n",
    "    y0,y1 = -0.3, (len(plots)*height_multiplier/10)+0.03\n",
    "    bbox = mpl.transforms.Bbox([[x0,y0],[x1,y1]])\n",
    "    bbox = bbox.transformed(ax.transData).transformed(fig.dpi_scale_trans.inverted())\n",
    "\n",
    "    #dpi can be adjusted based on the required quality of the saved figure\n",
    "    fig.savefig(os.path.join(path, '{}_Plot2_{}.png'.format(cells, gene)), transparent = False, bbox_inches = bbox, pad_inches = None, dpi = 100)\n",
    "    plt.close(fig)"
   ]
  },
  {
   "cell_type": "code",
   "execution_count": 8,
   "metadata": {
    "ExecuteTime": {
     "end_time": "2023-04-06T09:04:22.365609Z",
     "start_time": "2023-04-06T09:04:22.353855Z"
    }
   },
   "outputs": [],
   "source": [
    "#Define function to generate a tailor-made umapplot for online tool\n",
    "def umapplot(gene, path = None, cells = None):\n",
    "    mpl.rcParams['axes.linewidth']=0.25\n",
    "    mult = 0.39      \n",
    "    fig = plt.figure(constrained_layout=True, figsize = (14*mult,4*mult))\n",
    "    fig.patch.set_facecolor('white')\n",
    "\n",
    "    gs = GridSpec(1, 4, figure=fig)\n",
    "    ax4 = fig.add_subplot(gs[-1, 0])\n",
    "    ax5 = fig.add_subplot(gs[-1, 1])\n",
    "    ax6 = fig.add_subplot(gs[-1, 2])\n",
    "    ax7 = fig.add_subplot(gs[-1, 3])\n",
    "\n",
    "    vmax = float(adata[:, gene].layers['normalized'].max())\n",
    "    maxcount = round(float(adata[:, gene].layers['raw'].max()))\n",
    "\n",
    "    for ix, E in enumerate(adata.obs[row].cat.categories):\n",
    "        ax_ = [ax4, ax5, ax6][ix]\n",
    "        sc.pl.umap(adata, ax = ax_, show = False, frameon = True, s = 10, title = '', alpha = 0.6)\n",
    "        sc.pl.umap(adata[adata.obs[row]==E], color =gene, vmax=vmax, \n",
    "                layer='normalized', ax = ax_, show = False, \n",
    "                frameon = True, s = 10, title = '', alpha = 1, color_map=plt.cm.viridis)\n",
    "        ax_.set_title(f'\\n {E} cells only \\n',fontsize=8)\n",
    "        ax_.collections[-1].colorbar.remove() \n",
    "\n",
    "    vmax = np.ceil(vmax)\n",
    "    sc.pl.umap(adata, color =gene, vmax=vmax, layer='normalized', ax = ax7, \n",
    "               show = False, frameon = True, s = 10, title = '', alpha = 1, color_map=plt.cm.viridis)\n",
    "    ax7.set_title('All cells\\n',fontsize=8)\n",
    "\n",
    "    ax_fontsize = 7\n",
    "    ax4.set_xlabel(ax4.get_xlabel(), fontsize = ax_fontsize, loc = 'left')\n",
    "    ax4.set_ylabel(ax4.get_ylabel(), fontsize = ax_fontsize, loc = 'bottom')\n",
    "\n",
    "    [ax_.set_xlabel('') for ax_ in [ax5, ax6, ax7]]\n",
    "    [ax_.set_ylabel('') for ax_ in [ax5, ax6, ax7]]\n",
    "    ax7.set_xlabel(f'[Max. mRNA copies\\nper cell: {maxcount}]',fontsize = 8)\n",
    "\n",
    "    cbar = ax7.collections[0].colorbar\n",
    "    cbar.ax.yaxis.set_major_locator(MaxNLocator(nbins = 2, integer = True, min_n_ticks = 3))\n",
    "    cbar.ax.tick_params(labelsize=6)\n",
    "\n",
    "    #dpi can be adjusted based on the required quality of the saved figure\n",
    "    fig.savefig(os.path.join(path, '{}_Plot3_{}.png'.format(cells, gene)), transparent = False, bbox_inches = 'tight', dpi = 100)  \n",
    "    plt.close(fig)"
   ]
  },
  {
   "cell_type": "code",
   "execution_count": 9,
   "metadata": {
    "ExecuteTime": {
     "end_time": "2023-04-06T09:04:23.308159Z",
     "start_time": "2023-04-06T09:04:23.302821Z"
    }
   },
   "outputs": [],
   "source": [
    "#Define function that concatenates all 3 plots for each gene (violinplot, dotplot, umapplot) vertically\n",
    "def plotconcatenate(gene, path = None, cells = None):\n",
    "    #Read in all plots that were generated for a particular gene (Plot1, Plot2, Plot3 in our case) in the folder of a particular cell type (All, FIB, or EPI)\n",
    "    list_im = [os.path.join(path, '{}_Plot{}_{}.png'.format(cells, i, gene)) for i in range(1,4)]\n",
    "    imgs    = [ Image.open(i) for i in list_im ]\n",
    "    #Pick the image which is the smallest, and resize the others to match it (can be arbitrary image shape here)\n",
    "    min_shape = sorted([i.size[0] for i in imgs])[0]\n",
    "    imgs_comb = np.vstack([i.resize((min_shape,i.size[1])) for i in imgs])\n",
    "    #Combine into one image\n",
    "    imgs_comb = Image.fromarray( imgs_comb)\n",
    "    imgs_comb.save(os.path.join(path, 'Combined', '{}_Assembled-Plots_{}.png'.format(cells, gene)), transparent = False)"
   ]
  },
  {
   "cell_type": "markdown",
   "metadata": {},
   "source": [
    "# Universal settings"
   ]
  },
  {
   "cell_type": "code",
   "execution_count": 10,
   "metadata": {
    "ExecuteTime": {
     "end_time": "2023-04-06T09:04:24.535175Z",
     "start_time": "2023-04-06T09:04:24.532237Z"
    }
   },
   "outputs": [],
   "source": [
    "#Set path\n",
    "path = '/mnt/c/Users/User/Jacob-Et-Al'\n",
    "\n",
    "#Required folder structure:\n",
    "#One output folders named \"Tool-Figures\"\n",
    "#Under \"Tool-Figures\", sub-folders named \"All\",\"FIB\",\"EPI\",\"Combined\"\n",
    "#In 3 of the sub-folders (All, FIB, EPI) generate another sub-folder named \"Combined\""
   ]
  },
  {
   "cell_type": "code",
   "execution_count": 11,
   "metadata": {
    "ExecuteTime": {
     "end_time": "2023-04-06T09:04:24.735327Z",
     "start_time": "2023-04-06T09:04:24.731142Z"
    }
   },
   "outputs": [],
   "source": [
    "#Define color map\n",
    "colors = [(0.8, 0.8, 0.8), (0.19, 0.04, 0.55)] # first color is grey, last is dark purple\n",
    "cm = LinearSegmentedColormap.from_list(\"Custom\", colors, N=200)"
   ]
  },
  {
   "cell_type": "code",
   "execution_count": 12,
   "metadata": {
    "ExecuteTime": {
     "end_time": "2023-04-06T09:04:25.179936Z",
     "start_time": "2023-04-06T09:04:25.176928Z"
    }
   },
   "outputs": [],
   "source": [
    "#Define the metadata item to divide by (in our case we only used \"embryonic age\")\n",
    "row = 'embryonic_age'"
   ]
  },
  {
   "cell_type": "markdown",
   "metadata": {},
   "source": [
    "# Major cell types"
   ]
  },
  {
   "cell_type": "markdown",
   "metadata": {},
   "source": [
    "## Import data and adjust settings"
   ]
  },
  {
   "cell_type": "code",
   "execution_count": 13,
   "metadata": {
    "ExecuteTime": {
     "end_time": "2023-04-06T09:04:29.866791Z",
     "start_time": "2023-04-06T09:04:29.863623Z"
    }
   },
   "outputs": [],
   "source": [
    "#Define which cells will be plotted (in this section: Major Cell Types)\n",
    "cells='All'"
   ]
  },
  {
   "cell_type": "code",
   "execution_count": 14,
   "metadata": {
    "ExecuteTime": {
     "end_time": "2023-04-06T09:04:43.476215Z",
     "start_time": "2023-04-06T09:04:30.148299Z"
    }
   },
   "outputs": [],
   "source": [
    "#Load h5 dataset with all required information (clustering, umap coordinates, expression values, etc.)\n",
    "adata = sc.read_h5ad(os.path.join(path, 'Notebook-Output','Adata-object_All.h5'))"
   ]
  },
  {
   "cell_type": "code",
   "execution_count": 15,
   "metadata": {
    "ExecuteTime": {
     "end_time": "2023-04-06T09:04:43.511337Z",
     "start_time": "2023-04-06T09:04:43.507260Z"
    }
   },
   "outputs": [],
   "source": [
    "#Define which clustering to use and how to order cell populations in plots (from left to right)\n",
    "col = 'HC_named'\n",
    "cluster_order = ['FIB','EPI','MUSCLE Early','MUSCLE Mid','MUSCLE Late','VESSEL BECs','VESSEL LECs','VESSEL MuralCells','IMMU DendriticCells','IMMU Macrophages','IMMU MastCells','NC Melanocytes','NC SchwannCells']\n",
    "#Define between which clusters to draw dotted lines (for easier navigation within the plot)\n",
    "group_borders = [0,1,4,7,10] \n",
    "#Define dimensions of dotplot bbox (required some playing around to find ideal values)\n",
    "x0=-0.135\n",
    "x1=0.975\n",
    "#Define title for plots\n",
    "title='All Cell Types (First-Level-Clustering)'"
   ]
  },
  {
   "cell_type": "markdown",
   "metadata": {
    "ExecuteTime": {
     "end_time": "2023-04-03T18:34:14.364202Z",
     "start_time": "2023-04-03T18:34:14.328410Z"
    }
   },
   "source": [
    "## Define functions (that need to be re-defined for each cell type)"
   ]
  },
  {
   "cell_type": "code",
   "execution_count": 16,
   "metadata": {
    "ExecuteTime": {
     "end_time": "2023-04-06T09:04:43.545321Z",
     "start_time": "2023-04-06T09:04:43.539278Z"
    }
   },
   "outputs": [],
   "source": [
    "#Define function that generates all 3 plots for each gene (violinplot, dotplot, umapplot)\n",
    "def plotting_wrapper(gene,cells=cells):\n",
    "    global ix\n",
    "    global path\n",
    "    print(gene, flush = True)\n",
    "    print(ix+1, flush = True)\n",
    "    ix+=1\n",
    "    clear_output(wait = True)\n",
    "    outpath = os.path.join(path, 'Tool-Figures', cells)\n",
    "    try:\n",
    "        violinplot(gene, path = outpath, cells = cells,title=title)\n",
    "        dotplot(gene, path = outpath, cells = cells,x0=x0,x1=x1)\n",
    "        umapplot(gene, path = outpath, cells = cells)\n",
    "    except:\n",
    "        print(f'Error: {gene}', flush = True)"
   ]
  },
  {
   "cell_type": "code",
   "execution_count": 17,
   "metadata": {
    "ExecuteTime": {
     "end_time": "2023-04-06T09:04:43.578523Z",
     "start_time": "2023-04-06T09:04:43.575303Z"
    }
   },
   "outputs": [],
   "source": [
    "#Small function that helps running plotconcatenate with multicoreprocessing\n",
    "def concatenation(gene, path = os.path.join(path, 'Tool-Figures', cells), cells=cells):\n",
    "    plotconcatenate(gene, path = path, cells = cells)"
   ]
  },
  {
   "cell_type": "markdown",
   "metadata": {},
   "source": [
    "## Generate individual plots"
   ]
  },
  {
   "cell_type": "code",
   "execution_count": null,
   "metadata": {
    "ExecuteTime": {
     "start_time": "2023-04-05T19:19:47.420Z"
    }
   },
   "outputs": [],
   "source": [
    "#Generate plots for all genes with the help of the plotting_wrapper function\n",
    "#Number of cores can be adjusted based on computing power\n",
    "chunk = 1000\n",
    "ix = 0\n",
    "for i in range(0, len(adata.var_names), chunk):\n",
    "    print(i)\n",
    "    pool = multiprocessing.Pool(processes=5)\n",
    "    pool.imap(plotting_wrapper, adata.var_names[i:i+chunk])\n",
    "    pool.close()\n",
    "    pool.join()\n",
    "print('Done')"
   ]
  },
  {
   "cell_type": "code",
   "execution_count": null,
   "metadata": {
    "ExecuteTime": {
     "start_time": "2023-04-05T19:19:47.422Z"
    }
   },
   "outputs": [],
   "source": [
    "#Check which/how many genes have already been plotted\n",
    "filelist=os.listdir(os.path.join(path, 'Tool-Figures', cells))\n",
    "completed_genes=list([x.split('_')[-1].split('.pn')[0] for x in filelist if x != 'Combined']) \n",
    "genes = [g for g, v in Counter(completed_genes).items() if v < 3]\n",
    "for g in genes:\n",
    "    print(f'{g}: {Counter(completed_genes)[g]}')"
   ]
  },
  {
   "cell_type": "code",
   "execution_count": null,
   "metadata": {
    "ExecuteTime": {
     "start_time": "2023-04-05T19:19:47.425Z"
    }
   },
   "outputs": [],
   "source": [
    "#Rerun plotting_wrapper for genes not yet completed\n",
    "chunk = 1000\n",
    "ix = 0\n",
    "genes = [g for g in adata.var_names if any([g not in completed_genes, g in genes])]\n",
    "for i in range(0, len(genes), chunk):\n",
    "    print(i)\n",
    "    pool = multiprocessing.Pool(processes=5)\n",
    "    pool.imap(plotting_wrapper, genes[i:i+chunk])\n",
    "    pool.close()\n",
    "    pool.join()\n",
    "print('Done')"
   ]
  },
  {
   "cell_type": "code",
   "execution_count": null,
   "metadata": {
    "ExecuteTime": {
     "start_time": "2023-04-05T19:19:47.427Z"
    }
   },
   "outputs": [],
   "source": [
    "#Check once more which/how many genes have already been plotted\n",
    "filelist = os.listdir(os.path.join(path, 'Tool-Figures', cells))\n",
    "completed_genes = list([x.split('_')[-1].split('.pn')[0] for x in filelist if x != 'Combined'])\n",
    "genes = [g for g, v in Counter(completed_genes).items() if v < 3]\n",
    "for g in genes:\n",
    "    print(f'{g}: {Counter(completed_genes)[g]}')"
   ]
  },
  {
   "cell_type": "code",
   "execution_count": null,
   "metadata": {
    "ExecuteTime": {
     "start_time": "2023-04-05T19:19:47.429Z"
    }
   },
   "outputs": [],
   "source": [
    "#Show the number of completed genes\n",
    "len(completed_genes)/3"
   ]
  },
  {
   "cell_type": "code",
   "execution_count": null,
   "metadata": {
    "ExecuteTime": {
     "start_time": "2023-04-05T19:19:47.433Z"
    }
   },
   "outputs": [],
   "source": [
    "#Show the content of the anndata object to see how many genes there are (19994 in our case)\n",
    "adata"
   ]
  },
  {
   "cell_type": "markdown",
   "metadata": {},
   "source": [
    "## Combine 3 plots into 1"
   ]
  },
  {
   "cell_type": "code",
   "execution_count": 18,
   "metadata": {
    "ExecuteTime": {
     "end_time": "2023-04-06T09:04:47.800612Z",
     "start_time": "2023-04-06T09:04:47.668561Z"
    }
   },
   "outputs": [],
   "source": [
    "#Concatenate violinplot, dotplot, and umapplot. Do so for each gene.\n",
    "pool = ThreadPool(500)\n",
    "pool.imap_unordered(concatenation, adata.var_names)\n",
    "pool.close()"
   ]
  },
  {
   "cell_type": "markdown",
   "metadata": {},
   "source": [
    "# Fibroblasts"
   ]
  },
  {
   "cell_type": "markdown",
   "metadata": {},
   "source": [
    "## Import data and adjust settings"
   ]
  },
  {
   "cell_type": "code",
   "execution_count": null,
   "metadata": {
    "ExecuteTime": {
     "start_time": "2023-04-05T19:19:47.441Z"
    }
   },
   "outputs": [],
   "source": [
    "#Define which cells will be plotted (in this section: Fibroblasts)\n",
    "cells='FIB'"
   ]
  },
  {
   "cell_type": "code",
   "execution_count": null,
   "metadata": {
    "ExecuteTime": {
     "start_time": "2023-04-05T19:19:47.446Z"
    }
   },
   "outputs": [],
   "source": [
    "#Load h5 dataset with all required information (clustering, umap coordinates, expression values, etc.)\n",
    "adata = sc.read_h5ad(os.path.join(path, 'Notebook-Output','Adata-object_FIB.h5'))"
   ]
  },
  {
   "cell_type": "code",
   "execution_count": null,
   "metadata": {
    "ExecuteTime": {
     "start_time": "2023-04-05T19:19:47.449Z"
    }
   },
   "outputs": [],
   "source": [
    "#Define which clustering to use and how to order cell populations in plots (from left to right)\n",
    "col = 'leiden_named_DCsub'\n",
    "cluster_order = ['FIB Origin1','FIB Origin2','FIB Origin3','FIB Origin4','FIB Origin5','FIB Origin6','FIB Deep1','FIB Deep2','FIB Deep3','FIB Inter1','FIB Inter2','FIB Inter3','FIB Muscle1','FIB Muscle2','FIB Lower','FIB Upper1','FIB Upper2','FIB Upper3','FIB Upper4','FIB EarlyDC','FIB LateDC','CHOND']\n",
    "#Define between which clusters to draw dotted lines (for easier navigation within the plot)\n",
    "group_borders = [5, 8,11,13,14,18,20] \n",
    "#Define dimensions of dotplot bbox (required some playing around to find ideal values)\n",
    "x0=-0.135\n",
    "x1=0.975\n",
    "#Define title for plots\n",
    "title='Fibroblast Subpopulations'"
   ]
  },
  {
   "cell_type": "markdown",
   "metadata": {
    "ExecuteTime": {
     "end_time": "2023-04-03T18:34:14.364202Z",
     "start_time": "2023-04-03T18:34:14.328410Z"
    }
   },
   "source": [
    "## Define functions (that need to be re-defined for each cell type)"
   ]
  },
  {
   "cell_type": "code",
   "execution_count": null,
   "metadata": {
    "ExecuteTime": {
     "start_time": "2023-04-05T19:19:47.452Z"
    }
   },
   "outputs": [],
   "source": [
    "#Define function that generates all 3 plots for each gene (violinplot, dotplot, umapplot)\n",
    "def plotting_wrapper(gene,cells=cells):\n",
    "    global ix\n",
    "    global path\n",
    "    print(gene, flush = True)\n",
    "    print(ix+1, flush = True)\n",
    "    ix+=1\n",
    "    clear_output(wait = True)\n",
    "    outpath = os.path.join(path, 'Tool-Figures', cells)\n",
    "    try:\n",
    "        violinplot(gene, path = outpath, cells = cells,title=title)\n",
    "        dotplot(gene, path = outpath, cells = cells,x0=x0,x1=x1)\n",
    "        umapplot(gene, path = outpath, cells = cells)\n",
    "    except:\n",
    "        print(f'Error: {gene}', flush = True)"
   ]
  },
  {
   "cell_type": "code",
   "execution_count": null,
   "metadata": {
    "ExecuteTime": {
     "start_time": "2023-04-05T19:19:47.455Z"
    }
   },
   "outputs": [],
   "source": [
    "#Small function that helps running plotconcatenate with multicoreprocessing (define for each cell-type)\n",
    "def concatenation(gene, path = os.path.join(path, 'Tool-Figures', cells), cells=cells):\n",
    "    plotconcatenate(gene, path = path, cells = cells)"
   ]
  },
  {
   "cell_type": "markdown",
   "metadata": {},
   "source": [
    "## Generate individual plots"
   ]
  },
  {
   "cell_type": "code",
   "execution_count": null,
   "metadata": {
    "ExecuteTime": {
     "start_time": "2023-04-05T19:19:47.458Z"
    }
   },
   "outputs": [],
   "source": [
    "#Generate plots for all genes with the help of the plotting_wrapper function\n",
    "#Number of cores can be adjusted based on computing power\n",
    "chunk = 1000\n",
    "ix = 0\n",
    "for i in range(0, len(adata.var_names), chunk):\n",
    "    print(i)\n",
    "    pool = multiprocessing.Pool(processes=5)\n",
    "    pool.imap(plotting_wrapper, adata.var_names[i:i+chunk])\n",
    "    pool.close()\n",
    "    pool.join()\n",
    "print('Done')"
   ]
  },
  {
   "cell_type": "code",
   "execution_count": null,
   "metadata": {
    "ExecuteTime": {
     "start_time": "2023-04-05T19:19:47.461Z"
    }
   },
   "outputs": [],
   "source": [
    "#Check which/how many genes have already been plotted\n",
    "filelist=os.listdir(os.path.join(path, 'Tool-Figures', cells))\n",
    "completed_genes=list([x.split('_')[-1].split('.pn')[0] for x in filelist if x != 'Combined']) \n",
    "genes = [g for g, v in Counter(completed_genes).items() if v < 3]\n",
    "for g in genes:\n",
    "    print(f'{g}: {Counter(completed_genes)[g]}')"
   ]
  },
  {
   "cell_type": "code",
   "execution_count": null,
   "metadata": {
    "ExecuteTime": {
     "start_time": "2023-04-05T19:19:47.464Z"
    }
   },
   "outputs": [],
   "source": [
    "#Rerun plotting_wrapper for genes not yet completed\n",
    "chunk = 1000\n",
    "ix = 0\n",
    "genes = [g for g in adata.var_names if any([g not in completed_genes, g in genes])]\n",
    "for i in range(0, len(genes), chunk):\n",
    "    print(i)\n",
    "    pool = multiprocessing.Pool(processes=5)\n",
    "    pool.imap(plotting_wrapper, genes[i:i+chunk])\n",
    "    pool.close()\n",
    "    pool.join()\n",
    "print('Done')"
   ]
  },
  {
   "cell_type": "code",
   "execution_count": null,
   "metadata": {
    "ExecuteTime": {
     "start_time": "2023-04-05T19:19:47.466Z"
    }
   },
   "outputs": [],
   "source": [
    "#Check once more which/how many genes have already been plotted\n",
    "filelist = os.listdir(os.path.join(path, 'Tool-Figures', cells))\n",
    "completed_genes = list([x.split('_')[-1].split('.pn')[0] for x in filelist if x != 'Combined'])\n",
    "genes = [g for g, v in Counter(completed_genes).items() if v < 3]\n",
    "for g in genes:\n",
    "    print(f'{g}: {Counter(completed_genes)[g]}')"
   ]
  },
  {
   "cell_type": "code",
   "execution_count": null,
   "metadata": {
    "ExecuteTime": {
     "start_time": "2023-04-05T19:19:47.469Z"
    }
   },
   "outputs": [],
   "source": [
    "#Show the number of completed genes\n",
    "len(completed_genes)/3"
   ]
  },
  {
   "cell_type": "code",
   "execution_count": null,
   "metadata": {
    "ExecuteTime": {
     "start_time": "2023-04-05T19:19:47.471Z"
    }
   },
   "outputs": [],
   "source": [
    "#Show the content of the anndata object to see how many genes there are (19994 in our case)\n",
    "adata"
   ]
  },
  {
   "cell_type": "markdown",
   "metadata": {},
   "source": [
    "## Combine 3 plots into 1"
   ]
  },
  {
   "cell_type": "code",
   "execution_count": null,
   "metadata": {
    "ExecuteTime": {
     "start_time": "2023-04-05T19:19:47.474Z"
    }
   },
   "outputs": [],
   "source": [
    "#Concatenate violinplot, dotplot, and umapplot. Do so for each gene.\n",
    "pool = ThreadPool(500)\n",
    "pool.imap_unordered(concatenation, adata.var_names)\n",
    "pool.close()"
   ]
  },
  {
   "cell_type": "markdown",
   "metadata": {},
   "source": [
    "# Epidermis"
   ]
  },
  {
   "cell_type": "markdown",
   "metadata": {},
   "source": [
    "## Import data and adjust settings"
   ]
  },
  {
   "cell_type": "code",
   "execution_count": null,
   "metadata": {
    "ExecuteTime": {
     "start_time": "2023-04-05T19:19:47.478Z"
    }
   },
   "outputs": [],
   "source": [
    "#Define which cells will be plotted (in this section: Epidermis)\n",
    "cells='EPI'"
   ]
  },
  {
   "cell_type": "code",
   "execution_count": null,
   "metadata": {
    "ExecuteTime": {
     "start_time": "2023-04-05T19:19:47.481Z"
    }
   },
   "outputs": [],
   "source": [
    "#Load h5 dataset with all required information (clustering, umap coordinates, expression values, etc.)\n",
    "adata = sc.read_h5ad(os.path.join(path, 'Notebook-Output','Adata-object_EPI.h5'))"
   ]
  },
  {
   "cell_type": "code",
   "execution_count": null,
   "metadata": {
    "ExecuteTime": {
     "start_time": "2023-04-05T19:19:47.484Z"
    }
   },
   "outputs": [],
   "source": [
    "#Define which clustering to use and how to order cell populations in plots (from left to right)\n",
    "col = 'HC_named'\n",
    "cluster_order = [ 'EPI BasalTagln','EPI Basal1','EPI Basal2','EPI Basal3','EPI Basal4', 'EPI EarlyPlacode', 'EPI LatePlacode', 'EPI EarlyDiff', 'EPI LateDiff', 'EPI Periderm']\n",
    "#Define between which clusters to draw dotted lines (for easier navigation within the plot)\n",
    "group_borders = [4, 6] \n",
    "#Define dimensions of dotplot bbox (required some playing around to find ideal values)\n",
    "x0=-0.13\n",
    "x1=0.935\n",
    "#Define title for plots\n",
    "title='Epidermal Subpopulations'"
   ]
  },
  {
   "cell_type": "markdown",
   "metadata": {
    "ExecuteTime": {
     "end_time": "2023-04-03T18:34:14.364202Z",
     "start_time": "2023-04-03T18:34:14.328410Z"
    }
   },
   "source": [
    "## Define functions (that need to be re-defined for each cell type)"
   ]
  },
  {
   "cell_type": "code",
   "execution_count": null,
   "metadata": {
    "ExecuteTime": {
     "start_time": "2023-04-05T19:19:47.486Z"
    }
   },
   "outputs": [],
   "source": [
    "#Define function that generates all 3 plots for each gene (violinplot, dotplot, umapplot)\n",
    "def plotting_wrapper(gene,cells=cells):\n",
    "    global ix\n",
    "    global path\n",
    "    print(gene, flush = True)\n",
    "    print(ix+1, flush = True)\n",
    "    ix+=1\n",
    "    clear_output(wait = True)\n",
    "    outpath = os.path.join(path, 'Tool-Figures', cells)\n",
    "    try:\n",
    "        violinplot(gene, path = outpath, cells = cells,title=title)\n",
    "        dotplot(gene, path = outpath, cells = cells,x0=x0,x1=x1)\n",
    "        umapplot(gene, path = outpath, cells = cells)\n",
    "    except:\n",
    "        print(f'Error: {gene}', flush = True)"
   ]
  },
  {
   "cell_type": "code",
   "execution_count": null,
   "metadata": {
    "ExecuteTime": {
     "start_time": "2023-04-05T19:19:47.489Z"
    }
   },
   "outputs": [],
   "source": [
    "#Small function that helps running plotconcatenate with multicoreprocessing (define for each cell-type)\n",
    "def concatenation(gene, path = os.path.join(path, 'Tool-Figures', cells), cells=cells):\n",
    "    plotconcatenate(gene, path = path, cells = cells)"
   ]
  },
  {
   "cell_type": "markdown",
   "metadata": {},
   "source": [
    "## Generate individual plots"
   ]
  },
  {
   "cell_type": "code",
   "execution_count": null,
   "metadata": {
    "ExecuteTime": {
     "start_time": "2023-04-05T19:19:47.493Z"
    }
   },
   "outputs": [],
   "source": [
    "#Generate plots for all genes with the help of the plotting_wrapper function\n",
    "#Number of cores can be adjusted based on computing power\n",
    "chunk = 1000\n",
    "ix = 0\n",
    "for i in range(0, len(adata.var_names), chunk):\n",
    "    print(i)\n",
    "    pool = multiprocessing.Pool(processes=5)\n",
    "    pool.imap(plotting_wrapper, adata.var_names[i:i+chunk])\n",
    "    pool.close()\n",
    "    pool.join()\n",
    "print('Done')"
   ]
  },
  {
   "cell_type": "code",
   "execution_count": null,
   "metadata": {
    "ExecuteTime": {
     "start_time": "2023-04-05T19:19:47.495Z"
    }
   },
   "outputs": [],
   "source": [
    "#Check which/how many genes have already been plotted\n",
    "filelist=os.listdir(os.path.join(path, 'Tool-Figures', cells))\n",
    "completed_genes=list([x.split('_')[-1].split('.pn')[0] for x in filelist if x != 'Combined']) \n",
    "genes = [g for g, v in Counter(completed_genes).items() if v < 3]\n",
    "for g in genes:\n",
    "    print(f'{g}: {Counter(completed_genes)[g]}')"
   ]
  },
  {
   "cell_type": "code",
   "execution_count": null,
   "metadata": {
    "ExecuteTime": {
     "start_time": "2023-04-05T19:19:47.498Z"
    }
   },
   "outputs": [],
   "source": [
    "#Rerun plotting_wrapper for genes not yet completed\n",
    "chunk = 1000\n",
    "ix = 0\n",
    "genes = [g for g in adata.var_names if any([g not in completed_genes, g in genes])]\n",
    "for i in range(0, len(genes), chunk):\n",
    "    print(i)\n",
    "    pool = multiprocessing.Pool(processes=5)\n",
    "    pool.imap(plotting_wrapper, genes[i:i+chunk])\n",
    "    pool.close()\n",
    "    pool.join()\n",
    "print('Done')"
   ]
  },
  {
   "cell_type": "code",
   "execution_count": null,
   "metadata": {
    "ExecuteTime": {
     "start_time": "2023-04-05T19:19:47.501Z"
    }
   },
   "outputs": [],
   "source": [
    "#Check once more which/how many genes have already been plotted\n",
    "filelist = os.listdir(os.path.join(path, 'Tool-Figures', cells))\n",
    "completed_genes = list([x.split('_')[-1].split('.pn')[0] for x in filelist if x != 'Combined']) \n",
    "genes = [g for g, v in Counter(completed_genes).items() if v < 3]\n",
    "for g in genes:\n",
    "    print(f'{g}: {Counter(completed_genes)[g]}')"
   ]
  },
  {
   "cell_type": "code",
   "execution_count": null,
   "metadata": {
    "ExecuteTime": {
     "start_time": "2023-04-05T19:19:47.503Z"
    }
   },
   "outputs": [],
   "source": [
    "#Show the number of completed genes\n",
    "len(completed_genes)/3"
   ]
  },
  {
   "cell_type": "code",
   "execution_count": null,
   "metadata": {
    "ExecuteTime": {
     "start_time": "2023-04-05T19:19:47.508Z"
    }
   },
   "outputs": [],
   "source": [
    "#Show the content of the anndata object to see how many genes there are (19994 in our case)\n",
    "adata"
   ]
  },
  {
   "cell_type": "markdown",
   "metadata": {},
   "source": [
    "## Combine 3 plots into 1"
   ]
  },
  {
   "cell_type": "code",
   "execution_count": null,
   "metadata": {
    "ExecuteTime": {
     "start_time": "2023-04-05T19:19:47.511Z"
    }
   },
   "outputs": [],
   "source": [
    "#Concatenate violinplot, dotplot, and umapplot. Do so for each gene.\n",
    "pool = ThreadPool(500)\n",
    "pool.imap_unordered(concatenation, adata.var_names)\n",
    "pool.close()"
   ]
  },
  {
   "cell_type": "markdown",
   "metadata": {},
   "source": [
    "# Assemble combined Major Cell Types, FIB, and EPI plots into one item"
   ]
  },
  {
   "cell_type": "code",
   "execution_count": null,
   "metadata": {
    "ExecuteTime": {
     "start_time": "2023-04-05T19:19:47.514Z"
    }
   },
   "outputs": [],
   "source": [
    "#Generate a white spaceholder to have a bit more room between the 3 assembled items\n",
    "fig, ax = plt.subplots(figsize = (71.7, 8))\n",
    "fig.patch.set_facecolor('white')\n",
    "clean_axis(ax)\n",
    "fig.savefig(os.path.join(path, 'Tool-Figures', 'Spaceholder.png'), transparent = False, bbox_inches = 'tight', dpi = 10)"
   ]
  },
  {
   "cell_type": "code",
   "execution_count": null,
   "metadata": {
    "ExecuteTime": {
     "start_time": "2023-04-05T19:19:47.517Z"
    }
   },
   "outputs": [],
   "source": [
    "#Define function that concatenates all 3 combined items for each gene (Major Cell Types, FIB, and EPI) vertically\n",
    "def final_plotconcatenate(gene, path = None):\n",
    "    #From \"Combined\" subfolder in \"All\", \"FIB\", \"EPI\" folder read in assembled item for gene of interest\n",
    "    list_im = [os.path.join(path, cell_type, 'Combined', '{}_Assembled-Plots_{}.png'.format(cell_type, gene)) for cell_type in ['All','FIB','EPI']]+[os.path.join(path, 'Spaceholder.png')]\n",
    "    #Define order in which items should be concatenated (this is also where the spaceholder is added)\n",
    "    list_im = [list_im[i] for i in [0,3,1,3,2]]\n",
    "    imgs    = [ Image.open(i) for i in list_im ]\n",
    "    #Pick the image which is the smallest, and resize the others to match it (can be arbitrary image shape here)\n",
    "    min_shape = sorted([i.size[0] for i in imgs])[0] #Maybe something gets messed up here? While resizing the images? I guess this is quite possible for the sqeezing in y. But then we also need to move the dotplot right so it is right aligned with the violin plot\n",
    "    imgs_comb = np.vstack([i.resize((min_shape,i.size[1])) for i in imgs])\n",
    "    #Combine into one image\n",
    "    imgs_comb = Image.fromarray( imgs_comb)\n",
    "    imgs_comb.save(os.path.join(path,'Combined', '{}.png'.format(gene)), transparent = False)"
   ]
  },
  {
   "cell_type": "code",
   "execution_count": null,
   "metadata": {
    "ExecuteTime": {
     "start_time": "2023-04-05T19:19:47.520Z"
    }
   },
   "outputs": [],
   "source": [
    "#Small function that helps running final_plotconcatenate with multicoreprocessing\n",
    "def final_concatenation(gene, path = os.path.join(path, 'Tool-Figures')):\n",
    "    final_plotconcatenate(gene, path = path)"
   ]
  },
  {
   "cell_type": "code",
   "execution_count": null,
   "metadata": {
    "ExecuteTime": {
     "start_time": "2023-04-05T19:19:47.522Z"
    }
   },
   "outputs": [],
   "source": [
    "#Concatenate combined plots (Major Cell Types, FIB, EPI) into one. Do so for each gene.\n",
    "pool = ThreadPool(500)\n",
    "pool.imap_unordered(final_concatenation, adata.var_names)\n",
    "pool.close()"
   ]
  },
  {
   "cell_type": "code",
   "execution_count": null,
   "metadata": {
    "ExecuteTime": {
     "start_time": "2023-04-05T19:19:47.525Z"
    }
   },
   "outputs": [],
   "source": [
    "#Check which/how many genes have already been plotted\n",
    "filelist = os.listdir(os.path.join(path, 'Tool-Figures', 'Combined'))\n",
    "completed_genes = list([x.split('.pn')[0] for x in filelist]) "
   ]
  },
  {
   "cell_type": "code",
   "execution_count": null,
   "metadata": {
    "ExecuteTime": {
     "start_time": "2023-04-05T19:19:47.528Z"
    }
   },
   "outputs": [],
   "source": [
    "#Show the number of completed genes\n",
    "print(len(completed_genes))"
   ]
  }
 ],
 "metadata": {
  "kernelspec": {
   "display_name": "Python 3",
   "language": "python",
   "name": "python3"
  },
  "language_info": {
   "codemirror_mode": {
    "name": "ipython",
    "version": 3
   },
   "file_extension": ".py",
   "mimetype": "text/x-python",
   "name": "python",
   "nbconvert_exporter": "python",
   "pygments_lexer": "ipython3",
   "version": "3.7.7"
  },
  "toc": {
   "base_numbering": 1,
   "nav_menu": {},
   "number_sections": true,
   "sideBar": false,
   "skip_h1_title": false,
   "title_cell": "Table of Contents",
   "title_sidebar": "Contents",
   "toc_cell": false,
   "toc_position": {
    "height": "896.667px",
    "left": "1767px",
    "top": "111.444px",
    "width": "260.764px"
   },
   "toc_section_display": true,
   "toc_window_display": true
  },
  "varInspector": {
   "cols": {
    "lenName": 16,
    "lenType": 16,
    "lenVar": 40
   },
   "kernels_config": {
    "python": {
     "delete_cmd_postfix": "",
     "delete_cmd_prefix": "del ",
     "library": "var_list.py",
     "varRefreshCmd": "print(var_dic_list())"
    },
    "r": {
     "delete_cmd_postfix": ") ",
     "delete_cmd_prefix": "rm(",
     "library": "var_list.r",
     "varRefreshCmd": "cat(var_dic_list()) "
    }
   },
   "types_to_exclude": [
    "module",
    "function",
    "builtin_function_or_method",
    "instance",
    "_Feature"
   ],
   "window_display": false
  }
 },
 "nbformat": 4,
 "nbformat_minor": 4
}
